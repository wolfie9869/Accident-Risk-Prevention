{
 "cells": [
  {
   "cell_type": "markdown",
   "metadata": {},
   "source": [
    " <h1>PRE PROCESSING AND EDA</h1>"
   ]
  },
  {
   "cell_type": "code",
   "execution_count": 2,
   "metadata": {
    "colab": {},
    "colab_type": "code",
    "id": "smHJXOQ9Xo3v"
   },
   "outputs": [],
   "source": [
    "import numpy as np\n",
    "import pandas as pd\n",
    "import matplotlib.pyplot as plt\n",
    "import seaborn as sns\n",
    "import datetime\n",
    "%matplotlib inline\n",
    "from mpl_toolkits.mplot3d import Axes3D\n",
    "from sklearn.preprocessing import StandardScaler"
   ]
  },
  {
   "cell_type": "code",
   "execution_count": 3,
   "metadata": {
    "colab": {},
    "colab_type": "code",
    "id": "cWb9XjzJX5N5"
   },
   "outputs": [],
   "source": [
    "df=pd.read_csv('US_Accidents_Dec20_Updated.csv')"
   ]
  },
  {
   "cell_type": "code",
   "execution_count": 4,
   "metadata": {
    "colab": {
     "base_uri": "https://localhost:8080/",
     "height": 217
    },
    "colab_type": "code",
    "executionInfo": {
     "elapsed": 507,
     "status": "ok",
     "timestamp": 1574793204898,
     "user": {
      "displayName": "NAGA JANAKI DWADASI",
      "photoUrl": "https://lh3.googleusercontent.com/a-/AAuE7mCNnPs8hHiSyLFfbrAUCvgot0jtHt9mljptGxPY=s64",
      "userId": "13815192769009517919"
     },
     "user_tz": 480
    },
    "id": "57YckfL3X8xM",
    "outputId": "c7f6fa92-d2e5-49f5-d5c9-561eb4ccebf0"
   },
   "outputs": [
    {
     "data": {
      "text/plain": [
       "Index(['ID', 'Severity', 'Start_Time', 'End_Time', 'Start_Lat', 'Start_Lng',\n",
       "       'End_Lat', 'End_Lng', 'Distance(mi)', 'Description', 'Number', 'Street',\n",
       "       'Side', 'City', 'County', 'State', 'Zipcode', 'Country', 'Timezone',\n",
       "       'Airport_Code', 'Weather_Timestamp', 'Temperature(F)', 'Wind_Chill(F)',\n",
       "       'Humidity(%)', 'Pressure(in)', 'Visibility(mi)', 'Wind_Direction',\n",
       "       'Wind_Speed(mph)', 'Precipitation(in)', 'Weather_Condition', 'Amenity',\n",
       "       'Bump', 'Crossing', 'Give_Way', 'Junction', 'No_Exit', 'Railway',\n",
       "       'Roundabout', 'Station', 'Stop', 'Traffic_Calming', 'Traffic_Signal',\n",
       "       'Turning_Loop', 'Sunrise_Sunset', 'Civil_Twilight', 'Nautical_Twilight',\n",
       "       'Astronomical_Twilight'],\n",
       "      dtype='object')"
      ]
     },
     "execution_count": 4,
     "metadata": {},
     "output_type": "execute_result"
    }
   ],
   "source": [
    "df.columns"
   ]
  },
  {
   "cell_type": "code",
   "execution_count": 5,
   "metadata": {
    "colab": {
     "base_uri": "https://localhost:8080/",
     "height": 920
    },
    "colab_type": "code",
    "executionInfo": {
     "elapsed": 21580,
     "status": "ok",
     "timestamp": 1574737038538,
     "user": {
      "displayName": "NAGA JANAKI DWADASI",
      "photoUrl": "https://lh3.googleusercontent.com/a-/AAuE7mCNnPs8hHiSyLFfbrAUCvgot0jtHt9mljptGxPY=s64",
      "userId": "13815192769009517919"
     },
     "user_tz": 480
    },
    "id": "k01SUYvDYkg9",
    "outputId": "6589b049-7c97-45a1-b6eb-a54bf5526640"
   },
   "outputs": [
    {
     "name": "stdout",
     "output_type": "stream",
     "text": [
      "<class 'pandas.core.frame.DataFrame'>\n",
      "RangeIndex: 1516064 entries, 0 to 1516063\n",
      "Data columns (total 47 columns):\n",
      " #   Column                 Non-Null Count    Dtype  \n",
      "---  ------                 --------------    -----  \n",
      " 0   ID                     1516064 non-null  object \n",
      " 1   Severity               1516064 non-null  int64  \n",
      " 2   Start_Time             1516064 non-null  object \n",
      " 3   End_Time               1516064 non-null  object \n",
      " 4   Start_Lat              1516064 non-null  float64\n",
      " 5   Start_Lng              1516064 non-null  float64\n",
      " 6   End_Lat                1516064 non-null  float64\n",
      " 7   End_Lng                1516064 non-null  float64\n",
      " 8   Distance(mi)           1516064 non-null  float64\n",
      " 9   Description            1516064 non-null  object \n",
      " 10  Number                 469969 non-null   float64\n",
      " 11  Street                 1516064 non-null  object \n",
      " 12  Side                   1516064 non-null  object \n",
      " 13  City                   1515981 non-null  object \n",
      " 14  County                 1516064 non-null  object \n",
      " 15  State                  1516064 non-null  object \n",
      " 16  Zipcode                1515129 non-null  object \n",
      " 17  Country                1516064 non-null  object \n",
      " 18  Timezone               1513762 non-null  object \n",
      " 19  Airport_Code           1511816 non-null  object \n",
      " 20  Weather_Timestamp      1485800 non-null  object \n",
      " 21  Temperature(F)         1473031 non-null  float64\n",
      " 22  Wind_Chill(F)          1066748 non-null  float64\n",
      " 23  Humidity(%)            1470555 non-null  float64\n",
      " 24  Pressure(in)           1479790 non-null  float64\n",
      " 25  Visibility(mi)         1471853 non-null  float64\n",
      " 26  Wind_Direction         1474206 non-null  object \n",
      " 27  Wind_Speed(mph)        1387202 non-null  float64\n",
      " 28  Precipitation(in)      1005515 non-null  float64\n",
      " 29  Weather_Condition      1472057 non-null  object \n",
      " 30  Amenity                1516064 non-null  bool   \n",
      " 31  Bump                   1516064 non-null  bool   \n",
      " 32  Crossing               1516064 non-null  bool   \n",
      " 33  Give_Way               1516064 non-null  bool   \n",
      " 34  Junction               1516064 non-null  bool   \n",
      " 35  No_Exit                1516064 non-null  bool   \n",
      " 36  Railway                1516064 non-null  bool   \n",
      " 37  Roundabout             1516064 non-null  bool   \n",
      " 38  Station                1516064 non-null  bool   \n",
      " 39  Stop                   1516064 non-null  bool   \n",
      " 40  Traffic_Calming        1516064 non-null  bool   \n",
      " 41  Traffic_Signal         1516064 non-null  bool   \n",
      " 42  Turning_Loop           1516064 non-null  bool   \n",
      " 43  Sunrise_Sunset         1515981 non-null  object \n",
      " 44  Civil_Twilight         1515981 non-null  object \n",
      " 45  Nautical_Twilight      1515981 non-null  object \n",
      " 46  Astronomical_Twilight  1515981 non-null  object \n",
      "dtypes: bool(13), float64(13), int64(1), object(20)\n",
      "memory usage: 412.1+ MB\n"
     ]
    }
   ],
   "source": [
    "df.info()"
   ]
  },
  {
   "cell_type": "code",
   "execution_count": 6,
   "metadata": {
    "colab": {
     "base_uri": "https://localhost:8080/",
     "height": 853
    },
    "colab_type": "code",
    "executionInfo": {
     "elapsed": 44840,
     "status": "ok",
     "timestamp": 1574737061844,
     "user": {
      "displayName": "NAGA JANAKI DWADASI",
      "photoUrl": "https://lh3.googleusercontent.com/a-/AAuE7mCNnPs8hHiSyLFfbrAUCvgot0jtHt9mljptGxPY=s64",
      "userId": "13815192769009517919"
     },
     "user_tz": 480
    },
    "id": "knb_6BYJYrfA",
    "outputId": "7ea3cf05-f695-48ca-b2d7-960bde0ed500"
   },
   "outputs": [
    {
     "data": {
      "text/plain": [
       "ID                       1516064\n",
       "Severity                       4\n",
       "Start_Time               1037092\n",
       "End_Time                 1161415\n",
       "Start_Lat                 590611\n",
       "Start_Lng                 603369\n",
       "End_Lat                   587824\n",
       "End_Lng                   599916\n",
       "Distance(mi)               11514\n",
       "Description               527655\n",
       "Number                     37592\n",
       "Street                     93048\n",
       "Side                           2\n",
       "City                       10657\n",
       "County                      1671\n",
       "State                         49\n",
       "Zipcode                   177196\n",
       "Country                        1\n",
       "Timezone                       4\n",
       "Airport_Code                1985\n",
       "Weather_Timestamp         331748\n",
       "Temperature(F)               775\n",
       "Wind_Chill(F)                883\n",
       "Humidity(%)                  100\n",
       "Pressure(in)                1007\n",
       "Visibility(mi)                74\n",
       "Wind_Direction                24\n",
       "Wind_Speed(mph)              121\n",
       "Precipitation(in)            187\n",
       "Weather_Condition            116\n",
       "Amenity                        2\n",
       "Bump                           2\n",
       "Crossing                       2\n",
       "Give_Way                       2\n",
       "Junction                       2\n",
       "No_Exit                        2\n",
       "Railway                        2\n",
       "Roundabout                     2\n",
       "Station                        2\n",
       "Stop                           2\n",
       "Traffic_Calming                2\n",
       "Traffic_Signal                 2\n",
       "Turning_Loop                   1\n",
       "Sunrise_Sunset                 2\n",
       "Civil_Twilight                 2\n",
       "Nautical_Twilight              2\n",
       "Astronomical_Twilight          2\n",
       "dtype: int64"
      ]
     },
     "execution_count": 6,
     "metadata": {},
     "output_type": "execute_result"
    }
   ],
   "source": [
    "df.nunique()"
   ]
  },
  {
   "cell_type": "code",
   "execution_count": 7,
   "metadata": {
    "colab": {
     "base_uri": "https://localhost:8080/",
     "height": 517
    },
    "colab_type": "code",
    "executionInfo": {
     "elapsed": 44808,
     "status": "ok",
     "timestamp": 1574737061847,
     "user": {
      "displayName": "NAGA JANAKI DWADASI",
      "photoUrl": "https://lh3.googleusercontent.com/a-/AAuE7mCNnPs8hHiSyLFfbrAUCvgot0jtHt9mljptGxPY=s64",
      "userId": "13815192769009517919"
     },
     "user_tz": 480
    },
    "id": "rpiHS0W7Y083",
    "outputId": "74346ca7-fb3a-4783-e8fa-3e85dac85e15"
   },
   "outputs": [
    {
     "data": {
      "text/html": [
       "<div>\n",
       "<style scoped>\n",
       "    .dataframe tbody tr th:only-of-type {\n",
       "        vertical-align: middle;\n",
       "    }\n",
       "\n",
       "    .dataframe tbody tr th {\n",
       "        vertical-align: top;\n",
       "    }\n",
       "\n",
       "    .dataframe thead th {\n",
       "        text-align: right;\n",
       "    }\n",
       "</style>\n",
       "<table border=\"1\" class=\"dataframe\">\n",
       "  <thead>\n",
       "    <tr style=\"text-align: right;\">\n",
       "      <th></th>\n",
       "      <th>ID</th>\n",
       "      <th>Severity</th>\n",
       "      <th>Start_Time</th>\n",
       "      <th>End_Time</th>\n",
       "      <th>Start_Lat</th>\n",
       "      <th>Start_Lng</th>\n",
       "      <th>End_Lat</th>\n",
       "      <th>End_Lng</th>\n",
       "      <th>Distance(mi)</th>\n",
       "      <th>Description</th>\n",
       "      <th>...</th>\n",
       "      <th>Roundabout</th>\n",
       "      <th>Station</th>\n",
       "      <th>Stop</th>\n",
       "      <th>Traffic_Calming</th>\n",
       "      <th>Traffic_Signal</th>\n",
       "      <th>Turning_Loop</th>\n",
       "      <th>Sunrise_Sunset</th>\n",
       "      <th>Civil_Twilight</th>\n",
       "      <th>Nautical_Twilight</th>\n",
       "      <th>Astronomical_Twilight</th>\n",
       "    </tr>\n",
       "  </thead>\n",
       "  <tbody>\n",
       "    <tr>\n",
       "      <th>0</th>\n",
       "      <td>A-2716600</td>\n",
       "      <td>3</td>\n",
       "      <td>2016-02-08 00:37:08</td>\n",
       "      <td>2016-02-08 06:37:08</td>\n",
       "      <td>40.10891</td>\n",
       "      <td>-83.09286</td>\n",
       "      <td>40.11206</td>\n",
       "      <td>-83.03187</td>\n",
       "      <td>3.230</td>\n",
       "      <td>Between Sawmill Rd/Exit 20 and OH-315/Olentang...</td>\n",
       "      <td>...</td>\n",
       "      <td>False</td>\n",
       "      <td>False</td>\n",
       "      <td>False</td>\n",
       "      <td>False</td>\n",
       "      <td>False</td>\n",
       "      <td>False</td>\n",
       "      <td>Night</td>\n",
       "      <td>Night</td>\n",
       "      <td>Night</td>\n",
       "      <td>Night</td>\n",
       "    </tr>\n",
       "    <tr>\n",
       "      <th>1</th>\n",
       "      <td>A-2716601</td>\n",
       "      <td>2</td>\n",
       "      <td>2016-02-08 05:56:20</td>\n",
       "      <td>2016-02-08 11:56:20</td>\n",
       "      <td>39.86542</td>\n",
       "      <td>-84.06280</td>\n",
       "      <td>39.86501</td>\n",
       "      <td>-84.04873</td>\n",
       "      <td>0.747</td>\n",
       "      <td>At OH-4/OH-235/Exit 41 - Accident.</td>\n",
       "      <td>...</td>\n",
       "      <td>False</td>\n",
       "      <td>False</td>\n",
       "      <td>False</td>\n",
       "      <td>False</td>\n",
       "      <td>False</td>\n",
       "      <td>False</td>\n",
       "      <td>Night</td>\n",
       "      <td>Night</td>\n",
       "      <td>Night</td>\n",
       "      <td>Night</td>\n",
       "    </tr>\n",
       "    <tr>\n",
       "      <th>2</th>\n",
       "      <td>A-2716602</td>\n",
       "      <td>2</td>\n",
       "      <td>2016-02-08 06:15:39</td>\n",
       "      <td>2016-02-08 12:15:39</td>\n",
       "      <td>39.10266</td>\n",
       "      <td>-84.52468</td>\n",
       "      <td>39.10209</td>\n",
       "      <td>-84.52396</td>\n",
       "      <td>0.055</td>\n",
       "      <td>At I-71/US-50/Exit 1 - Accident.</td>\n",
       "      <td>...</td>\n",
       "      <td>False</td>\n",
       "      <td>False</td>\n",
       "      <td>False</td>\n",
       "      <td>False</td>\n",
       "      <td>False</td>\n",
       "      <td>False</td>\n",
       "      <td>Night</td>\n",
       "      <td>Night</td>\n",
       "      <td>Night</td>\n",
       "      <td>Day</td>\n",
       "    </tr>\n",
       "    <tr>\n",
       "      <th>3</th>\n",
       "      <td>A-2716603</td>\n",
       "      <td>2</td>\n",
       "      <td>2016-02-08 06:15:39</td>\n",
       "      <td>2016-02-08 12:15:39</td>\n",
       "      <td>39.10148</td>\n",
       "      <td>-84.52341</td>\n",
       "      <td>39.09841</td>\n",
       "      <td>-84.52241</td>\n",
       "      <td>0.219</td>\n",
       "      <td>At I-71/US-50/Exit 1 - Accident.</td>\n",
       "      <td>...</td>\n",
       "      <td>False</td>\n",
       "      <td>False</td>\n",
       "      <td>False</td>\n",
       "      <td>False</td>\n",
       "      <td>False</td>\n",
       "      <td>False</td>\n",
       "      <td>Night</td>\n",
       "      <td>Night</td>\n",
       "      <td>Night</td>\n",
       "      <td>Day</td>\n",
       "    </tr>\n",
       "    <tr>\n",
       "      <th>4</th>\n",
       "      <td>A-2716604</td>\n",
       "      <td>2</td>\n",
       "      <td>2016-02-08 06:51:45</td>\n",
       "      <td>2016-02-08 12:51:45</td>\n",
       "      <td>41.06213</td>\n",
       "      <td>-81.53784</td>\n",
       "      <td>41.06217</td>\n",
       "      <td>-81.53547</td>\n",
       "      <td>0.123</td>\n",
       "      <td>At Dart Ave/Exit 21 - Accident.</td>\n",
       "      <td>...</td>\n",
       "      <td>False</td>\n",
       "      <td>False</td>\n",
       "      <td>False</td>\n",
       "      <td>False</td>\n",
       "      <td>False</td>\n",
       "      <td>False</td>\n",
       "      <td>Night</td>\n",
       "      <td>Night</td>\n",
       "      <td>Day</td>\n",
       "      <td>Day</td>\n",
       "    </tr>\n",
       "  </tbody>\n",
       "</table>\n",
       "<p>5 rows × 47 columns</p>\n",
       "</div>"
      ],
      "text/plain": [
       "          ID  Severity           Start_Time             End_Time  Start_Lat  \\\n",
       "0  A-2716600         3  2016-02-08 00:37:08  2016-02-08 06:37:08   40.10891   \n",
       "1  A-2716601         2  2016-02-08 05:56:20  2016-02-08 11:56:20   39.86542   \n",
       "2  A-2716602         2  2016-02-08 06:15:39  2016-02-08 12:15:39   39.10266   \n",
       "3  A-2716603         2  2016-02-08 06:15:39  2016-02-08 12:15:39   39.10148   \n",
       "4  A-2716604         2  2016-02-08 06:51:45  2016-02-08 12:51:45   41.06213   \n",
       "\n",
       "   Start_Lng   End_Lat   End_Lng  Distance(mi)  \\\n",
       "0  -83.09286  40.11206 -83.03187         3.230   \n",
       "1  -84.06280  39.86501 -84.04873         0.747   \n",
       "2  -84.52468  39.10209 -84.52396         0.055   \n",
       "3  -84.52341  39.09841 -84.52241         0.219   \n",
       "4  -81.53784  41.06217 -81.53547         0.123   \n",
       "\n",
       "                                         Description  ...  Roundabout Station  \\\n",
       "0  Between Sawmill Rd/Exit 20 and OH-315/Olentang...  ...       False   False   \n",
       "1                 At OH-4/OH-235/Exit 41 - Accident.  ...       False   False   \n",
       "2                   At I-71/US-50/Exit 1 - Accident.  ...       False   False   \n",
       "3                   At I-71/US-50/Exit 1 - Accident.  ...       False   False   \n",
       "4                    At Dart Ave/Exit 21 - Accident.  ...       False   False   \n",
       "\n",
       "    Stop Traffic_Calming Traffic_Signal Turning_Loop Sunrise_Sunset  \\\n",
       "0  False           False          False        False          Night   \n",
       "1  False           False          False        False          Night   \n",
       "2  False           False          False        False          Night   \n",
       "3  False           False          False        False          Night   \n",
       "4  False           False          False        False          Night   \n",
       "\n",
       "  Civil_Twilight Nautical_Twilight Astronomical_Twilight  \n",
       "0          Night             Night                 Night  \n",
       "1          Night             Night                 Night  \n",
       "2          Night             Night                   Day  \n",
       "3          Night             Night                   Day  \n",
       "4          Night               Day                   Day  \n",
       "\n",
       "[5 rows x 47 columns]"
      ]
     },
     "execution_count": 7,
     "metadata": {},
     "output_type": "execute_result"
    }
   ],
   "source": [
    "df.head()"
   ]
  },
  {
   "cell_type": "code",
   "execution_count": 8,
   "metadata": {
    "colab": {
     "base_uri": "https://localhost:8080/",
     "height": 292
    },
    "colab_type": "code",
    "executionInfo": {
     "elapsed": 45165,
     "status": "ok",
     "timestamp": 1574737062224,
     "user": {
      "displayName": "NAGA JANAKI DWADASI",
      "photoUrl": "https://lh3.googleusercontent.com/a-/AAuE7mCNnPs8hHiSyLFfbrAUCvgot0jtHt9mljptGxPY=s64",
      "userId": "13815192769009517919"
     },
     "user_tz": 480
    },
    "id": "Q6Qb5Zw3ZFwA",
    "outputId": "dd739084-d1fe-4066-c7fb-0e54961454e1"
   },
   "outputs": [
    {
     "data": {
      "image/png": "[encoded data removed]",
      "text/plain": [
       "<Figure size 432x288 with 1 Axes>"
      ]
     },
     "metadata": {
      "needs_background": "light"
     },
     "output_type": "display_data"
    }
   ],
   "source": [
    "df.Severity.value_counts(normalize=True).sort_index().plot.bar()\n",
    "plt.grid()\n",
    "plt.title('Severity')\n",
    "plt.xlabel('Severity')\n",
    "plt.ylabel('Fraction');"
   ]
  },
  {
   "cell_type": "code",
   "execution_count": 9,
   "metadata": {
    "colab": {
     "base_uri": "https://localhost:8080/",
     "height": 33
    },
    "colab_type": "code",
    "executionInfo": {
     "elapsed": 45150,
     "status": "ok",
     "timestamp": 1574737062226,
     "user": {
      "displayName": "NAGA JANAKI DWADASI",
      "photoUrl": "https://lh3.googleusercontent.com/a-/AAuE7mCNnPs8hHiSyLFfbrAUCvgot0jtHt9mljptGxPY=s64",
      "userId": "13815192769009517919"
     },
     "user_tz": 480
    },
    "id": "TcSTIMz6ZZri",
    "outputId": "1a430813-a2a2-4351-d43d-22dc978f4f2e"
   },
   "outputs": [
    {
     "name": "stdout",
     "output_type": "stream",
     "text": [
      "There are 88896 non one hot metadata rows, which are 5.9% of the data\n"
     ]
    }
   ],
   "source": [
    "bool_cols = [col for col in df.columns if df[col].dtype ==np.dtype('bool')]\n",
    "booldf = df[bool_cols]\n",
    "not_one_hot = booldf[booldf.sum(axis=1) > 1]\n",
    "print('There are {} non one hot metadata rows, which are {:.1f}% of the data'.format(len(not_one_hot),100*len(not_one_hot)/len(df)))"
   ]
  },
  {
   "cell_type": "code",
   "execution_count": 10,
   "metadata": {
    "colab": {},
    "colab_type": "code",
    "id": "kPcOFXQUZgS6"
   },
   "outputs": [],
   "source": [
    "bools = booldf.sum(axis=0)"
   ]
  },
  {
   "cell_type": "code",
   "execution_count": 11,
   "metadata": {
    "colab": {
     "base_uri": "https://localhost:8080/",
     "height": 754
    },
    "colab_type": "code",
    "executionInfo": {
     "elapsed": 45490,
     "status": "ok",
     "timestamp": 1574737062632,
     "user": {
      "displayName": "NAGA JANAKI DWADASI",
      "photoUrl": "https://lh3.googleusercontent.com/a-/AAuE7mCNnPs8hHiSyLFfbrAUCvgot0jtHt9mljptGxPY=s64",
      "userId": "13815192769009517919"
     },
     "user_tz": 480
    },
    "id": "3hCmMjaSZg4-",
    "outputId": "9756353c-b5b4-4aee-ac19-4a3588f89f67"
   },
   "outputs": [
    {
     "data": {
      "image/png": "[encoded data removed]",
      "text/plain": [
       "<Figure size 936x936 with 1 Axes>"
      ]
     },
     "metadata": {},
     "output_type": "display_data"
    }
   ],
   "source": [
    "bools.plot.pie(figsize=(13,13))\n",
    "plt.ylabel('')\n",
    "plt.title('Proximity to Traffic Object');"
   ]
  },
  {
   "cell_type": "code",
   "execution_count": 12,
   "metadata": {
    "colab": {},
    "colab_type": "code",
    "id": "fzx6qPEOZlvv"
   },
   "outputs": [],
   "source": [
    "st = pd.to_datetime(df.Start_Time, format='%Y-%m-%d %H:%M:%S')\n",
    "end = pd.to_datetime(df.End_Time, format='%Y-%m-%d %H:%M:%S')"
   ]
  },
  {
   "cell_type": "code",
   "execution_count": 13,
   "metadata": {
    "colab": {
     "base_uri": "https://localhost:8080/",
     "height": 873
    },
    "colab_type": "code",
    "executionInfo": {
     "elapsed": 46672,
     "status": "ok",
     "timestamp": 1574737063854,
     "user": {
      "displayName": "NAGA JANAKI DWADASI",
      "photoUrl": "https://lh3.googleusercontent.com/a-/AAuE7mCNnPs8hHiSyLFfbrAUCvgot0jtHt9mljptGxPY=s64",
      "userId": "13815192769009517919"
     },
     "user_tz": 480
    },
    "id": "9YU_FBHCZpFf",
    "outputId": "b5da95b2-2114-4d73-8e0e-4d8491a697eb"
   },
   "outputs": [
    {
     "name": "stdout",
     "output_type": "stream",
     "text": [
      "top 20 accident durations correspond to 59.4% of the data\n"
     ]
    },
    {
     "data": {
      "image/png": "[encoded data removed]",
      "text/plain": [
       "<Figure size 1008x1008 with 1 Axes>"
      ]
     },
     "metadata": {
      "needs_background": "light"
     },
     "output_type": "display_data"
    }
   ],
   "source": [
    "diff = (end-st)\n",
    "top20 = diff.astype('timedelta64[m]').value_counts().nlargest(20)\n",
    "print('top 20 accident durations correspond to {:.1f}% of the data'.format(top20.sum()*100/len(diff)))\n",
    "(top20/top20.sum()).plot.bar(figsize=(14,14))\n",
    "plt.title('Accident Duration [Minutes]')\n",
    "plt.xlabel('Duration [minutes]')\n",
    "plt.ylabel('Fraction');"
   ]
  },
  {
   "cell_type": "code",
   "execution_count": 14,
   "metadata": {
    "colab": {
     "base_uri": "https://localhost:8080/",
     "height": 547
    },
    "colab_type": "code",
    "executionInfo": {
     "elapsed": 47322,
     "status": "ok",
     "timestamp": 1574737064584,
     "user": {
      "displayName": "NAGA JANAKI DWADASI",
      "photoUrl": "https://lh3.googleusercontent.com/a-/AAuE7mCNnPs8hHiSyLFfbrAUCvgot0jtHt9mljptGxPY=s64",
      "userId": "13815192769009517919"
     },
     "user_tz": 480
    },
    "id": "WtXmwkqjZugS",
    "outputId": "89ecca01-c369-4a82-dbb4-a6522f6b86a5"
   },
   "outputs": [
    {
     "data": {
      "text/html": [
       "<div>\n",
       "<style scoped>\n",
       "    .dataframe tbody tr th:only-of-type {\n",
       "        vertical-align: middle;\n",
       "    }\n",
       "\n",
       "    .dataframe tbody tr th {\n",
       "        vertical-align: top;\n",
       "    }\n",
       "\n",
       "    .dataframe thead th {\n",
       "        text-align: right;\n",
       "    }\n",
       "</style>\n",
       "<table border=\"1\" class=\"dataframe\">\n",
       "  <thead>\n",
       "    <tr style=\"text-align: right;\">\n",
       "      <th></th>\n",
       "      <th>ID</th>\n",
       "      <th>Severity</th>\n",
       "      <th>Start_Time</th>\n",
       "      <th>End_Time</th>\n",
       "      <th>Start_Lat</th>\n",
       "      <th>Start_Lng</th>\n",
       "      <th>End_Lat</th>\n",
       "      <th>End_Lng</th>\n",
       "      <th>Distance(mi)</th>\n",
       "      <th>Description</th>\n",
       "      <th>...</th>\n",
       "      <th>Roundabout</th>\n",
       "      <th>Station</th>\n",
       "      <th>Stop</th>\n",
       "      <th>Traffic_Calming</th>\n",
       "      <th>Traffic_Signal</th>\n",
       "      <th>Turning_Loop</th>\n",
       "      <th>Sunrise_Sunset</th>\n",
       "      <th>Civil_Twilight</th>\n",
       "      <th>Nautical_Twilight</th>\n",
       "      <th>Astronomical_Twilight</th>\n",
       "    </tr>\n",
       "    <tr>\n",
       "      <th>time</th>\n",
       "      <th></th>\n",
       "      <th></th>\n",
       "      <th></th>\n",
       "      <th></th>\n",
       "      <th></th>\n",
       "      <th></th>\n",
       "      <th></th>\n",
       "      <th></th>\n",
       "      <th></th>\n",
       "      <th></th>\n",
       "      <th></th>\n",
       "      <th></th>\n",
       "      <th></th>\n",
       "      <th></th>\n",
       "      <th></th>\n",
       "      <th></th>\n",
       "      <th></th>\n",
       "      <th></th>\n",
       "      <th></th>\n",
       "      <th></th>\n",
       "      <th></th>\n",
       "    </tr>\n",
       "  </thead>\n",
       "  <tbody>\n",
       "    <tr>\n",
       "      <th>2016-02-08 00:37:08</th>\n",
       "      <td>A-2716600</td>\n",
       "      <td>3</td>\n",
       "      <td>2016-02-08 00:37:08</td>\n",
       "      <td>2016-02-08 06:37:08</td>\n",
       "      <td>40.10891</td>\n",
       "      <td>-83.09286</td>\n",
       "      <td>40.11206</td>\n",
       "      <td>-83.03187</td>\n",
       "      <td>3.230</td>\n",
       "      <td>Between Sawmill Rd/Exit 20 and OH-315/Olentang...</td>\n",
       "      <td>...</td>\n",
       "      <td>False</td>\n",
       "      <td>False</td>\n",
       "      <td>False</td>\n",
       "      <td>False</td>\n",
       "      <td>False</td>\n",
       "      <td>False</td>\n",
       "      <td>Night</td>\n",
       "      <td>Night</td>\n",
       "      <td>Night</td>\n",
       "      <td>Night</td>\n",
       "    </tr>\n",
       "    <tr>\n",
       "      <th>2016-02-08 05:56:20</th>\n",
       "      <td>A-2716601</td>\n",
       "      <td>2</td>\n",
       "      <td>2016-02-08 05:56:20</td>\n",
       "      <td>2016-02-08 11:56:20</td>\n",
       "      <td>39.86542</td>\n",
       "      <td>-84.06280</td>\n",
       "      <td>39.86501</td>\n",
       "      <td>-84.04873</td>\n",
       "      <td>0.747</td>\n",
       "      <td>At OH-4/OH-235/Exit 41 - Accident.</td>\n",
       "      <td>...</td>\n",
       "      <td>False</td>\n",
       "      <td>False</td>\n",
       "      <td>False</td>\n",
       "      <td>False</td>\n",
       "      <td>False</td>\n",
       "      <td>False</td>\n",
       "      <td>Night</td>\n",
       "      <td>Night</td>\n",
       "      <td>Night</td>\n",
       "      <td>Night</td>\n",
       "    </tr>\n",
       "    <tr>\n",
       "      <th>2016-02-08 06:15:39</th>\n",
       "      <td>A-2716602</td>\n",
       "      <td>2</td>\n",
       "      <td>2016-02-08 06:15:39</td>\n",
       "      <td>2016-02-08 12:15:39</td>\n",
       "      <td>39.10266</td>\n",
       "      <td>-84.52468</td>\n",
       "      <td>39.10209</td>\n",
       "      <td>-84.52396</td>\n",
       "      <td>0.055</td>\n",
       "      <td>At I-71/US-50/Exit 1 - Accident.</td>\n",
       "      <td>...</td>\n",
       "      <td>False</td>\n",
       "      <td>False</td>\n",
       "      <td>False</td>\n",
       "      <td>False</td>\n",
       "      <td>False</td>\n",
       "      <td>False</td>\n",
       "      <td>Night</td>\n",
       "      <td>Night</td>\n",
       "      <td>Night</td>\n",
       "      <td>Day</td>\n",
       "    </tr>\n",
       "    <tr>\n",
       "      <th>2016-02-08 06:15:39</th>\n",
       "      <td>A-2716603</td>\n",
       "      <td>2</td>\n",
       "      <td>2016-02-08 06:15:39</td>\n",
       "      <td>2016-02-08 12:15:39</td>\n",
       "      <td>39.10148</td>\n",
       "      <td>-84.52341</td>\n",
       "      <td>39.09841</td>\n",
       "      <td>-84.52241</td>\n",
       "      <td>0.219</td>\n",
       "      <td>At I-71/US-50/Exit 1 - Accident.</td>\n",
       "      <td>...</td>\n",
       "      <td>False</td>\n",
       "      <td>False</td>\n",
       "      <td>False</td>\n",
       "      <td>False</td>\n",
       "      <td>False</td>\n",
       "      <td>False</td>\n",
       "      <td>Night</td>\n",
       "      <td>Night</td>\n",
       "      <td>Night</td>\n",
       "      <td>Day</td>\n",
       "    </tr>\n",
       "    <tr>\n",
       "      <th>2016-02-08 06:51:45</th>\n",
       "      <td>A-2716604</td>\n",
       "      <td>2</td>\n",
       "      <td>2016-02-08 06:51:45</td>\n",
       "      <td>2016-02-08 12:51:45</td>\n",
       "      <td>41.06213</td>\n",
       "      <td>-81.53784</td>\n",
       "      <td>41.06217</td>\n",
       "      <td>-81.53547</td>\n",
       "      <td>0.123</td>\n",
       "      <td>At Dart Ave/Exit 21 - Accident.</td>\n",
       "      <td>...</td>\n",
       "      <td>False</td>\n",
       "      <td>False</td>\n",
       "      <td>False</td>\n",
       "      <td>False</td>\n",
       "      <td>False</td>\n",
       "      <td>False</td>\n",
       "      <td>Night</td>\n",
       "      <td>Night</td>\n",
       "      <td>Day</td>\n",
       "      <td>Day</td>\n",
       "    </tr>\n",
       "  </tbody>\n",
       "</table>\n",
       "<p>5 rows × 47 columns</p>\n",
       "</div>"
      ],
      "text/plain": [
       "                            ID  Severity           Start_Time  \\\n",
       "time                                                            \n",
       "2016-02-08 00:37:08  A-2716600         3  2016-02-08 00:37:08   \n",
       "2016-02-08 05:56:20  A-2716601         2  2016-02-08 05:56:20   \n",
       "2016-02-08 06:15:39  A-2716602         2  2016-02-08 06:15:39   \n",
       "2016-02-08 06:15:39  A-2716603         2  2016-02-08 06:15:39   \n",
       "2016-02-08 06:51:45  A-2716604         2  2016-02-08 06:51:45   \n",
       "\n",
       "                                End_Time  Start_Lat  Start_Lng   End_Lat  \\\n",
       "time                                                                       \n",
       "2016-02-08 00:37:08  2016-02-08 06:37:08   40.10891  -83.09286  40.11206   \n",
       "2016-02-08 05:56:20  2016-02-08 11:56:20   39.86542  -84.06280  39.86501   \n",
       "2016-02-08 06:15:39  2016-02-08 12:15:39   39.10266  -84.52468  39.10209   \n",
       "2016-02-08 06:15:39  2016-02-08 12:15:39   39.10148  -84.52341  39.09841   \n",
       "2016-02-08 06:51:45  2016-02-08 12:51:45   41.06213  -81.53784  41.06217   \n",
       "\n",
       "                      End_Lng  Distance(mi)  \\\n",
       "time                                          \n",
       "2016-02-08 00:37:08 -83.03187         3.230   \n",
       "2016-02-08 05:56:20 -84.04873         0.747   \n",
       "2016-02-08 06:15:39 -84.52396         0.055   \n",
       "2016-02-08 06:15:39 -84.52241         0.219   \n",
       "2016-02-08 06:51:45 -81.53547         0.123   \n",
       "\n",
       "                                                           Description  ...  \\\n",
       "time                                                                    ...   \n",
       "2016-02-08 00:37:08  Between Sawmill Rd/Exit 20 and OH-315/Olentang...  ...   \n",
       "2016-02-08 05:56:20                 At OH-4/OH-235/Exit 41 - Accident.  ...   \n",
       "2016-02-08 06:15:39                   At I-71/US-50/Exit 1 - Accident.  ...   \n",
       "2016-02-08 06:15:39                   At I-71/US-50/Exit 1 - Accident.  ...   \n",
       "2016-02-08 06:51:45                    At Dart Ave/Exit 21 - Accident.  ...   \n",
       "\n",
       "                     Roundabout Station   Stop Traffic_Calming Traffic_Signal  \\\n",
       "time                                                                            \n",
       "2016-02-08 00:37:08       False   False  False           False          False   \n",
       "2016-02-08 05:56:20       False   False  False           False          False   \n",
       "2016-02-08 06:15:39       False   False  False           False          False   \n",
       "2016-02-08 06:15:39       False   False  False           False          False   \n",
       "2016-02-08 06:51:45       False   False  False           False          False   \n",
       "\n",
       "                    Turning_Loop Sunrise_Sunset Civil_Twilight  \\\n",
       "time                                                             \n",
       "2016-02-08 00:37:08        False          Night          Night   \n",
       "2016-02-08 05:56:20        False          Night          Night   \n",
       "2016-02-08 06:15:39        False          Night          Night   \n",
       "2016-02-08 06:15:39        False          Night          Night   \n",
       "2016-02-08 06:51:45        False          Night          Night   \n",
       "\n",
       "                    Nautical_Twilight Astronomical_Twilight  \n",
       "time                                                         \n",
       "2016-02-08 00:37:08             Night                 Night  \n",
       "2016-02-08 05:56:20             Night                 Night  \n",
       "2016-02-08 06:15:39             Night                   Day  \n",
       "2016-02-08 06:15:39             Night                   Day  \n",
       "2016-02-08 06:51:45               Day                   Day  \n",
       "\n",
       "[5 rows x 47 columns]"
      ]
     },
     "execution_count": 14,
     "metadata": {},
     "output_type": "execute_result"
    }
   ],
   "source": [
    "df['time'] = pd.to_datetime(df.Start_Time, format='%Y-%m-%d %H:%M:%S')\n",
    "df = df.set_index('time')\n",
    "df.head()"
   ]
  },
  {
   "cell_type": "code",
   "execution_count": 15,
   "metadata": {
    "colab": {
     "base_uri": "https://localhost:8080/",
     "height": 470
    },
    "colab_type": "code",
    "executionInfo": {
     "elapsed": 51612,
     "status": "ok",
     "timestamp": 1574737068898,
     "user": {
      "displayName": "NAGA JANAKI DWADASI",
      "photoUrl": "https://lh3.googleusercontent.com/a-/AAuE7mCNnPs8hHiSyLFfbrAUCvgot0jtHt9mljptGxPY=s64",
      "userId": "13815192769009517919"
     },
     "user_tz": 480
    },
    "id": "34-ebzTJZx2p",
    "outputId": "a1691fe4-72b7-4c9e-c923-ea04cce3b9d0"
   },
   "outputs": [
    {
     "name": "stderr",
     "output_type": "stream",
     "text": [
      "<ipython-input-15-39a10e5ddb97>:5: FutureWarning: Value based partial slicing on non-monotonic DatetimeIndexes with non-existing keys is deprecated and will raise a KeyError in a future Version.\n",
      "  sample = df.ID['2016':].resample(fr).count()\n",
      "<ipython-input-15-39a10e5ddb97>:5: FutureWarning: Value based partial slicing on non-monotonic DatetimeIndexes with non-existing keys is deprecated and will raise a KeyError in a future Version.\n",
      "  sample = df.ID['2016':].resample(fr).count()\n",
      "<ipython-input-15-39a10e5ddb97>:5: FutureWarning: Value based partial slicing on non-monotonic DatetimeIndexes with non-existing keys is deprecated and will raise a KeyError in a future Version.\n",
      "  sample = df.ID['2016':].resample(fr).count()\n"
     ]
    },
    {
     "data": {
      "image/png": "[encoded data removed]",
      "text/plain": [
       "<Figure size 1512x504 with 3 Axes>"
      ]
     },
     "metadata": {
      "needs_background": "light"
     },
     "output_type": "display_data"
    }
   ],
   "source": [
    "freq_text = {'D':'Daily','W':'Weekly','Y':'Yearly'}\n",
    "plt.subplots(1,3,figsize=(21,7))\n",
    "for i, (fr,text) in enumerate(freq_text.items(),1):\n",
    "    plt.subplot(1,3,i)\n",
    "    sample = df.ID['2016':].resample(fr).count()\n",
    "    sample.plot(style='.')\n",
    "    plt.title('Accidents, {} count'.format(text))\n",
    "    plt.xlabel('Date')\n",
    "    plt.ylabel('Accident Count');"
   ]
  },
  {
   "cell_type": "code",
   "execution_count": 16,
   "metadata": {
    "colab": {
     "base_uri": "https://localhost:8080/",
     "height": 504
    },
    "colab_type": "code",
    "executionInfo": {
     "elapsed": 53697,
     "status": "ok",
     "timestamp": 1574737071009,
     "user": {
      "displayName": "NAGA JANAKI DWADASI",
      "photoUrl": "https://lh3.googleusercontent.com/a-/AAuE7mCNnPs8hHiSyLFfbrAUCvgot0jtHt9mljptGxPY=s64",
      "userId": "13815192769009517919"
     },
     "user_tz": 480
    },
    "id": "6DhaaLriZ0jq",
    "outputId": "21fbd309-8ad7-46fa-d616-ba7eb4da03d3"
   },
   "outputs": [
    {
     "data": {
      "image/png": "[encoded data removed]",
      "text/plain": [
       "<Figure size 1512x504 with 3 Axes>"
      ]
     },
     "metadata": {
      "needs_background": "light"
     },
     "output_type": "display_data"
    }
   ],
   "source": [
    "years = ['2016','2017','2018']\n",
    "fig, _ = plt.subplots(1,3,figsize=(21,7), sharex='all', sharey='all')\n",
    "\n",
    "fig.suptitle('Acccidents by month for Different Years')\n",
    "plt.xlabel('month')\n",
    "plt.ylabel('Accidents')\n",
    "for i, year in enumerate(years,1):\n",
    "    plt.subplot(1,3,i)\n",
    "    sample = df.loc[year].ID.resample('M').count()\n",
    "    sample.plot()\n",
    "    plt.ylim(0,100000)\n",
    "    plt.title('Accidents, {} count'.format(text))\n",
    "    plt.xlabel('Date')\n",
    "    plt.ylabel('Accident Count');"
   ]
  },
  {
   "cell_type": "code",
   "execution_count": 17,
   "metadata": {
    "colab": {},
    "colab_type": "code",
    "id": "yyAefGB-aDwZ"
   },
   "outputs": [],
   "source": [
    "def plotCorrelationMatrix(df, graphWidth):\n",
    "    df = df.dropna('columns') # drop columns with NaN\n",
    "    df = df[[col for col in df if df[col].nunique() > 1]] # keep columns where there are more than 1 unique values\n",
    "    if df.shape[1] < 2:\n",
    "        print(f'No correlation plots shown: The number of non-NaN or constant columns ({df.shape[1]}) is less than 2')\n",
    "        return\n",
    "    corr = df.corr()\n",
    "    plt.figure(num=None, figsize=(graphWidth, graphWidth), dpi=80, facecolor='w', edgecolor='k')\n",
    "    corrMat = plt.matshow(corr, fignum = 1)\n",
    "    plt.xticks(range(len(corr.columns)), corr.columns, rotation=90)\n",
    "    plt.yticks(range(len(corr.columns)), corr.columns)\n",
    "    plt.gca().xaxis.tick_bottom()\n",
    "    plt.colorbar(corrMat)\n",
    "    plt.title('Correlation Matrix, fontsize=15')\n",
    "    plt.show()"
   ]
  },
  {
   "cell_type": "code",
   "execution_count": 18,
   "metadata": {
    "colab": {
     "base_uri": "https://localhost:8080/",
     "height": 565
    },
    "colab_type": "code",
    "executionInfo": {
     "elapsed": 74128,
     "status": "ok",
     "timestamp": 1574737091551,
     "user": {
      "displayName": "NAGA JANAKI DWADASI",
      "photoUrl": "https://lh3.googleusercontent.com/a-/AAuE7mCNnPs8hHiSyLFfbrAUCvgot0jtHt9mljptGxPY=s64",
      "userId": "13815192769009517919"
     },
     "user_tz": 480
    },
    "id": "xa6QFFQSaIzL",
    "outputId": "b1a5145e-898f-43d4-e877-6d23afd8da9b"
   },
   "outputs": [
    {
     "data": {
      "image/png": "[encoded data removed]",
      "text/plain": [
       "<Figure size 640x640 with 2 Axes>"
      ]
     },
     "metadata": {},
     "output_type": "display_data"
    }
   ],
   "source": [
    "plotCorrelationMatrix(df, 8)"
   ]
  },
  {
   "cell_type": "code",
   "execution_count": 19,
   "metadata": {
    "colab": {},
    "colab_type": "code",
    "id": "qDijW7SgaMyn"
   },
   "outputs": [],
   "source": [
    "df1 = df"
   ]
  },
  {
   "cell_type": "code",
   "execution_count": 20,
   "metadata": {
    "colab": {
     "base_uri": "https://localhost:8080/",
     "height": 853
    },
    "colab_type": "code",
    "executionInfo": {
     "elapsed": 2030,
     "status": "ok",
     "timestamp": 1574793229411,
     "user": {
      "displayName": "NAGA JANAKI DWADASI",
      "photoUrl": "https://lh3.googleusercontent.com/a-/AAuE7mCNnPs8hHiSyLFfbrAUCvgot0jtHt9mljptGxPY=s64",
      "userId": "13815192769009517919"
     },
     "user_tz": 480
    },
    "id": "pILyby0sdO1i",
    "outputId": "87b96854-0575-4a89-dbde-93b3091cf3a9"
   },
   "outputs": [
    {
     "data": {
      "text/plain": [
       "ID                             0\n",
       "Severity                       0\n",
       "Start_Time                     0\n",
       "End_Time                       0\n",
       "Start_Lat                      0\n",
       "Start_Lng                      0\n",
       "End_Lat                        0\n",
       "End_Lng                        0\n",
       "Distance(mi)                   0\n",
       "Description                    0\n",
       "Number                   1046095\n",
       "Street                         0\n",
       "Side                           0\n",
       "City                          83\n",
       "County                         0\n",
       "State                          0\n",
       "Zipcode                      935\n",
       "Country                        0\n",
       "Timezone                    2302\n",
       "Airport_Code                4248\n",
       "Weather_Timestamp          30264\n",
       "Temperature(F)             43033\n",
       "Wind_Chill(F)             449316\n",
       "Humidity(%)                45509\n",
       "Pressure(in)               36274\n",
       "Visibility(mi)             44211\n",
       "Wind_Direction             41858\n",
       "Wind_Speed(mph)           128862\n",
       "Precipitation(in)         510549\n",
       "Weather_Condition          44007\n",
       "Amenity                        0\n",
       "Bump                           0\n",
       "Crossing                       0\n",
       "Give_Way                       0\n",
       "Junction                       0\n",
       "No_Exit                        0\n",
       "Railway                        0\n",
       "Roundabout                     0\n",
       "Station                        0\n",
       "Stop                           0\n",
       "Traffic_Calming                0\n",
       "Traffic_Signal                 0\n",
       "Turning_Loop                   0\n",
       "Sunrise_Sunset                83\n",
       "Civil_Twilight                83\n",
       "Nautical_Twilight             83\n",
       "Astronomical_Twilight         83\n",
       "dtype: int64"
      ]
     },
     "execution_count": 20,
     "metadata": {},
     "output_type": "execute_result"
    }
   ],
   "source": [
    "df1.isnull().sum()"
   ]
  },
  {
   "cell_type": "code",
   "execution_count": 21,
   "metadata": {
    "colab": {
     "base_uri": "https://localhost:8080/",
     "height": 1000
    },
    "colab_type": "code",
    "executionInfo": {
     "elapsed": 948,
     "status": "ok",
     "timestamp": 1574793242581,
     "user": {
      "displayName": "NAGA JANAKI DWADASI",
      "photoUrl": "https://lh3.googleusercontent.com/a-/AAuE7mCNnPs8hHiSyLFfbrAUCvgot0jtHt9mljptGxPY=s64",
      "userId": "13815192769009517919"
     },
     "user_tz": 480
    },
    "id": "YvjUFE15juWZ",
    "outputId": "adc9ee22-96a1-4bd3-f9ce-652f89225640"
   },
   "outputs": [
    {
     "data": {
      "text/html": [
       "<div>\n",
       "<style scoped>\n",
       "    .dataframe tbody tr th:only-of-type {\n",
       "        vertical-align: middle;\n",
       "    }\n",
       "\n",
       "    .dataframe tbody tr th {\n",
       "        vertical-align: top;\n",
       "    }\n",
       "\n",
       "    .dataframe thead th {\n",
       "        text-align: right;\n",
       "    }\n",
       "</style>\n",
       "<table border=\"1\" class=\"dataframe\">\n",
       "  <thead>\n",
       "    <tr style=\"text-align: right;\">\n",
       "      <th></th>\n",
       "      <th>ID</th>\n",
       "      <th>Severity</th>\n",
       "      <th>Start_Time</th>\n",
       "      <th>End_Time</th>\n",
       "      <th>Start_Lat</th>\n",
       "      <th>Start_Lng</th>\n",
       "      <th>End_Lat</th>\n",
       "      <th>End_Lng</th>\n",
       "      <th>Distance(mi)</th>\n",
       "      <th>Description</th>\n",
       "      <th>...</th>\n",
       "      <th>Roundabout</th>\n",
       "      <th>Station</th>\n",
       "      <th>Stop</th>\n",
       "      <th>Traffic_Calming</th>\n",
       "      <th>Traffic_Signal</th>\n",
       "      <th>Turning_Loop</th>\n",
       "      <th>Sunrise_Sunset</th>\n",
       "      <th>Civil_Twilight</th>\n",
       "      <th>Nautical_Twilight</th>\n",
       "      <th>Astronomical_Twilight</th>\n",
       "    </tr>\n",
       "    <tr>\n",
       "      <th>time</th>\n",
       "      <th></th>\n",
       "      <th></th>\n",
       "      <th></th>\n",
       "      <th></th>\n",
       "      <th></th>\n",
       "      <th></th>\n",
       "      <th></th>\n",
       "      <th></th>\n",
       "      <th></th>\n",
       "      <th></th>\n",
       "      <th></th>\n",
       "      <th></th>\n",
       "      <th></th>\n",
       "      <th></th>\n",
       "      <th></th>\n",
       "      <th></th>\n",
       "      <th></th>\n",
       "      <th></th>\n",
       "      <th></th>\n",
       "      <th></th>\n",
       "      <th></th>\n",
       "    </tr>\n",
       "  </thead>\n",
       "  <tbody>\n",
       "    <tr>\n",
       "      <th>2016-02-08 00:37:08</th>\n",
       "      <td>A-2716600</td>\n",
       "      <td>3</td>\n",
       "      <td>2016-02-08 00:37:08</td>\n",
       "      <td>2016-02-08 06:37:08</td>\n",
       "      <td>40.10891</td>\n",
       "      <td>-83.09286</td>\n",
       "      <td>40.11206</td>\n",
       "      <td>-83.03187</td>\n",
       "      <td>3.230</td>\n",
       "      <td>Between Sawmill Rd/Exit 20 and OH-315/Olentang...</td>\n",
       "      <td>...</td>\n",
       "      <td>False</td>\n",
       "      <td>False</td>\n",
       "      <td>False</td>\n",
       "      <td>False</td>\n",
       "      <td>False</td>\n",
       "      <td>False</td>\n",
       "      <td>Night</td>\n",
       "      <td>Night</td>\n",
       "      <td>Night</td>\n",
       "      <td>Night</td>\n",
       "    </tr>\n",
       "    <tr>\n",
       "      <th>2016-02-08 05:56:20</th>\n",
       "      <td>A-2716601</td>\n",
       "      <td>2</td>\n",
       "      <td>2016-02-08 05:56:20</td>\n",
       "      <td>2016-02-08 11:56:20</td>\n",
       "      <td>39.86542</td>\n",
       "      <td>-84.06280</td>\n",
       "      <td>39.86501</td>\n",
       "      <td>-84.04873</td>\n",
       "      <td>0.747</td>\n",
       "      <td>At OH-4/OH-235/Exit 41 - Accident.</td>\n",
       "      <td>...</td>\n",
       "      <td>False</td>\n",
       "      <td>False</td>\n",
       "      <td>False</td>\n",
       "      <td>False</td>\n",
       "      <td>False</td>\n",
       "      <td>False</td>\n",
       "      <td>Night</td>\n",
       "      <td>Night</td>\n",
       "      <td>Night</td>\n",
       "      <td>Night</td>\n",
       "    </tr>\n",
       "    <tr>\n",
       "      <th>2016-02-08 06:15:39</th>\n",
       "      <td>A-2716602</td>\n",
       "      <td>2</td>\n",
       "      <td>2016-02-08 06:15:39</td>\n",
       "      <td>2016-02-08 12:15:39</td>\n",
       "      <td>39.10266</td>\n",
       "      <td>-84.52468</td>\n",
       "      <td>39.10209</td>\n",
       "      <td>-84.52396</td>\n",
       "      <td>0.055</td>\n",
       "      <td>At I-71/US-50/Exit 1 - Accident.</td>\n",
       "      <td>...</td>\n",
       "      <td>False</td>\n",
       "      <td>False</td>\n",
       "      <td>False</td>\n",
       "      <td>False</td>\n",
       "      <td>False</td>\n",
       "      <td>False</td>\n",
       "      <td>Night</td>\n",
       "      <td>Night</td>\n",
       "      <td>Night</td>\n",
       "      <td>Day</td>\n",
       "    </tr>\n",
       "    <tr>\n",
       "      <th>2016-02-08 06:15:39</th>\n",
       "      <td>A-2716603</td>\n",
       "      <td>2</td>\n",
       "      <td>2016-02-08 06:15:39</td>\n",
       "      <td>2016-02-08 12:15:39</td>\n",
       "      <td>39.10148</td>\n",
       "      <td>-84.52341</td>\n",
       "      <td>39.09841</td>\n",
       "      <td>-84.52241</td>\n",
       "      <td>0.219</td>\n",
       "      <td>At I-71/US-50/Exit 1 - Accident.</td>\n",
       "      <td>...</td>\n",
       "      <td>False</td>\n",
       "      <td>False</td>\n",
       "      <td>False</td>\n",
       "      <td>False</td>\n",
       "      <td>False</td>\n",
       "      <td>False</td>\n",
       "      <td>Night</td>\n",
       "      <td>Night</td>\n",
       "      <td>Night</td>\n",
       "      <td>Day</td>\n",
       "    </tr>\n",
       "    <tr>\n",
       "      <th>2016-02-08 06:51:45</th>\n",
       "      <td>A-2716604</td>\n",
       "      <td>2</td>\n",
       "      <td>2016-02-08 06:51:45</td>\n",
       "      <td>2016-02-08 12:51:45</td>\n",
       "      <td>41.06213</td>\n",
       "      <td>-81.53784</td>\n",
       "      <td>41.06217</td>\n",
       "      <td>-81.53547</td>\n",
       "      <td>0.123</td>\n",
       "      <td>At Dart Ave/Exit 21 - Accident.</td>\n",
       "      <td>...</td>\n",
       "      <td>False</td>\n",
       "      <td>False</td>\n",
       "      <td>False</td>\n",
       "      <td>False</td>\n",
       "      <td>False</td>\n",
       "      <td>False</td>\n",
       "      <td>Night</td>\n",
       "      <td>Night</td>\n",
       "      <td>Day</td>\n",
       "      <td>Day</td>\n",
       "    </tr>\n",
       "  </tbody>\n",
       "</table>\n",
       "<p>5 rows × 47 columns</p>\n",
       "</div>"
      ],
      "text/plain": [
       "                            ID  Severity           Start_Time  \\\n",
       "time                                                            \n",
       "2016-02-08 00:37:08  A-2716600         3  2016-02-08 00:37:08   \n",
       "2016-02-08 05:56:20  A-2716601         2  2016-02-08 05:56:20   \n",
       "2016-02-08 06:15:39  A-2716602         2  2016-02-08 06:15:39   \n",
       "2016-02-08 06:15:39  A-2716603         2  2016-02-08 06:15:39   \n",
       "2016-02-08 06:51:45  A-2716604         2  2016-02-08 06:51:45   \n",
       "\n",
       "                                End_Time  Start_Lat  Start_Lng   End_Lat  \\\n",
       "time                                                                       \n",
       "2016-02-08 00:37:08  2016-02-08 06:37:08   40.10891  -83.09286  40.11206   \n",
       "2016-02-08 05:56:20  2016-02-08 11:56:20   39.86542  -84.06280  39.86501   \n",
       "2016-02-08 06:15:39  2016-02-08 12:15:39   39.10266  -84.52468  39.10209   \n",
       "2016-02-08 06:15:39  2016-02-08 12:15:39   39.10148  -84.52341  39.09841   \n",
       "2016-02-08 06:51:45  2016-02-08 12:51:45   41.06213  -81.53784  41.06217   \n",
       "\n",
       "                      End_Lng  Distance(mi)  \\\n",
       "time                                          \n",
       "2016-02-08 00:37:08 -83.03187         3.230   \n",
       "2016-02-08 05:56:20 -84.04873         0.747   \n",
       "2016-02-08 06:15:39 -84.52396         0.055   \n",
       "2016-02-08 06:15:39 -84.52241         0.219   \n",
       "2016-02-08 06:51:45 -81.53547         0.123   \n",
       "\n",
       "                                                           Description  ...  \\\n",
       "time                                                                    ...   \n",
       "2016-02-08 00:37:08  Between Sawmill Rd/Exit 20 and OH-315/Olentang...  ...   \n",
       "2016-02-08 05:56:20                 At OH-4/OH-235/Exit 41 - Accident.  ...   \n",
       "2016-02-08 06:15:39                   At I-71/US-50/Exit 1 - Accident.  ...   \n",
       "2016-02-08 06:15:39                   At I-71/US-50/Exit 1 - Accident.  ...   \n",
       "2016-02-08 06:51:45                    At Dart Ave/Exit 21 - Accident.  ...   \n",
       "\n",
       "                     Roundabout Station   Stop Traffic_Calming Traffic_Signal  \\\n",
       "time                                                                            \n",
       "2016-02-08 00:37:08       False   False  False           False          False   \n",
       "2016-02-08 05:56:20       False   False  False           False          False   \n",
       "2016-02-08 06:15:39       False   False  False           False          False   \n",
       "2016-02-08 06:15:39       False   False  False           False          False   \n",
       "2016-02-08 06:51:45       False   False  False           False          False   \n",
       "\n",
       "                    Turning_Loop Sunrise_Sunset Civil_Twilight  \\\n",
       "time                                                             \n",
       "2016-02-08 00:37:08        False          Night          Night   \n",
       "2016-02-08 05:56:20        False          Night          Night   \n",
       "2016-02-08 06:15:39        False          Night          Night   \n",
       "2016-02-08 06:15:39        False          Night          Night   \n",
       "2016-02-08 06:51:45        False          Night          Night   \n",
       "\n",
       "                    Nautical_Twilight Astronomical_Twilight  \n",
       "time                                                         \n",
       "2016-02-08 00:37:08             Night                 Night  \n",
       "2016-02-08 05:56:20             Night                 Night  \n",
       "2016-02-08 06:15:39             Night                   Day  \n",
       "2016-02-08 06:15:39             Night                   Day  \n",
       "2016-02-08 06:51:45               Day                   Day  \n",
       "\n",
       "[5 rows x 47 columns]"
      ]
     },
     "execution_count": 21,
     "metadata": {},
     "output_type": "execute_result"
    }
   ],
   "source": [
    "df.head(5)"
   ]
  },
  {
   "cell_type": "code",
   "execution_count": 22,
   "metadata": {
    "colab": {},
    "colab_type": "code",
    "id": "Lk83i5QcaWIQ"
   },
   "outputs": [],
   "source": [
    "df1 = df1.drop(['Distance(mi)', 'Country', 'Description', 'City', 'County', 'Street', 'Side', 'Zipcode', 'State', 'Airport_Code', 'Civil_Twilight', 'Nautical_Twilight', 'Astronomical_Twilight'], axis=1)"
   ]
  },
  {
   "cell_type": "code",
   "execution_count": 23,
   "metadata": {
    "colab": {
     "base_uri": "https://localhost:8080/",
     "height": 384
    },
    "colab_type": "code",
    "executionInfo": {
     "elapsed": 529,
     "status": "ok",
     "timestamp": 1574793251468,
     "user": {
      "displayName": "NAGA JANAKI DWADASI",
      "photoUrl": "https://lh3.googleusercontent.com/a-/AAuE7mCNnPs8hHiSyLFfbrAUCvgot0jtHt9mljptGxPY=s64",
      "userId": "13815192769009517919"
     },
     "user_tz": 480
    },
    "id": "0gZbzXWiawYj",
    "outputId": "f019698d-16ee-4a5a-e9ed-dffa69c38f65"
   },
   "outputs": [
    {
     "data": {
      "text/html": [
       "<div>\n",
       "<style scoped>\n",
       "    .dataframe tbody tr th:only-of-type {\n",
       "        vertical-align: middle;\n",
       "    }\n",
       "\n",
       "    .dataframe tbody tr th {\n",
       "        vertical-align: top;\n",
       "    }\n",
       "\n",
       "    .dataframe thead th {\n",
       "        text-align: right;\n",
       "    }\n",
       "</style>\n",
       "<table border=\"1\" class=\"dataframe\">\n",
       "  <thead>\n",
       "    <tr style=\"text-align: right;\">\n",
       "      <th></th>\n",
       "      <th>ID</th>\n",
       "      <th>Severity</th>\n",
       "      <th>Start_Time</th>\n",
       "      <th>End_Time</th>\n",
       "      <th>Start_Lat</th>\n",
       "      <th>Start_Lng</th>\n",
       "      <th>End_Lat</th>\n",
       "      <th>End_Lng</th>\n",
       "      <th>Number</th>\n",
       "      <th>Timezone</th>\n",
       "      <th>...</th>\n",
       "      <th>Junction</th>\n",
       "      <th>No_Exit</th>\n",
       "      <th>Railway</th>\n",
       "      <th>Roundabout</th>\n",
       "      <th>Station</th>\n",
       "      <th>Stop</th>\n",
       "      <th>Traffic_Calming</th>\n",
       "      <th>Traffic_Signal</th>\n",
       "      <th>Turning_Loop</th>\n",
       "      <th>Sunrise_Sunset</th>\n",
       "    </tr>\n",
       "    <tr>\n",
       "      <th>time</th>\n",
       "      <th></th>\n",
       "      <th></th>\n",
       "      <th></th>\n",
       "      <th></th>\n",
       "      <th></th>\n",
       "      <th></th>\n",
       "      <th></th>\n",
       "      <th></th>\n",
       "      <th></th>\n",
       "      <th></th>\n",
       "      <th></th>\n",
       "      <th></th>\n",
       "      <th></th>\n",
       "      <th></th>\n",
       "      <th></th>\n",
       "      <th></th>\n",
       "      <th></th>\n",
       "      <th></th>\n",
       "      <th></th>\n",
       "      <th></th>\n",
       "      <th></th>\n",
       "    </tr>\n",
       "  </thead>\n",
       "  <tbody>\n",
       "    <tr>\n",
       "      <th>2016-02-08 00:37:08</th>\n",
       "      <td>A-2716600</td>\n",
       "      <td>3</td>\n",
       "      <td>2016-02-08 00:37:08</td>\n",
       "      <td>2016-02-08 06:37:08</td>\n",
       "      <td>40.10891</td>\n",
       "      <td>-83.09286</td>\n",
       "      <td>40.11206</td>\n",
       "      <td>-83.03187</td>\n",
       "      <td>NaN</td>\n",
       "      <td>US/Eastern</td>\n",
       "      <td>...</td>\n",
       "      <td>False</td>\n",
       "      <td>False</td>\n",
       "      <td>False</td>\n",
       "      <td>False</td>\n",
       "      <td>False</td>\n",
       "      <td>False</td>\n",
       "      <td>False</td>\n",
       "      <td>False</td>\n",
       "      <td>False</td>\n",
       "      <td>Night</td>\n",
       "    </tr>\n",
       "    <tr>\n",
       "      <th>2016-02-08 05:56:20</th>\n",
       "      <td>A-2716601</td>\n",
       "      <td>2</td>\n",
       "      <td>2016-02-08 05:56:20</td>\n",
       "      <td>2016-02-08 11:56:20</td>\n",
       "      <td>39.86542</td>\n",
       "      <td>-84.06280</td>\n",
       "      <td>39.86501</td>\n",
       "      <td>-84.04873</td>\n",
       "      <td>NaN</td>\n",
       "      <td>US/Eastern</td>\n",
       "      <td>...</td>\n",
       "      <td>False</td>\n",
       "      <td>False</td>\n",
       "      <td>False</td>\n",
       "      <td>False</td>\n",
       "      <td>False</td>\n",
       "      <td>False</td>\n",
       "      <td>False</td>\n",
       "      <td>False</td>\n",
       "      <td>False</td>\n",
       "      <td>Night</td>\n",
       "    </tr>\n",
       "    <tr>\n",
       "      <th>2016-02-08 06:15:39</th>\n",
       "      <td>A-2716602</td>\n",
       "      <td>2</td>\n",
       "      <td>2016-02-08 06:15:39</td>\n",
       "      <td>2016-02-08 12:15:39</td>\n",
       "      <td>39.10266</td>\n",
       "      <td>-84.52468</td>\n",
       "      <td>39.10209</td>\n",
       "      <td>-84.52396</td>\n",
       "      <td>NaN</td>\n",
       "      <td>US/Eastern</td>\n",
       "      <td>...</td>\n",
       "      <td>True</td>\n",
       "      <td>False</td>\n",
       "      <td>False</td>\n",
       "      <td>False</td>\n",
       "      <td>False</td>\n",
       "      <td>False</td>\n",
       "      <td>False</td>\n",
       "      <td>False</td>\n",
       "      <td>False</td>\n",
       "      <td>Night</td>\n",
       "    </tr>\n",
       "    <tr>\n",
       "      <th>2016-02-08 06:15:39</th>\n",
       "      <td>A-2716603</td>\n",
       "      <td>2</td>\n",
       "      <td>2016-02-08 06:15:39</td>\n",
       "      <td>2016-02-08 12:15:39</td>\n",
       "      <td>39.10148</td>\n",
       "      <td>-84.52341</td>\n",
       "      <td>39.09841</td>\n",
       "      <td>-84.52241</td>\n",
       "      <td>NaN</td>\n",
       "      <td>US/Eastern</td>\n",
       "      <td>...</td>\n",
       "      <td>True</td>\n",
       "      <td>False</td>\n",
       "      <td>False</td>\n",
       "      <td>False</td>\n",
       "      <td>False</td>\n",
       "      <td>False</td>\n",
       "      <td>False</td>\n",
       "      <td>False</td>\n",
       "      <td>False</td>\n",
       "      <td>Night</td>\n",
       "    </tr>\n",
       "    <tr>\n",
       "      <th>2016-02-08 06:51:45</th>\n",
       "      <td>A-2716604</td>\n",
       "      <td>2</td>\n",
       "      <td>2016-02-08 06:51:45</td>\n",
       "      <td>2016-02-08 12:51:45</td>\n",
       "      <td>41.06213</td>\n",
       "      <td>-81.53784</td>\n",
       "      <td>41.06217</td>\n",
       "      <td>-81.53547</td>\n",
       "      <td>NaN</td>\n",
       "      <td>US/Eastern</td>\n",
       "      <td>...</td>\n",
       "      <td>False</td>\n",
       "      <td>False</td>\n",
       "      <td>False</td>\n",
       "      <td>False</td>\n",
       "      <td>False</td>\n",
       "      <td>False</td>\n",
       "      <td>False</td>\n",
       "      <td>False</td>\n",
       "      <td>False</td>\n",
       "      <td>Night</td>\n",
       "    </tr>\n",
       "  </tbody>\n",
       "</table>\n",
       "<p>5 rows × 34 columns</p>\n",
       "</div>"
      ],
      "text/plain": [
       "                            ID  Severity           Start_Time  \\\n",
       "time                                                            \n",
       "2016-02-08 00:37:08  A-2716600         3  2016-02-08 00:37:08   \n",
       "2016-02-08 05:56:20  A-2716601         2  2016-02-08 05:56:20   \n",
       "2016-02-08 06:15:39  A-2716602         2  2016-02-08 06:15:39   \n",
       "2016-02-08 06:15:39  A-2716603         2  2016-02-08 06:15:39   \n",
       "2016-02-08 06:51:45  A-2716604         2  2016-02-08 06:51:45   \n",
       "\n",
       "                                End_Time  Start_Lat  Start_Lng   End_Lat  \\\n",
       "time                                                                       \n",
       "2016-02-08 00:37:08  2016-02-08 06:37:08   40.10891  -83.09286  40.11206   \n",
       "2016-02-08 05:56:20  2016-02-08 11:56:20   39.86542  -84.06280  39.86501   \n",
       "2016-02-08 06:15:39  2016-02-08 12:15:39   39.10266  -84.52468  39.10209   \n",
       "2016-02-08 06:15:39  2016-02-08 12:15:39   39.10148  -84.52341  39.09841   \n",
       "2016-02-08 06:51:45  2016-02-08 12:51:45   41.06213  -81.53784  41.06217   \n",
       "\n",
       "                      End_Lng  Number    Timezone  ... Junction  No_Exit  \\\n",
       "time                                               ...                     \n",
       "2016-02-08 00:37:08 -83.03187     NaN  US/Eastern  ...    False    False   \n",
       "2016-02-08 05:56:20 -84.04873     NaN  US/Eastern  ...    False    False   \n",
       "2016-02-08 06:15:39 -84.52396     NaN  US/Eastern  ...     True    False   \n",
       "2016-02-08 06:15:39 -84.52241     NaN  US/Eastern  ...     True    False   \n",
       "2016-02-08 06:51:45 -81.53547     NaN  US/Eastern  ...    False    False   \n",
       "\n",
       "                     Railway  Roundabout  Station   Stop Traffic_Calming  \\\n",
       "time                                                                       \n",
       "2016-02-08 00:37:08    False       False    False  False           False   \n",
       "2016-02-08 05:56:20    False       False    False  False           False   \n",
       "2016-02-08 06:15:39    False       False    False  False           False   \n",
       "2016-02-08 06:15:39    False       False    False  False           False   \n",
       "2016-02-08 06:51:45    False       False    False  False           False   \n",
       "\n",
       "                     Traffic_Signal  Turning_Loop Sunrise_Sunset  \n",
       "time                                                              \n",
       "2016-02-08 00:37:08           False         False          Night  \n",
       "2016-02-08 05:56:20           False         False          Night  \n",
       "2016-02-08 06:15:39           False         False          Night  \n",
       "2016-02-08 06:15:39           False         False          Night  \n",
       "2016-02-08 06:51:45           False         False          Night  \n",
       "\n",
       "[5 rows x 34 columns]"
      ]
     },
     "execution_count": 23,
     "metadata": {},
     "output_type": "execute_result"
    }
   ],
   "source": [
    "df1.head()"
   ]
  },
  {
   "cell_type": "code",
   "execution_count": 24,
   "metadata": {
    "colab": {},
    "colab_type": "code",
    "id": "NiYb8_ofaSCu"
   },
   "outputs": [],
   "source": [
    "cols = [\"End_Lat\", \"End_Lng\", \"Number\"]\n",
    "df1 = df1.drop(cols, axis=1)"
   ]
  },
  {
   "cell_type": "code",
   "execution_count": 25,
   "metadata": {
    "colab": {
     "base_uri": "https://localhost:8080/",
     "height": 569
    },
    "colab_type": "code",
    "executionInfo": {
     "elapsed": 1427,
     "status": "ok",
     "timestamp": 1574793255773,
     "user": {
      "displayName": "NAGA JANAKI DWADASI",
      "photoUrl": "https://lh3.googleusercontent.com/a-/AAuE7mCNnPs8hHiSyLFfbrAUCvgot0jtHt9mljptGxPY=s64",
      "userId": "13815192769009517919"
     },
     "user_tz": 480
    },
    "id": "EHzfonACaUD9",
    "outputId": "5d1b7955-61d0-4b8a-c92a-c8348fc56d2d"
   },
   "outputs": [
    {
     "data": {
      "text/plain": [
       "ID                        0\n",
       "Severity                  0\n",
       "Start_Time                0\n",
       "End_Time                  0\n",
       "Start_Lat                 0\n",
       "Start_Lng                 0\n",
       "Timezone               2302\n",
       "Weather_Timestamp     30264\n",
       "Temperature(F)        43033\n",
       "Wind_Chill(F)        449316\n",
       "Humidity(%)           45509\n",
       "Pressure(in)          36274\n",
       "Visibility(mi)        44211\n",
       "Wind_Direction        41858\n",
       "Wind_Speed(mph)      128862\n",
       "Precipitation(in)    510549\n",
       "Weather_Condition     44007\n",
       "Amenity                   0\n",
       "Bump                      0\n",
       "Crossing                  0\n",
       "Give_Way                  0\n",
       "Junction                  0\n",
       "No_Exit                   0\n",
       "Railway                   0\n",
       "Roundabout                0\n",
       "Station                   0\n",
       "Stop                      0\n",
       "Traffic_Calming           0\n",
       "Traffic_Signal            0\n",
       "Turning_Loop              0\n",
       "Sunrise_Sunset           83\n",
       "dtype: int64"
      ]
     },
     "execution_count": 25,
     "metadata": {},
     "output_type": "execute_result"
    }
   ],
   "source": [
    "df1.isnull().sum()"
   ]
  },
  {
   "cell_type": "code",
   "execution_count": 26,
   "metadata": {
    "colab": {},
    "colab_type": "code",
    "id": "0mXUAoJLaY74"
   },
   "outputs": [],
   "source": [
    "pmean = df1['Pressure(in)'].mean()\n",
    "tmean = df1['Temperature(F)'].mean()\n",
    "wcmean = df1['Wind_Chill(F)'].mean()\n",
    "hmean = df1['Humidity(%)'].mean()\n",
    "wsmean = df1['Wind_Speed(mph)'].mean()\n",
    "prmean = df1['Precipitation(in)'].mean()"
   ]
  },
  {
   "cell_type": "code",
   "execution_count": 27,
   "metadata": {
    "colab": {},
    "colab_type": "code",
    "id": "23IqeHtw_mbW"
   },
   "outputs": [],
   "source": [
    "df1['Pressure(in)']=df1['Pressure(in)'].fillna(pmean)"
   ]
  },
  {
   "cell_type": "code",
   "execution_count": 28,
   "metadata": {
    "colab": {},
    "colab_type": "code",
    "id": "6lNEUP2f_3tW"
   },
   "outputs": [],
   "source": [
    "df1['Temperature(F)'] = df1['Temperature(F)'].fillna(tmean)"
   ]
  },
  {
   "cell_type": "code",
   "execution_count": 29,
   "metadata": {
    "colab": {},
    "colab_type": "code",
    "id": "ay9E2rdZ_63c"
   },
   "outputs": [],
   "source": [
    "df1['Wind_Chill(F)'] = df1['Wind_Chill(F)'].fillna(wcmean)"
   ]
  },
  {
   "cell_type": "code",
   "execution_count": 30,
   "metadata": {
    "colab": {},
    "colab_type": "code",
    "id": "Wh6M8cNC_7Ot"
   },
   "outputs": [],
   "source": [
    "df1['Humidity(%)'] = df1['Humidity(%)'].fillna(hmean)"
   ]
  },
  {
   "cell_type": "code",
   "execution_count": 31,
   "metadata": {
    "colab": {},
    "colab_type": "code",
    "id": "NNoZgpj0Aaz2"
   },
   "outputs": [],
   "source": [
    "df1['Wind_Speed(mph)'] = df1['Wind_Speed(mph)'].fillna(wsmean)"
   ]
  },
  {
   "cell_type": "code",
   "execution_count": 32,
   "metadata": {
    "colab": {},
    "colab_type": "code",
    "id": "MqMLI_93Abry"
   },
   "outputs": [],
   "source": [
    "df1['Precipitation(in)']=df1['Precipitation(in)'].fillna(prmean)"
   ]
  },
  {
   "cell_type": "code",
   "execution_count": 33,
   "metadata": {
    "colab": {
     "base_uri": "https://localhost:8080/",
     "height": 569
    },
    "colab_type": "code",
    "executionInfo": {
     "elapsed": 1508,
     "status": "ok",
     "timestamp": 1574793663161,
     "user": {
      "displayName": "NAGA JANAKI DWADASI",
      "photoUrl": "https://lh3.googleusercontent.com/a-/AAuE7mCNnPs8hHiSyLFfbrAUCvgot0jtHt9mljptGxPY=s64",
      "userId": "13815192769009517919"
     },
     "user_tz": 480
    },
    "id": "rt4Jp35NaPr_",
    "outputId": "c3c617d9-b1e7-458f-8b5b-4074baeb21fd"
   },
   "outputs": [
    {
     "data": {
      "text/plain": [
       "ID                       0\n",
       "Severity                 0\n",
       "Start_Time               0\n",
       "End_Time                 0\n",
       "Start_Lat                0\n",
       "Start_Lng                0\n",
       "Timezone              2302\n",
       "Weather_Timestamp    30264\n",
       "Temperature(F)           0\n",
       "Wind_Chill(F)            0\n",
       "Humidity(%)              0\n",
       "Pressure(in)             0\n",
       "Visibility(mi)       44211\n",
       "Wind_Direction       41858\n",
       "Wind_Speed(mph)          0\n",
       "Precipitation(in)        0\n",
       "Weather_Condition    44007\n",
       "Amenity                  0\n",
       "Bump                     0\n",
       "Crossing                 0\n",
       "Give_Way                 0\n",
       "Junction                 0\n",
       "No_Exit                  0\n",
       "Railway                  0\n",
       "Roundabout               0\n",
       "Station                  0\n",
       "Stop                     0\n",
       "Traffic_Calming          0\n",
       "Traffic_Signal           0\n",
       "Turning_Loop             0\n",
       "Sunrise_Sunset          83\n",
       "dtype: int64"
      ]
     },
     "execution_count": 33,
     "metadata": {},
     "output_type": "execute_result"
    }
   ],
   "source": [
    "df1.isnull().sum()"
   ]
  },
  {
   "cell_type": "code",
   "execution_count": 34,
   "metadata": {
    "colab": {
     "base_uri": "https://localhost:8080/",
     "height": 150
    },
    "colab_type": "code",
    "executionInfo": {
     "elapsed": 588,
     "status": "ok",
     "timestamp": 1574793673780,
     "user": {
      "displayName": "NAGA JANAKI DWADASI",
      "photoUrl": "https://lh3.googleusercontent.com/a-/AAuE7mCNnPs8hHiSyLFfbrAUCvgot0jtHt9mljptGxPY=s64",
      "userId": "13815192769009517919"
     },
     "user_tz": 480
    },
    "id": "yD8olrW3ohcm",
    "outputId": "53596ba5-8b1b-490d-ec48-ff880c18ddd0"
   },
   "outputs": [
    {
     "data": {
      "text/plain": [
       "Index(['ID', 'Severity', 'Start_Time', 'End_Time', 'Start_Lat', 'Start_Lng',\n",
       "       'Timezone', 'Weather_Timestamp', 'Temperature(F)', 'Wind_Chill(F)',\n",
       "       'Humidity(%)', 'Pressure(in)', 'Visibility(mi)', 'Wind_Direction',\n",
       "       'Wind_Speed(mph)', 'Precipitation(in)', 'Weather_Condition', 'Amenity',\n",
       "       'Bump', 'Crossing', 'Give_Way', 'Junction', 'No_Exit', 'Railway',\n",
       "       'Roundabout', 'Station', 'Stop', 'Traffic_Calming', 'Traffic_Signal',\n",
       "       'Turning_Loop', 'Sunrise_Sunset'],\n",
       "      dtype='object')"
      ]
     },
     "execution_count": 34,
     "metadata": {},
     "output_type": "execute_result"
    }
   ],
   "source": [
    "df1.columns"
   ]
  },
  {
   "cell_type": "code",
   "execution_count": 35,
   "metadata": {
    "colab": {},
    "colab_type": "code",
    "id": "AnqBDo-Xabq5"
   },
   "outputs": [],
   "source": [
    "visMode = df1[\"Visibility(mi)\"].mode()\n",
    "#df1[\"Visibility(mi)\"]=df1[\"Visibility(mi)\"].fillna(visMode)"
   ]
  },
  {
   "cell_type": "code",
   "execution_count": 36,
   "metadata": {
    "colab": {},
    "colab_type": "code",
    "id": "SovJKB6aRv3q"
   },
   "outputs": [],
   "source": [
    "#df1[\"Visibility(mi)\"]=df1[\"Visibility(mi)\"].fillna(visMode)\n",
    "df1['Visibility(mi)'] = df1['Visibility(mi)'].fillna(df1['Visibility(mi)'].mode()[0])\n",
    "df1['Wind_Direction'] = df1['Wind_Direction'].fillna(df1['Wind_Direction'].mode()[0])\n",
    "df1['Weather_Condition'] = df1['Weather_Condition'].fillna(df1['Weather_Condition'].mode()[0])\n",
    "df1['Sunrise_Sunset'] = df1['Sunrise_Sunset'].fillna(df1['Sunrise_Sunset'].mode()[0])"
   ]
  },
  {
   "cell_type": "code",
   "execution_count": 37,
   "metadata": {
    "colab": {},
    "colab_type": "code",
    "id": "j8_RylJsRv3s"
   },
   "outputs": [],
   "source": [
    "df1.drop(['Timezone','Weather_Timestamp', 'Start_Time', 'End_Time', 'ID'], axis = 1, inplace = True)"
   ]
  },
  {
   "cell_type": "code",
   "execution_count": 38,
   "metadata": {
    "colab": {},
    "colab_type": "code",
    "id": "JKeYpHHgVjxs"
   },
   "outputs": [],
   "source": [
    "df1.dropna(axis=0, inplace=True)"
   ]
  },
  {
   "cell_type": "code",
   "execution_count": 39,
   "metadata": {
    "colab": {
     "base_uri": "https://localhost:8080/"
    },
    "colab_type": "code",
    "executionInfo": {
     "elapsed": 1087,
     "status": "ok",
     "timestamp": 1574793995185,
     "user": {
      "displayName": "NAGA JANAKI DWADASI",
      "photoUrl": "https://lh3.googleusercontent.com/a-/AAuE7mCNnPs8hHiSyLFfbrAUCvgot0jtHt9mljptGxPY=s64",
      "userId": "13815192769009517919"
     },
     "user_tz": 480
    },
    "id": "MwVVMjyWCTX2",
    "outputId": "6cf59e54-d649-41ac-82b4-bb2423afbefe"
   },
   "outputs": [
    {
     "data": {
      "text/plain": [
       "Severity             0\n",
       "Start_Lat            0\n",
       "Start_Lng            0\n",
       "Temperature(F)       0\n",
       "Wind_Chill(F)        0\n",
       "Humidity(%)          0\n",
       "Pressure(in)         0\n",
       "Visibility(mi)       0\n",
       "Wind_Direction       0\n",
       "Wind_Speed(mph)      0\n",
       "Precipitation(in)    0\n",
       "Weather_Condition    0\n",
       "Amenity              0\n",
       "Bump                 0\n",
       "Crossing             0\n",
       "Give_Way             0\n",
       "Junction             0\n",
       "No_Exit              0\n",
       "Railway              0\n",
       "Roundabout           0\n",
       "Station              0\n",
       "Stop                 0\n",
       "Traffic_Calming      0\n",
       "Traffic_Signal       0\n",
       "Turning_Loop         0\n",
       "Sunrise_Sunset       0\n",
       "dtype: int64"
      ]
     },
     "execution_count": 39,
     "metadata": {},
     "output_type": "execute_result"
    }
   ],
   "source": [
    "df1.isnull().sum()"
   ]
  },
  {
   "cell_type": "code",
   "execution_count": 40,
   "metadata": {
    "colab": {},
    "colab_type": "code",
    "id": "i6y9KNd-Rv3w",
    "outputId": "1815c778-98d6-4bd1-8d18-cabbf40f2359"
   },
   "outputs": [
    {
     "data": {
      "text/plain": [
       "Index(['Severity', 'Start_Lat', 'Start_Lng', 'Temperature(F)', 'Wind_Chill(F)',\n",
       "       'Humidity(%)', 'Pressure(in)', 'Visibility(mi)', 'Wind_Direction',\n",
       "       'Wind_Speed(mph)', 'Precipitation(in)', 'Weather_Condition', 'Amenity',\n",
       "       'Bump', 'Crossing', 'Give_Way', 'Junction', 'No_Exit', 'Railway',\n",
       "       'Roundabout', 'Station', 'Stop', 'Traffic_Calming', 'Traffic_Signal',\n",
       "       'Turning_Loop', 'Sunrise_Sunset'],\n",
       "      dtype='object')"
      ]
     },
     "execution_count": 40,
     "metadata": {},
     "output_type": "execute_result"
    }
   ],
   "source": [
    "df1.columns"
   ]
  },
  {
   "cell_type": "code",
   "execution_count": 41,
   "metadata": {
    "colab": {},
    "colab_type": "code",
    "id": "sKeAhTyrCV3j",
    "outputId": "a8cc0156-18c7-4045-bbdc-4634c446c661"
   },
   "outputs": [
    {
     "data": {
      "text/html": [
       "<div>\n",
       "<style scoped>\n",
       "    .dataframe tbody tr th:only-of-type {\n",
       "        vertical-align: middle;\n",
       "    }\n",
       "\n",
       "    .dataframe tbody tr th {\n",
       "        vertical-align: top;\n",
       "    }\n",
       "\n",
       "    .dataframe thead th {\n",
       "        text-align: right;\n",
       "    }\n",
       "</style>\n",
       "<table border=\"1\" class=\"dataframe\">\n",
       "  <thead>\n",
       "    <tr style=\"text-align: right;\">\n",
       "      <th></th>\n",
       "      <th>Severity</th>\n",
       "      <th>Start_Lat</th>\n",
       "      <th>Start_Lng</th>\n",
       "      <th>Temperature(F)</th>\n",
       "      <th>Wind_Chill(F)</th>\n",
       "      <th>Humidity(%)</th>\n",
       "      <th>Pressure(in)</th>\n",
       "      <th>Visibility(mi)</th>\n",
       "      <th>Wind_Direction</th>\n",
       "      <th>Wind_Speed(mph)</th>\n",
       "      <th>...</th>\n",
       "      <th>Junction</th>\n",
       "      <th>No_Exit</th>\n",
       "      <th>Railway</th>\n",
       "      <th>Roundabout</th>\n",
       "      <th>Station</th>\n",
       "      <th>Stop</th>\n",
       "      <th>Traffic_Calming</th>\n",
       "      <th>Traffic_Signal</th>\n",
       "      <th>Turning_Loop</th>\n",
       "      <th>Sunrise_Sunset</th>\n",
       "    </tr>\n",
       "    <tr>\n",
       "      <th>time</th>\n",
       "      <th></th>\n",
       "      <th></th>\n",
       "      <th></th>\n",
       "      <th></th>\n",
       "      <th></th>\n",
       "      <th></th>\n",
       "      <th></th>\n",
       "      <th></th>\n",
       "      <th></th>\n",
       "      <th></th>\n",
       "      <th></th>\n",
       "      <th></th>\n",
       "      <th></th>\n",
       "      <th></th>\n",
       "      <th></th>\n",
       "      <th></th>\n",
       "      <th></th>\n",
       "      <th></th>\n",
       "      <th></th>\n",
       "      <th></th>\n",
       "      <th></th>\n",
       "    </tr>\n",
       "  </thead>\n",
       "  <tbody>\n",
       "    <tr>\n",
       "      <th>2016-02-08 00:37:08</th>\n",
       "      <td>3</td>\n",
       "      <td>40.10891</td>\n",
       "      <td>-83.09286</td>\n",
       "      <td>42.1</td>\n",
       "      <td>36.10000</td>\n",
       "      <td>58.0</td>\n",
       "      <td>29.76</td>\n",
       "      <td>10.0</td>\n",
       "      <td>SW</td>\n",
       "      <td>10.400000</td>\n",
       "      <td>...</td>\n",
       "      <td>0</td>\n",
       "      <td>0</td>\n",
       "      <td>0</td>\n",
       "      <td>0</td>\n",
       "      <td>0</td>\n",
       "      <td>0</td>\n",
       "      <td>0</td>\n",
       "      <td>0</td>\n",
       "      <td>0</td>\n",
       "      <td>Night</td>\n",
       "    </tr>\n",
       "    <tr>\n",
       "      <th>2016-02-08 05:56:20</th>\n",
       "      <td>2</td>\n",
       "      <td>39.86542</td>\n",
       "      <td>-84.06280</td>\n",
       "      <td>36.9</td>\n",
       "      <td>55.10976</td>\n",
       "      <td>91.0</td>\n",
       "      <td>29.68</td>\n",
       "      <td>10.0</td>\n",
       "      <td>Calm</td>\n",
       "      <td>7.630812</td>\n",
       "      <td>...</td>\n",
       "      <td>0</td>\n",
       "      <td>0</td>\n",
       "      <td>0</td>\n",
       "      <td>0</td>\n",
       "      <td>0</td>\n",
       "      <td>0</td>\n",
       "      <td>0</td>\n",
       "      <td>0</td>\n",
       "      <td>0</td>\n",
       "      <td>Night</td>\n",
       "    </tr>\n",
       "    <tr>\n",
       "      <th>2016-02-08 06:15:39</th>\n",
       "      <td>2</td>\n",
       "      <td>39.10266</td>\n",
       "      <td>-84.52468</td>\n",
       "      <td>36.0</td>\n",
       "      <td>55.10976</td>\n",
       "      <td>97.0</td>\n",
       "      <td>29.70</td>\n",
       "      <td>10.0</td>\n",
       "      <td>Calm</td>\n",
       "      <td>7.630812</td>\n",
       "      <td>...</td>\n",
       "      <td>1</td>\n",
       "      <td>0</td>\n",
       "      <td>0</td>\n",
       "      <td>0</td>\n",
       "      <td>0</td>\n",
       "      <td>0</td>\n",
       "      <td>0</td>\n",
       "      <td>0</td>\n",
       "      <td>0</td>\n",
       "      <td>Night</td>\n",
       "    </tr>\n",
       "    <tr>\n",
       "      <th>2016-02-08 06:15:39</th>\n",
       "      <td>2</td>\n",
       "      <td>39.10148</td>\n",
       "      <td>-84.52341</td>\n",
       "      <td>36.0</td>\n",
       "      <td>55.10976</td>\n",
       "      <td>97.0</td>\n",
       "      <td>29.70</td>\n",
       "      <td>10.0</td>\n",
       "      <td>Calm</td>\n",
       "      <td>7.630812</td>\n",
       "      <td>...</td>\n",
       "      <td>1</td>\n",
       "      <td>0</td>\n",
       "      <td>0</td>\n",
       "      <td>0</td>\n",
       "      <td>0</td>\n",
       "      <td>0</td>\n",
       "      <td>0</td>\n",
       "      <td>0</td>\n",
       "      <td>0</td>\n",
       "      <td>Night</td>\n",
       "    </tr>\n",
       "    <tr>\n",
       "      <th>2016-02-08 06:51:45</th>\n",
       "      <td>2</td>\n",
       "      <td>41.06213</td>\n",
       "      <td>-81.53784</td>\n",
       "      <td>39.0</td>\n",
       "      <td>55.10976</td>\n",
       "      <td>55.0</td>\n",
       "      <td>29.65</td>\n",
       "      <td>10.0</td>\n",
       "      <td>Calm</td>\n",
       "      <td>7.630812</td>\n",
       "      <td>...</td>\n",
       "      <td>0</td>\n",
       "      <td>0</td>\n",
       "      <td>0</td>\n",
       "      <td>0</td>\n",
       "      <td>0</td>\n",
       "      <td>0</td>\n",
       "      <td>0</td>\n",
       "      <td>0</td>\n",
       "      <td>0</td>\n",
       "      <td>Night</td>\n",
       "    </tr>\n",
       "  </tbody>\n",
       "</table>\n",
       "<p>5 rows × 26 columns</p>\n",
       "</div>"
      ],
      "text/plain": [
       "                     Severity  Start_Lat  Start_Lng  Temperature(F)  \\\n",
       "time                                                                  \n",
       "2016-02-08 00:37:08         3   40.10891  -83.09286            42.1   \n",
       "2016-02-08 05:56:20         2   39.86542  -84.06280            36.9   \n",
       "2016-02-08 06:15:39         2   39.10266  -84.52468            36.0   \n",
       "2016-02-08 06:15:39         2   39.10148  -84.52341            36.0   \n",
       "2016-02-08 06:51:45         2   41.06213  -81.53784            39.0   \n",
       "\n",
       "                     Wind_Chill(F)  Humidity(%)  Pressure(in)  Visibility(mi)  \\\n",
       "time                                                                            \n",
       "2016-02-08 00:37:08       36.10000         58.0         29.76            10.0   \n",
       "2016-02-08 05:56:20       55.10976         91.0         29.68            10.0   \n",
       "2016-02-08 06:15:39       55.10976         97.0         29.70            10.0   \n",
       "2016-02-08 06:15:39       55.10976         97.0         29.70            10.0   \n",
       "2016-02-08 06:51:45       55.10976         55.0         29.65            10.0   \n",
       "\n",
       "                    Wind_Direction  Wind_Speed(mph)  ...  Junction No_Exit  \\\n",
       "time                                                 ...                     \n",
       "2016-02-08 00:37:08             SW        10.400000  ...         0       0   \n",
       "2016-02-08 05:56:20           Calm         7.630812  ...         0       0   \n",
       "2016-02-08 06:15:39           Calm         7.630812  ...         1       0   \n",
       "2016-02-08 06:15:39           Calm         7.630812  ...         1       0   \n",
       "2016-02-08 06:51:45           Calm         7.630812  ...         0       0   \n",
       "\n",
       "                     Railway  Roundabout  Station  Stop  Traffic_Calming  \\\n",
       "time                                                                       \n",
       "2016-02-08 00:37:08        0           0        0     0                0   \n",
       "2016-02-08 05:56:20        0           0        0     0                0   \n",
       "2016-02-08 06:15:39        0           0        0     0                0   \n",
       "2016-02-08 06:15:39        0           0        0     0                0   \n",
       "2016-02-08 06:51:45        0           0        0     0                0   \n",
       "\n",
       "                     Traffic_Signal  Turning_Loop  Sunrise_Sunset  \n",
       "time                                                               \n",
       "2016-02-08 00:37:08               0             0           Night  \n",
       "2016-02-08 05:56:20               0             0           Night  \n",
       "2016-02-08 06:15:39               0             0           Night  \n",
       "2016-02-08 06:15:39               0             0           Night  \n",
       "2016-02-08 06:51:45               0             0           Night  \n",
       "\n",
       "[5 rows x 26 columns]"
      ]
     },
     "execution_count": 41,
     "metadata": {},
     "output_type": "execute_result"
    }
   ],
   "source": [
    "from sklearn import preprocessing\n",
    "label_encoder = preprocessing.LabelEncoder()\n",
    "df1['Amenity'] = label_encoder.fit_transform(df1['Amenity'])\n",
    "df1['Bump'] = label_encoder.fit_transform(df1['Bump'])\n",
    "df1['Crossing'] = label_encoder.fit_transform(df1['Crossing'])\n",
    "df1['Give_Way'] = label_encoder.fit_transform(df1['Give_Way'])\n",
    "df1['Junction'] = label_encoder.fit_transform(df1['Junction'])\n",
    "df1['No_Exit'] = label_encoder.fit_transform(df1['No_Exit'])\n",
    "df1['Railway'] = label_encoder.fit_transform(df1['Railway'])\n",
    "df1['Roundabout'] = label_encoder.fit_transform(df1['Roundabout'])\n",
    "df1['Station'] = label_encoder.fit_transform(df1['Station'])\n",
    "df1['Stop'] = label_encoder.fit_transform(df1['Stop'])\n",
    "df1['Traffic_Calming'] = label_encoder.fit_transform(df1['Traffic_Calming'])\n",
    "df1['Traffic_Signal'] = label_encoder.fit_transform(df1['Traffic_Signal'])\n",
    "df1['Turning_Loop'] = label_encoder.fit_transform(df1['Turning_Loop'])\n",
    "df1.head()\n"
   ]
  },
  {
   "cell_type": "code",
   "execution_count": 42,
   "metadata": {
    "colab": {},
    "colab_type": "code",
    "id": "KlUpAk7eRv33",
    "outputId": "d6085a8e-1804-497b-ee22-6af7121d06f8"
   },
   "outputs": [
    {
     "data": {
      "text/html": [
       "<div>\n",
       "<style scoped>\n",
       "    .dataframe tbody tr th:only-of-type {\n",
       "        vertical-align: middle;\n",
       "    }\n",
       "\n",
       "    .dataframe tbody tr th {\n",
       "        vertical-align: top;\n",
       "    }\n",
       "\n",
       "    .dataframe thead th {\n",
       "        text-align: right;\n",
       "    }\n",
       "</style>\n",
       "<table border=\"1\" class=\"dataframe\">\n",
       "  <thead>\n",
       "    <tr style=\"text-align: right;\">\n",
       "      <th></th>\n",
       "      <th>Severity</th>\n",
       "      <th>Start_Lat</th>\n",
       "      <th>Start_Lng</th>\n",
       "      <th>Temperature(F)</th>\n",
       "      <th>Wind_Chill(F)</th>\n",
       "      <th>Humidity(%)</th>\n",
       "      <th>Pressure(in)</th>\n",
       "      <th>Visibility(mi)</th>\n",
       "      <th>Wind_Direction</th>\n",
       "      <th>Wind_Speed(mph)</th>\n",
       "      <th>...</th>\n",
       "      <th>Junction</th>\n",
       "      <th>No_Exit</th>\n",
       "      <th>Railway</th>\n",
       "      <th>Roundabout</th>\n",
       "      <th>Station</th>\n",
       "      <th>Stop</th>\n",
       "      <th>Traffic_Calming</th>\n",
       "      <th>Traffic_Signal</th>\n",
       "      <th>Turning_Loop</th>\n",
       "      <th>Sunrise_Sunset</th>\n",
       "    </tr>\n",
       "    <tr>\n",
       "      <th>time</th>\n",
       "      <th></th>\n",
       "      <th></th>\n",
       "      <th></th>\n",
       "      <th></th>\n",
       "      <th></th>\n",
       "      <th></th>\n",
       "      <th></th>\n",
       "      <th></th>\n",
       "      <th></th>\n",
       "      <th></th>\n",
       "      <th></th>\n",
       "      <th></th>\n",
       "      <th></th>\n",
       "      <th></th>\n",
       "      <th></th>\n",
       "      <th></th>\n",
       "      <th></th>\n",
       "      <th></th>\n",
       "      <th></th>\n",
       "      <th></th>\n",
       "      <th></th>\n",
       "    </tr>\n",
       "  </thead>\n",
       "  <tbody>\n",
       "    <tr>\n",
       "      <th>2016-02-08 00:37:08</th>\n",
       "      <td>3</td>\n",
       "      <td>40.10891</td>\n",
       "      <td>-83.09286</td>\n",
       "      <td>42.1</td>\n",
       "      <td>36.10000</td>\n",
       "      <td>58.0</td>\n",
       "      <td>29.76</td>\n",
       "      <td>10.0</td>\n",
       "      <td>16</td>\n",
       "      <td>10.400000</td>\n",
       "      <td>...</td>\n",
       "      <td>0</td>\n",
       "      <td>0</td>\n",
       "      <td>0</td>\n",
       "      <td>0</td>\n",
       "      <td>0</td>\n",
       "      <td>0</td>\n",
       "      <td>0</td>\n",
       "      <td>0</td>\n",
       "      <td>0</td>\n",
       "      <td>1</td>\n",
       "    </tr>\n",
       "    <tr>\n",
       "      <th>2016-02-08 05:56:20</th>\n",
       "      <td>2</td>\n",
       "      <td>39.86542</td>\n",
       "      <td>-84.06280</td>\n",
       "      <td>36.9</td>\n",
       "      <td>55.10976</td>\n",
       "      <td>91.0</td>\n",
       "      <td>29.68</td>\n",
       "      <td>10.0</td>\n",
       "      <td>1</td>\n",
       "      <td>7.630812</td>\n",
       "      <td>...</td>\n",
       "      <td>0</td>\n",
       "      <td>0</td>\n",
       "      <td>0</td>\n",
       "      <td>0</td>\n",
       "      <td>0</td>\n",
       "      <td>0</td>\n",
       "      <td>0</td>\n",
       "      <td>0</td>\n",
       "      <td>0</td>\n",
       "      <td>1</td>\n",
       "    </tr>\n",
       "    <tr>\n",
       "      <th>2016-02-08 06:15:39</th>\n",
       "      <td>2</td>\n",
       "      <td>39.10266</td>\n",
       "      <td>-84.52468</td>\n",
       "      <td>36.0</td>\n",
       "      <td>55.10976</td>\n",
       "      <td>97.0</td>\n",
       "      <td>29.70</td>\n",
       "      <td>10.0</td>\n",
       "      <td>1</td>\n",
       "      <td>7.630812</td>\n",
       "      <td>...</td>\n",
       "      <td>1</td>\n",
       "      <td>0</td>\n",
       "      <td>0</td>\n",
       "      <td>0</td>\n",
       "      <td>0</td>\n",
       "      <td>0</td>\n",
       "      <td>0</td>\n",
       "      <td>0</td>\n",
       "      <td>0</td>\n",
       "      <td>1</td>\n",
       "    </tr>\n",
       "    <tr>\n",
       "      <th>2016-02-08 06:15:39</th>\n",
       "      <td>2</td>\n",
       "      <td>39.10148</td>\n",
       "      <td>-84.52341</td>\n",
       "      <td>36.0</td>\n",
       "      <td>55.10976</td>\n",
       "      <td>97.0</td>\n",
       "      <td>29.70</td>\n",
       "      <td>10.0</td>\n",
       "      <td>1</td>\n",
       "      <td>7.630812</td>\n",
       "      <td>...</td>\n",
       "      <td>1</td>\n",
       "      <td>0</td>\n",
       "      <td>0</td>\n",
       "      <td>0</td>\n",
       "      <td>0</td>\n",
       "      <td>0</td>\n",
       "      <td>0</td>\n",
       "      <td>0</td>\n",
       "      <td>0</td>\n",
       "      <td>1</td>\n",
       "    </tr>\n",
       "    <tr>\n",
       "      <th>2016-02-08 06:51:45</th>\n",
       "      <td>2</td>\n",
       "      <td>41.06213</td>\n",
       "      <td>-81.53784</td>\n",
       "      <td>39.0</td>\n",
       "      <td>55.10976</td>\n",
       "      <td>55.0</td>\n",
       "      <td>29.65</td>\n",
       "      <td>10.0</td>\n",
       "      <td>1</td>\n",
       "      <td>7.630812</td>\n",
       "      <td>...</td>\n",
       "      <td>0</td>\n",
       "      <td>0</td>\n",
       "      <td>0</td>\n",
       "      <td>0</td>\n",
       "      <td>0</td>\n",
       "      <td>0</td>\n",
       "      <td>0</td>\n",
       "      <td>0</td>\n",
       "      <td>0</td>\n",
       "      <td>1</td>\n",
       "    </tr>\n",
       "  </tbody>\n",
       "</table>\n",
       "<p>5 rows × 26 columns</p>\n",
       "</div>"
      ],
      "text/plain": [
       "                     Severity  Start_Lat  Start_Lng  Temperature(F)  \\\n",
       "time                                                                  \n",
       "2016-02-08 00:37:08         3   40.10891  -83.09286            42.1   \n",
       "2016-02-08 05:56:20         2   39.86542  -84.06280            36.9   \n",
       "2016-02-08 06:15:39         2   39.10266  -84.52468            36.0   \n",
       "2016-02-08 06:15:39         2   39.10148  -84.52341            36.0   \n",
       "2016-02-08 06:51:45         2   41.06213  -81.53784            39.0   \n",
       "\n",
       "                     Wind_Chill(F)  Humidity(%)  Pressure(in)  Visibility(mi)  \\\n",
       "time                                                                            \n",
       "2016-02-08 00:37:08       36.10000         58.0         29.76            10.0   \n",
       "2016-02-08 05:56:20       55.10976         91.0         29.68            10.0   \n",
       "2016-02-08 06:15:39       55.10976         97.0         29.70            10.0   \n",
       "2016-02-08 06:15:39       55.10976         97.0         29.70            10.0   \n",
       "2016-02-08 06:51:45       55.10976         55.0         29.65            10.0   \n",
       "\n",
       "                     Wind_Direction  Wind_Speed(mph)  ...  Junction  No_Exit  \\\n",
       "time                                                  ...                      \n",
       "2016-02-08 00:37:08              16        10.400000  ...         0        0   \n",
       "2016-02-08 05:56:20               1         7.630812  ...         0        0   \n",
       "2016-02-08 06:15:39               1         7.630812  ...         1        0   \n",
       "2016-02-08 06:15:39               1         7.630812  ...         1        0   \n",
       "2016-02-08 06:51:45               1         7.630812  ...         0        0   \n",
       "\n",
       "                     Railway  Roundabout  Station  Stop  Traffic_Calming  \\\n",
       "time                                                                       \n",
       "2016-02-08 00:37:08        0           0        0     0                0   \n",
       "2016-02-08 05:56:20        0           0        0     0                0   \n",
       "2016-02-08 06:15:39        0           0        0     0                0   \n",
       "2016-02-08 06:15:39        0           0        0     0                0   \n",
       "2016-02-08 06:51:45        0           0        0     0                0   \n",
       "\n",
       "                     Traffic_Signal  Turning_Loop  Sunrise_Sunset  \n",
       "time                                                               \n",
       "2016-02-08 00:37:08               0             0               1  \n",
       "2016-02-08 05:56:20               0             0               1  \n",
       "2016-02-08 06:15:39               0             0               1  \n",
       "2016-02-08 06:15:39               0             0               1  \n",
       "2016-02-08 06:51:45               0             0               1  \n",
       "\n",
       "[5 rows x 26 columns]"
      ]
     },
     "execution_count": 42,
     "metadata": {},
     "output_type": "execute_result"
    }
   ],
   "source": [
    "df1['Sunrise_Sunset'] = label_encoder.fit_transform(df1['Sunrise_Sunset'])\n",
    "df1['Weather_Condition'] = label_encoder.fit_transform(df1['Weather_Condition'])\n",
    "df1['Wind_Direction'] = label_encoder.fit_transform(df1['Wind_Direction'])\n",
    "df1.head()"
   ]
  },
  {
   "cell_type": "code",
   "execution_count": 43,
   "metadata": {
    "colab": {},
    "colab_type": "code",
    "id": "K4tjGrSNRv4G"
   },
   "outputs": [],
   "source": [
    "Y = df1['Severity']"
   ]
  },
  {
   "cell_type": "code",
   "execution_count": 44,
   "metadata": {
    "colab": {},
    "colab_type": "code",
    "id": "qG4Dn3G9Rv4K"
   },
   "outputs": [],
   "source": [
    "X = df1.drop(['Severity'], axis = 1)\n"
   ]
  },
  {
   "cell_type": "code",
   "execution_count": 45,
   "metadata": {
    "colab": {},
    "colab_type": "code",
    "id": "HIUvfAGjRv4N",
    "outputId": "049ba38d-5cfd-4e9c-e63a-4157e46ee2e5"
   },
   "outputs": [
    {
     "data": {
      "text/html": [
       "<div>\n",
       "<style scoped>\n",
       "    .dataframe tbody tr th:only-of-type {\n",
       "        vertical-align: middle;\n",
       "    }\n",
       "\n",
       "    .dataframe tbody tr th {\n",
       "        vertical-align: top;\n",
       "    }\n",
       "\n",
       "    .dataframe thead th {\n",
       "        text-align: right;\n",
       "    }\n",
       "</style>\n",
       "<table border=\"1\" class=\"dataframe\">\n",
       "  <thead>\n",
       "    <tr style=\"text-align: right;\">\n",
       "      <th></th>\n",
       "      <th>Start_Lat</th>\n",
       "      <th>Start_Lng</th>\n",
       "      <th>Temperature(F)</th>\n",
       "      <th>Wind_Chill(F)</th>\n",
       "      <th>Humidity(%)</th>\n",
       "      <th>Pressure(in)</th>\n",
       "      <th>Visibility(mi)</th>\n",
       "      <th>Wind_Direction</th>\n",
       "      <th>Wind_Speed(mph)</th>\n",
       "      <th>Precipitation(in)</th>\n",
       "      <th>...</th>\n",
       "      <th>Junction</th>\n",
       "      <th>No_Exit</th>\n",
       "      <th>Railway</th>\n",
       "      <th>Roundabout</th>\n",
       "      <th>Station</th>\n",
       "      <th>Stop</th>\n",
       "      <th>Traffic_Calming</th>\n",
       "      <th>Traffic_Signal</th>\n",
       "      <th>Turning_Loop</th>\n",
       "      <th>Sunrise_Sunset</th>\n",
       "    </tr>\n",
       "    <tr>\n",
       "      <th>time</th>\n",
       "      <th></th>\n",
       "      <th></th>\n",
       "      <th></th>\n",
       "      <th></th>\n",
       "      <th></th>\n",
       "      <th></th>\n",
       "      <th></th>\n",
       "      <th></th>\n",
       "      <th></th>\n",
       "      <th></th>\n",
       "      <th></th>\n",
       "      <th></th>\n",
       "      <th></th>\n",
       "      <th></th>\n",
       "      <th></th>\n",
       "      <th></th>\n",
       "      <th></th>\n",
       "      <th></th>\n",
       "      <th></th>\n",
       "      <th></th>\n",
       "      <th></th>\n",
       "    </tr>\n",
       "  </thead>\n",
       "  <tbody>\n",
       "    <tr>\n",
       "      <th>2016-02-08 00:37:08</th>\n",
       "      <td>40.10891</td>\n",
       "      <td>-83.09286</td>\n",
       "      <td>42.1</td>\n",
       "      <td>36.10000</td>\n",
       "      <td>58.0</td>\n",
       "      <td>29.76</td>\n",
       "      <td>10.0</td>\n",
       "      <td>16</td>\n",
       "      <td>10.400000</td>\n",
       "      <td>0.000000</td>\n",
       "      <td>...</td>\n",
       "      <td>0</td>\n",
       "      <td>0</td>\n",
       "      <td>0</td>\n",
       "      <td>0</td>\n",
       "      <td>0</td>\n",
       "      <td>0</td>\n",
       "      <td>0</td>\n",
       "      <td>0</td>\n",
       "      <td>0</td>\n",
       "      <td>1</td>\n",
       "    </tr>\n",
       "    <tr>\n",
       "      <th>2016-02-08 05:56:20</th>\n",
       "      <td>39.86542</td>\n",
       "      <td>-84.06280</td>\n",
       "      <td>36.9</td>\n",
       "      <td>55.10976</td>\n",
       "      <td>91.0</td>\n",
       "      <td>29.68</td>\n",
       "      <td>10.0</td>\n",
       "      <td>1</td>\n",
       "      <td>7.630812</td>\n",
       "      <td>0.020000</td>\n",
       "      <td>...</td>\n",
       "      <td>0</td>\n",
       "      <td>0</td>\n",
       "      <td>0</td>\n",
       "      <td>0</td>\n",
       "      <td>0</td>\n",
       "      <td>0</td>\n",
       "      <td>0</td>\n",
       "      <td>0</td>\n",
       "      <td>0</td>\n",
       "      <td>1</td>\n",
       "    </tr>\n",
       "    <tr>\n",
       "      <th>2016-02-08 06:15:39</th>\n",
       "      <td>39.10266</td>\n",
       "      <td>-84.52468</td>\n",
       "      <td>36.0</td>\n",
       "      <td>55.10976</td>\n",
       "      <td>97.0</td>\n",
       "      <td>29.70</td>\n",
       "      <td>10.0</td>\n",
       "      <td>1</td>\n",
       "      <td>7.630812</td>\n",
       "      <td>0.020000</td>\n",
       "      <td>...</td>\n",
       "      <td>1</td>\n",
       "      <td>0</td>\n",
       "      <td>0</td>\n",
       "      <td>0</td>\n",
       "      <td>0</td>\n",
       "      <td>0</td>\n",
       "      <td>0</td>\n",
       "      <td>0</td>\n",
       "      <td>0</td>\n",
       "      <td>1</td>\n",
       "    </tr>\n",
       "    <tr>\n",
       "      <th>2016-02-08 06:15:39</th>\n",
       "      <td>39.10148</td>\n",
       "      <td>-84.52341</td>\n",
       "      <td>36.0</td>\n",
       "      <td>55.10976</td>\n",
       "      <td>97.0</td>\n",
       "      <td>29.70</td>\n",
       "      <td>10.0</td>\n",
       "      <td>1</td>\n",
       "      <td>7.630812</td>\n",
       "      <td>0.020000</td>\n",
       "      <td>...</td>\n",
       "      <td>1</td>\n",
       "      <td>0</td>\n",
       "      <td>0</td>\n",
       "      <td>0</td>\n",
       "      <td>0</td>\n",
       "      <td>0</td>\n",
       "      <td>0</td>\n",
       "      <td>0</td>\n",
       "      <td>0</td>\n",
       "      <td>1</td>\n",
       "    </tr>\n",
       "    <tr>\n",
       "      <th>2016-02-08 06:51:45</th>\n",
       "      <td>41.06213</td>\n",
       "      <td>-81.53784</td>\n",
       "      <td>39.0</td>\n",
       "      <td>55.10976</td>\n",
       "      <td>55.0</td>\n",
       "      <td>29.65</td>\n",
       "      <td>10.0</td>\n",
       "      <td>1</td>\n",
       "      <td>7.630812</td>\n",
       "      <td>0.008478</td>\n",
       "      <td>...</td>\n",
       "      <td>0</td>\n",
       "      <td>0</td>\n",
       "      <td>0</td>\n",
       "      <td>0</td>\n",
       "      <td>0</td>\n",
       "      <td>0</td>\n",
       "      <td>0</td>\n",
       "      <td>0</td>\n",
       "      <td>0</td>\n",
       "      <td>1</td>\n",
       "    </tr>\n",
       "  </tbody>\n",
       "</table>\n",
       "<p>5 rows × 25 columns</p>\n",
       "</div>"
      ],
      "text/plain": [
       "                     Start_Lat  Start_Lng  Temperature(F)  Wind_Chill(F)  \\\n",
       "time                                                                       \n",
       "2016-02-08 00:37:08   40.10891  -83.09286            42.1       36.10000   \n",
       "2016-02-08 05:56:20   39.86542  -84.06280            36.9       55.10976   \n",
       "2016-02-08 06:15:39   39.10266  -84.52468            36.0       55.10976   \n",
       "2016-02-08 06:15:39   39.10148  -84.52341            36.0       55.10976   \n",
       "2016-02-08 06:51:45   41.06213  -81.53784            39.0       55.10976   \n",
       "\n",
       "                     Humidity(%)  Pressure(in)  Visibility(mi)  \\\n",
       "time                                                             \n",
       "2016-02-08 00:37:08         58.0         29.76            10.0   \n",
       "2016-02-08 05:56:20         91.0         29.68            10.0   \n",
       "2016-02-08 06:15:39         97.0         29.70            10.0   \n",
       "2016-02-08 06:15:39         97.0         29.70            10.0   \n",
       "2016-02-08 06:51:45         55.0         29.65            10.0   \n",
       "\n",
       "                     Wind_Direction  Wind_Speed(mph)  Precipitation(in)  ...  \\\n",
       "time                                                                     ...   \n",
       "2016-02-08 00:37:08              16        10.400000           0.000000  ...   \n",
       "2016-02-08 05:56:20               1         7.630812           0.020000  ...   \n",
       "2016-02-08 06:15:39               1         7.630812           0.020000  ...   \n",
       "2016-02-08 06:15:39               1         7.630812           0.020000  ...   \n",
       "2016-02-08 06:51:45               1         7.630812           0.008478  ...   \n",
       "\n",
       "                     Junction  No_Exit  Railway  Roundabout  Station  Stop  \\\n",
       "time                                                                         \n",
       "2016-02-08 00:37:08         0        0        0           0        0     0   \n",
       "2016-02-08 05:56:20         0        0        0           0        0     0   \n",
       "2016-02-08 06:15:39         1        0        0           0        0     0   \n",
       "2016-02-08 06:15:39         1        0        0           0        0     0   \n",
       "2016-02-08 06:51:45         0        0        0           0        0     0   \n",
       "\n",
       "                     Traffic_Calming  Traffic_Signal  Turning_Loop  \\\n",
       "time                                                                 \n",
       "2016-02-08 00:37:08                0               0             0   \n",
       "2016-02-08 05:56:20                0               0             0   \n",
       "2016-02-08 06:15:39                0               0             0   \n",
       "2016-02-08 06:15:39                0               0             0   \n",
       "2016-02-08 06:51:45                0               0             0   \n",
       "\n",
       "                     Sunrise_Sunset  \n",
       "time                                 \n",
       "2016-02-08 00:37:08               1  \n",
       "2016-02-08 05:56:20               1  \n",
       "2016-02-08 06:15:39               1  \n",
       "2016-02-08 06:15:39               1  \n",
       "2016-02-08 06:51:45               1  \n",
       "\n",
       "[5 rows x 25 columns]"
      ]
     },
     "execution_count": 45,
     "metadata": {},
     "output_type": "execute_result"
    }
   ],
   "source": [
    "X.head()"
   ]
  },
  {
   "cell_type": "code",
   "execution_count": 46,
   "metadata": {
    "colab": {},
    "colab_type": "code",
    "id": "8CJbzNxNRv4Q",
    "outputId": "4c098cc1-251e-42fb-c86f-0ef61c117ee0"
   },
   "outputs": [
    {
     "data": {
      "text/html": [
       "<div>\n",
       "<style scoped>\n",
       "    .dataframe tbody tr th:only-of-type {\n",
       "        vertical-align: middle;\n",
       "    }\n",
       "\n",
       "    .dataframe tbody tr th {\n",
       "        vertical-align: top;\n",
       "    }\n",
       "\n",
       "    .dataframe thead th {\n",
       "        text-align: right;\n",
       "    }\n",
       "</style>\n",
       "<table border=\"1\" class=\"dataframe\">\n",
       "  <thead>\n",
       "    <tr style=\"text-align: right;\">\n",
       "      <th></th>\n",
       "      <th>0</th>\n",
       "      <th>1</th>\n",
       "      <th>2</th>\n",
       "      <th>3</th>\n",
       "      <th>4</th>\n",
       "    </tr>\n",
       "  </thead>\n",
       "  <tbody>\n",
       "    <tr>\n",
       "      <th>0</th>\n",
       "      <td>19.131995</td>\n",
       "      <td>12.497130</td>\n",
       "      <td>12.927815</td>\n",
       "      <td>23.531968</td>\n",
       "      <td>3.346149</td>\n",
       "    </tr>\n",
       "    <tr>\n",
       "      <th>1</th>\n",
       "      <td>25.598544</td>\n",
       "      <td>25.730827</td>\n",
       "      <td>-11.705674</td>\n",
       "      <td>0.533693</td>\n",
       "      <td>-12.514850</td>\n",
       "    </tr>\n",
       "    <tr>\n",
       "      <th>2</th>\n",
       "      <td>48.907760</td>\n",
       "      <td>23.292314</td>\n",
       "      <td>-10.912946</td>\n",
       "      <td>-3.316664</td>\n",
       "      <td>-13.267210</td>\n",
       "    </tr>\n",
       "    <tr>\n",
       "      <th>3</th>\n",
       "      <td>48.907928</td>\n",
       "      <td>23.292385</td>\n",
       "      <td>-10.913789</td>\n",
       "      <td>-3.315677</td>\n",
       "      <td>-13.267347</td>\n",
       "    </tr>\n",
       "    <tr>\n",
       "      <th>4</th>\n",
       "      <td>38.294194</td>\n",
       "      <td>-2.520745</td>\n",
       "      <td>9.739741</td>\n",
       "      <td>20.249891</td>\n",
       "      <td>-17.481105</td>\n",
       "    </tr>\n",
       "  </tbody>\n",
       "</table>\n",
       "</div>"
      ],
      "text/plain": [
       "           0          1          2          3          4\n",
       "0  19.131995  12.497130  12.927815  23.531968   3.346149\n",
       "1  25.598544  25.730827 -11.705674   0.533693 -12.514850\n",
       "2  48.907760  23.292314 -10.912946  -3.316664 -13.267210\n",
       "3  48.907928  23.292385 -10.913789  -3.315677 -13.267347\n",
       "4  38.294194  -2.520745   9.739741  20.249891 -17.481105"
      ]
     },
     "execution_count": 46,
     "metadata": {},
     "output_type": "execute_result"
    }
   ],
   "source": [
    "from sklearn.decomposition import PCA\n",
    "# Make an instance of the Model\n",
    "pca = PCA(.95)\n",
    "pca.fit(X)\n",
    "train_img = pca.transform(X)\n",
    "train = pd.DataFrame(train_img)\n",
    "train.head()"
   ]
  },
  {
   "cell_type": "code",
   "execution_count": 47,
   "metadata": {
    "colab": {},
    "colab_type": "code",
    "id": "6CONdYuRRv4V",
    "outputId": "22979e56-ea64-46fd-c3ed-2c6b42ce52cf"
   },
   "outputs": [
    {
     "data": {
      "text/plain": [
       "(1516064, 5)"
      ]
     },
     "execution_count": 47,
     "metadata": {},
     "output_type": "execute_result"
    }
   ],
   "source": [
    "train.shape"
   ]
  },
  {
   "cell_type": "code",
   "execution_count": 48,
   "metadata": {
    "colab": {},
    "colab_type": "code",
    "id": "pxWKP4zMRv4c"
   },
   "outputs": [],
   "source": [
    "from sklearn.model_selection import train_test_split\n",
    "X_train, X_test, y_train, y_test = train_test_split(train, Y, test_size=0.2, random_state=42)"
   ]
  },
  {
   "cell_type": "code",
   "execution_count": 49,
   "metadata": {
    "colab": {},
    "colab_type": "code",
    "id": "1CJZjda_Rv4f",
    "outputId": "cbb5d591-5b1b-4f32-ccdc-9fd9b8a89a19"
   },
   "outputs": [
    {
     "data": {
      "text/html": [
       "<div>\n",
       "<style scoped>\n",
       "    .dataframe tbody tr th:only-of-type {\n",
       "        vertical-align: middle;\n",
       "    }\n",
       "\n",
       "    .dataframe tbody tr th {\n",
       "        vertical-align: top;\n",
       "    }\n",
       "\n",
       "    .dataframe thead th {\n",
       "        text-align: right;\n",
       "    }\n",
       "</style>\n",
       "<table border=\"1\" class=\"dataframe\">\n",
       "  <thead>\n",
       "    <tr style=\"text-align: right;\">\n",
       "      <th></th>\n",
       "      <th>0</th>\n",
       "      <th>1</th>\n",
       "      <th>2</th>\n",
       "      <th>3</th>\n",
       "      <th>4</th>\n",
       "    </tr>\n",
       "  </thead>\n",
       "  <tbody>\n",
       "    <tr>\n",
       "      <th>0</th>\n",
       "      <td>-0.572148</td>\n",
       "      <td>0.320867</td>\n",
       "      <td>-0.811943</td>\n",
       "      <td>0.964298</td>\n",
       "      <td>-1.085302</td>\n",
       "    </tr>\n",
       "    <tr>\n",
       "      <th>1</th>\n",
       "      <td>-0.486639</td>\n",
       "      <td>1.579659</td>\n",
       "      <td>-0.702213</td>\n",
       "      <td>0.581318</td>\n",
       "      <td>0.250483</td>\n",
       "    </tr>\n",
       "    <tr>\n",
       "      <th>2</th>\n",
       "      <td>-0.571171</td>\n",
       "      <td>0.321187</td>\n",
       "      <td>-0.819225</td>\n",
       "      <td>0.974582</td>\n",
       "      <td>-1.086519</td>\n",
       "    </tr>\n",
       "    <tr>\n",
       "      <th>3</th>\n",
       "      <td>1.159889</td>\n",
       "      <td>-0.630767</td>\n",
       "      <td>-0.954960</td>\n",
       "      <td>0.293795</td>\n",
       "      <td>0.074592</td>\n",
       "    </tr>\n",
       "    <tr>\n",
       "      <th>4</th>\n",
       "      <td>-0.821734</td>\n",
       "      <td>0.214027</td>\n",
       "      <td>1.070306</td>\n",
       "      <td>-0.617576</td>\n",
       "      <td>-1.475426</td>\n",
       "    </tr>\n",
       "  </tbody>\n",
       "</table>\n",
       "</div>"
      ],
      "text/plain": [
       "          0         1         2         3         4\n",
       "0 -0.572148  0.320867 -0.811943  0.964298 -1.085302\n",
       "1 -0.486639  1.579659 -0.702213  0.581318  0.250483\n",
       "2 -0.571171  0.321187 -0.819225  0.974582 -1.086519\n",
       "3  1.159889 -0.630767 -0.954960  0.293795  0.074592\n",
       "4 -0.821734  0.214027  1.070306 -0.617576 -1.475426"
      ]
     },
     "execution_count": 49,
     "metadata": {},
     "output_type": "execute_result"
    }
   ],
   "source": [
    "from sklearn.preprocessing import StandardScaler\n",
    "scaler = StandardScaler()\n",
    "# Fit on training set only.\n",
    "scaler.fit(X_train)\n",
    "# Apply transform to both the training set and the test set.\n",
    "transform = scaler.transform(X_train)\n",
    "#test_img = scaler.transform(test_img)\n",
    "scalar_train = pd.DataFrame(transform)\n",
    "scalar_train.head()"
   ]
  },
  {
   "cell_type": "code",
   "execution_count": 50,
   "metadata": {
    "colab": {},
    "colab_type": "code",
    "id": "LtsLUvtShQd-"
   },
   "outputs": [],
   "source": [
    "from sklearn.preprocessing import StandardScaler\n",
    "scalert = StandardScaler()\n",
    "# Fit on training set only.\n",
    "scalert.fit(X_test)\n",
    "# Apply transform to both the training set and the test set.\n",
    "transformt = scalert.transform(X_test)\n",
    "#test_img = scaler.transform(test_img)\n",
    "scalar_test = pd.DataFrame(transformt)"
   ]
  },
  {
   "cell_type": "markdown",
   "metadata": {},
   "source": [
    " <h1>LOGISTIC REGRESSION</h1>\n"
   ]
  },
  {
   "cell_type": "code",
   "execution_count": 51,
   "metadata": {},
   "outputs": [
    {
     "data": {
      "text/html": [
       "<div>\n",
       "<style scoped>\n",
       "    .dataframe tbody tr th:only-of-type {\n",
       "        vertical-align: middle;\n",
       "    }\n",
       "\n",
       "    .dataframe tbody tr th {\n",
       "        vertical-align: top;\n",
       "    }\n",
       "\n",
       "    .dataframe thead th {\n",
       "        text-align: right;\n",
       "    }\n",
       "</style>\n",
       "<table border=\"1\" class=\"dataframe\">\n",
       "  <thead>\n",
       "    <tr style=\"text-align: right;\">\n",
       "      <th></th>\n",
       "      <th>Severity</th>\n",
       "      <th>Start_Lat</th>\n",
       "      <th>Start_Lng</th>\n",
       "      <th>Temperature(F)</th>\n",
       "      <th>Wind_Chill(F)</th>\n",
       "      <th>Humidity(%)</th>\n",
       "      <th>Pressure(in)</th>\n",
       "      <th>Visibility(mi)</th>\n",
       "      <th>Wind_Direction</th>\n",
       "      <th>Wind_Speed(mph)</th>\n",
       "      <th>...</th>\n",
       "      <th>Junction</th>\n",
       "      <th>No_Exit</th>\n",
       "      <th>Railway</th>\n",
       "      <th>Roundabout</th>\n",
       "      <th>Station</th>\n",
       "      <th>Stop</th>\n",
       "      <th>Traffic_Calming</th>\n",
       "      <th>Traffic_Signal</th>\n",
       "      <th>Turning_Loop</th>\n",
       "      <th>Sunrise_Sunset</th>\n",
       "    </tr>\n",
       "    <tr>\n",
       "      <th>time</th>\n",
       "      <th></th>\n",
       "      <th></th>\n",
       "      <th></th>\n",
       "      <th></th>\n",
       "      <th></th>\n",
       "      <th></th>\n",
       "      <th></th>\n",
       "      <th></th>\n",
       "      <th></th>\n",
       "      <th></th>\n",
       "      <th></th>\n",
       "      <th></th>\n",
       "      <th></th>\n",
       "      <th></th>\n",
       "      <th></th>\n",
       "      <th></th>\n",
       "      <th></th>\n",
       "      <th></th>\n",
       "      <th></th>\n",
       "      <th></th>\n",
       "      <th></th>\n",
       "    </tr>\n",
       "  </thead>\n",
       "  <tbody>\n",
       "    <tr>\n",
       "      <th>2016-02-08 00:37:08</th>\n",
       "      <td>3</td>\n",
       "      <td>40.10891</td>\n",
       "      <td>-83.09286</td>\n",
       "      <td>42.1</td>\n",
       "      <td>36.10000</td>\n",
       "      <td>58.0</td>\n",
       "      <td>29.76</td>\n",
       "      <td>10.0</td>\n",
       "      <td>16</td>\n",
       "      <td>10.400000</td>\n",
       "      <td>...</td>\n",
       "      <td>0</td>\n",
       "      <td>0</td>\n",
       "      <td>0</td>\n",
       "      <td>0</td>\n",
       "      <td>0</td>\n",
       "      <td>0</td>\n",
       "      <td>0</td>\n",
       "      <td>0</td>\n",
       "      <td>0</td>\n",
       "      <td>1</td>\n",
       "    </tr>\n",
       "    <tr>\n",
       "      <th>2016-02-08 05:56:20</th>\n",
       "      <td>2</td>\n",
       "      <td>39.86542</td>\n",
       "      <td>-84.06280</td>\n",
       "      <td>36.9</td>\n",
       "      <td>55.10976</td>\n",
       "      <td>91.0</td>\n",
       "      <td>29.68</td>\n",
       "      <td>10.0</td>\n",
       "      <td>1</td>\n",
       "      <td>7.630812</td>\n",
       "      <td>...</td>\n",
       "      <td>0</td>\n",
       "      <td>0</td>\n",
       "      <td>0</td>\n",
       "      <td>0</td>\n",
       "      <td>0</td>\n",
       "      <td>0</td>\n",
       "      <td>0</td>\n",
       "      <td>0</td>\n",
       "      <td>0</td>\n",
       "      <td>1</td>\n",
       "    </tr>\n",
       "    <tr>\n",
       "      <th>2016-02-08 06:15:39</th>\n",
       "      <td>2</td>\n",
       "      <td>39.10266</td>\n",
       "      <td>-84.52468</td>\n",
       "      <td>36.0</td>\n",
       "      <td>55.10976</td>\n",
       "      <td>97.0</td>\n",
       "      <td>29.70</td>\n",
       "      <td>10.0</td>\n",
       "      <td>1</td>\n",
       "      <td>7.630812</td>\n",
       "      <td>...</td>\n",
       "      <td>1</td>\n",
       "      <td>0</td>\n",
       "      <td>0</td>\n",
       "      <td>0</td>\n",
       "      <td>0</td>\n",
       "      <td>0</td>\n",
       "      <td>0</td>\n",
       "      <td>0</td>\n",
       "      <td>0</td>\n",
       "      <td>1</td>\n",
       "    </tr>\n",
       "    <tr>\n",
       "      <th>2016-02-08 06:15:39</th>\n",
       "      <td>2</td>\n",
       "      <td>39.10148</td>\n",
       "      <td>-84.52341</td>\n",
       "      <td>36.0</td>\n",
       "      <td>55.10976</td>\n",
       "      <td>97.0</td>\n",
       "      <td>29.70</td>\n",
       "      <td>10.0</td>\n",
       "      <td>1</td>\n",
       "      <td>7.630812</td>\n",
       "      <td>...</td>\n",
       "      <td>1</td>\n",
       "      <td>0</td>\n",
       "      <td>0</td>\n",
       "      <td>0</td>\n",
       "      <td>0</td>\n",
       "      <td>0</td>\n",
       "      <td>0</td>\n",
       "      <td>0</td>\n",
       "      <td>0</td>\n",
       "      <td>1</td>\n",
       "    </tr>\n",
       "    <tr>\n",
       "      <th>2016-02-08 06:51:45</th>\n",
       "      <td>2</td>\n",
       "      <td>41.06213</td>\n",
       "      <td>-81.53784</td>\n",
       "      <td>39.0</td>\n",
       "      <td>55.10976</td>\n",
       "      <td>55.0</td>\n",
       "      <td>29.65</td>\n",
       "      <td>10.0</td>\n",
       "      <td>1</td>\n",
       "      <td>7.630812</td>\n",
       "      <td>...</td>\n",
       "      <td>0</td>\n",
       "      <td>0</td>\n",
       "      <td>0</td>\n",
       "      <td>0</td>\n",
       "      <td>0</td>\n",
       "      <td>0</td>\n",
       "      <td>0</td>\n",
       "      <td>0</td>\n",
       "      <td>0</td>\n",
       "      <td>1</td>\n",
       "    </tr>\n",
       "  </tbody>\n",
       "</table>\n",
       "<p>5 rows × 26 columns</p>\n",
       "</div>"
      ],
      "text/plain": [
       "                     Severity  Start_Lat  Start_Lng  Temperature(F)  \\\n",
       "time                                                                  \n",
       "2016-02-08 00:37:08         3   40.10891  -83.09286            42.1   \n",
       "2016-02-08 05:56:20         2   39.86542  -84.06280            36.9   \n",
       "2016-02-08 06:15:39         2   39.10266  -84.52468            36.0   \n",
       "2016-02-08 06:15:39         2   39.10148  -84.52341            36.0   \n",
       "2016-02-08 06:51:45         2   41.06213  -81.53784            39.0   \n",
       "\n",
       "                     Wind_Chill(F)  Humidity(%)  Pressure(in)  Visibility(mi)  \\\n",
       "time                                                                            \n",
       "2016-02-08 00:37:08       36.10000         58.0         29.76            10.0   \n",
       "2016-02-08 05:56:20       55.10976         91.0         29.68            10.0   \n",
       "2016-02-08 06:15:39       55.10976         97.0         29.70            10.0   \n",
       "2016-02-08 06:15:39       55.10976         97.0         29.70            10.0   \n",
       "2016-02-08 06:51:45       55.10976         55.0         29.65            10.0   \n",
       "\n",
       "                     Wind_Direction  Wind_Speed(mph)  ...  Junction  No_Exit  \\\n",
       "time                                                  ...                      \n",
       "2016-02-08 00:37:08              16        10.400000  ...         0        0   \n",
       "2016-02-08 05:56:20               1         7.630812  ...         0        0   \n",
       "2016-02-08 06:15:39               1         7.630812  ...         1        0   \n",
       "2016-02-08 06:15:39               1         7.630812  ...         1        0   \n",
       "2016-02-08 06:51:45               1         7.630812  ...         0        0   \n",
       "\n",
       "                     Railway  Roundabout  Station  Stop  Traffic_Calming  \\\n",
       "time                                                                       \n",
       "2016-02-08 00:37:08        0           0        0     0                0   \n",
       "2016-02-08 05:56:20        0           0        0     0                0   \n",
       "2016-02-08 06:15:39        0           0        0     0                0   \n",
       "2016-02-08 06:15:39        0           0        0     0                0   \n",
       "2016-02-08 06:51:45        0           0        0     0                0   \n",
       "\n",
       "                     Traffic_Signal  Turning_Loop  Sunrise_Sunset  \n",
       "time                                                               \n",
       "2016-02-08 00:37:08               0             0               1  \n",
       "2016-02-08 05:56:20               0             0               1  \n",
       "2016-02-08 06:15:39               0             0               1  \n",
       "2016-02-08 06:15:39               0             0               1  \n",
       "2016-02-08 06:51:45               0             0               1  \n",
       "\n",
       "[5 rows x 26 columns]"
      ]
     },
     "execution_count": 51,
     "metadata": {},
     "output_type": "execute_result"
    }
   ],
   "source": [
    "from sklearn import preprocessing\n",
    "label_encoder = preprocessing.LabelEncoder()\n",
    "df1['Amenity'] = label_encoder.fit_transform(df1['Amenity'])\n",
    "df1['Bump'] = label_encoder.fit_transform(df1['Bump'])\n",
    "df1['Crossing'] = label_encoder.fit_transform(df1['Crossing'])\n",
    "df1['Give_Way'] = label_encoder.fit_transform(df1['Give_Way'])\n",
    "df1['Junction'] = label_encoder.fit_transform(df1['Junction'])\n",
    "df1['No_Exit'] = label_encoder.fit_transform(df1['No_Exit'])\n",
    "df1['Railway'] = label_encoder.fit_transform(df1['Railway'])\n",
    "df1['Roundabout'] = label_encoder.fit_transform(df1['Roundabout'])\n",
    "df1['Station'] = label_encoder.fit_transform(df1['Station'])\n",
    "df1['Stop'] = label_encoder.fit_transform(df1['Stop'])\n",
    "df1['Traffic_Calming'] = label_encoder.fit_transform(df1['Traffic_Calming'])\n",
    "df1['Traffic_Signal'] = label_encoder.fit_transform(df1['Traffic_Signal'])\n",
    "df1['Turning_Loop'] = label_encoder.fit_transform(df1['Turning_Loop'])\n",
    "df1.head()"
   ]
  },
  {
   "cell_type": "code",
   "execution_count": 52,
   "metadata": {},
   "outputs": [
    {
     "data": {
      "text/html": [
       "<div>\n",
       "<style scoped>\n",
       "    .dataframe tbody tr th:only-of-type {\n",
       "        vertical-align: middle;\n",
       "    }\n",
       "\n",
       "    .dataframe tbody tr th {\n",
       "        vertical-align: top;\n",
       "    }\n",
       "\n",
       "    .dataframe thead th {\n",
       "        text-align: right;\n",
       "    }\n",
       "</style>\n",
       "<table border=\"1\" class=\"dataframe\">\n",
       "  <thead>\n",
       "    <tr style=\"text-align: right;\">\n",
       "      <th></th>\n",
       "      <th>Severity</th>\n",
       "      <th>Start_Lat</th>\n",
       "      <th>Start_Lng</th>\n",
       "      <th>Temperature(F)</th>\n",
       "      <th>Wind_Chill(F)</th>\n",
       "      <th>Humidity(%)</th>\n",
       "      <th>Pressure(in)</th>\n",
       "      <th>Visibility(mi)</th>\n",
       "      <th>Wind_Direction</th>\n",
       "      <th>Wind_Speed(mph)</th>\n",
       "      <th>...</th>\n",
       "      <th>Junction</th>\n",
       "      <th>No_Exit</th>\n",
       "      <th>Railway</th>\n",
       "      <th>Roundabout</th>\n",
       "      <th>Station</th>\n",
       "      <th>Stop</th>\n",
       "      <th>Traffic_Calming</th>\n",
       "      <th>Traffic_Signal</th>\n",
       "      <th>Turning_Loop</th>\n",
       "      <th>Sunrise_Sunset</th>\n",
       "    </tr>\n",
       "    <tr>\n",
       "      <th>time</th>\n",
       "      <th></th>\n",
       "      <th></th>\n",
       "      <th></th>\n",
       "      <th></th>\n",
       "      <th></th>\n",
       "      <th></th>\n",
       "      <th></th>\n",
       "      <th></th>\n",
       "      <th></th>\n",
       "      <th></th>\n",
       "      <th></th>\n",
       "      <th></th>\n",
       "      <th></th>\n",
       "      <th></th>\n",
       "      <th></th>\n",
       "      <th></th>\n",
       "      <th></th>\n",
       "      <th></th>\n",
       "      <th></th>\n",
       "      <th></th>\n",
       "      <th></th>\n",
       "    </tr>\n",
       "  </thead>\n",
       "  <tbody>\n",
       "    <tr>\n",
       "      <th>2016-02-08 00:37:08</th>\n",
       "      <td>3</td>\n",
       "      <td>40.10891</td>\n",
       "      <td>-83.09286</td>\n",
       "      <td>42.1</td>\n",
       "      <td>36.10000</td>\n",
       "      <td>58.0</td>\n",
       "      <td>29.76</td>\n",
       "      <td>10.0</td>\n",
       "      <td>16</td>\n",
       "      <td>10.400000</td>\n",
       "      <td>...</td>\n",
       "      <td>0</td>\n",
       "      <td>0</td>\n",
       "      <td>0</td>\n",
       "      <td>0</td>\n",
       "      <td>0</td>\n",
       "      <td>0</td>\n",
       "      <td>0</td>\n",
       "      <td>0</td>\n",
       "      <td>0</td>\n",
       "      <td>1</td>\n",
       "    </tr>\n",
       "    <tr>\n",
       "      <th>2016-02-08 05:56:20</th>\n",
       "      <td>2</td>\n",
       "      <td>39.86542</td>\n",
       "      <td>-84.06280</td>\n",
       "      <td>36.9</td>\n",
       "      <td>55.10976</td>\n",
       "      <td>91.0</td>\n",
       "      <td>29.68</td>\n",
       "      <td>10.0</td>\n",
       "      <td>1</td>\n",
       "      <td>7.630812</td>\n",
       "      <td>...</td>\n",
       "      <td>0</td>\n",
       "      <td>0</td>\n",
       "      <td>0</td>\n",
       "      <td>0</td>\n",
       "      <td>0</td>\n",
       "      <td>0</td>\n",
       "      <td>0</td>\n",
       "      <td>0</td>\n",
       "      <td>0</td>\n",
       "      <td>1</td>\n",
       "    </tr>\n",
       "    <tr>\n",
       "      <th>2016-02-08 06:15:39</th>\n",
       "      <td>2</td>\n",
       "      <td>39.10266</td>\n",
       "      <td>-84.52468</td>\n",
       "      <td>36.0</td>\n",
       "      <td>55.10976</td>\n",
       "      <td>97.0</td>\n",
       "      <td>29.70</td>\n",
       "      <td>10.0</td>\n",
       "      <td>1</td>\n",
       "      <td>7.630812</td>\n",
       "      <td>...</td>\n",
       "      <td>1</td>\n",
       "      <td>0</td>\n",
       "      <td>0</td>\n",
       "      <td>0</td>\n",
       "      <td>0</td>\n",
       "      <td>0</td>\n",
       "      <td>0</td>\n",
       "      <td>0</td>\n",
       "      <td>0</td>\n",
       "      <td>1</td>\n",
       "    </tr>\n",
       "    <tr>\n",
       "      <th>2016-02-08 06:15:39</th>\n",
       "      <td>2</td>\n",
       "      <td>39.10148</td>\n",
       "      <td>-84.52341</td>\n",
       "      <td>36.0</td>\n",
       "      <td>55.10976</td>\n",
       "      <td>97.0</td>\n",
       "      <td>29.70</td>\n",
       "      <td>10.0</td>\n",
       "      <td>1</td>\n",
       "      <td>7.630812</td>\n",
       "      <td>...</td>\n",
       "      <td>1</td>\n",
       "      <td>0</td>\n",
       "      <td>0</td>\n",
       "      <td>0</td>\n",
       "      <td>0</td>\n",
       "      <td>0</td>\n",
       "      <td>0</td>\n",
       "      <td>0</td>\n",
       "      <td>0</td>\n",
       "      <td>1</td>\n",
       "    </tr>\n",
       "    <tr>\n",
       "      <th>2016-02-08 06:51:45</th>\n",
       "      <td>2</td>\n",
       "      <td>41.06213</td>\n",
       "      <td>-81.53784</td>\n",
       "      <td>39.0</td>\n",
       "      <td>55.10976</td>\n",
       "      <td>55.0</td>\n",
       "      <td>29.65</td>\n",
       "      <td>10.0</td>\n",
       "      <td>1</td>\n",
       "      <td>7.630812</td>\n",
       "      <td>...</td>\n",
       "      <td>0</td>\n",
       "      <td>0</td>\n",
       "      <td>0</td>\n",
       "      <td>0</td>\n",
       "      <td>0</td>\n",
       "      <td>0</td>\n",
       "      <td>0</td>\n",
       "      <td>0</td>\n",
       "      <td>0</td>\n",
       "      <td>1</td>\n",
       "    </tr>\n",
       "  </tbody>\n",
       "</table>\n",
       "<p>5 rows × 26 columns</p>\n",
       "</div>"
      ],
      "text/plain": [
       "                     Severity  Start_Lat  Start_Lng  Temperature(F)  \\\n",
       "time                                                                  \n",
       "2016-02-08 00:37:08         3   40.10891  -83.09286            42.1   \n",
       "2016-02-08 05:56:20         2   39.86542  -84.06280            36.9   \n",
       "2016-02-08 06:15:39         2   39.10266  -84.52468            36.0   \n",
       "2016-02-08 06:15:39         2   39.10148  -84.52341            36.0   \n",
       "2016-02-08 06:51:45         2   41.06213  -81.53784            39.0   \n",
       "\n",
       "                     Wind_Chill(F)  Humidity(%)  Pressure(in)  Visibility(mi)  \\\n",
       "time                                                                            \n",
       "2016-02-08 00:37:08       36.10000         58.0         29.76            10.0   \n",
       "2016-02-08 05:56:20       55.10976         91.0         29.68            10.0   \n",
       "2016-02-08 06:15:39       55.10976         97.0         29.70            10.0   \n",
       "2016-02-08 06:15:39       55.10976         97.0         29.70            10.0   \n",
       "2016-02-08 06:51:45       55.10976         55.0         29.65            10.0   \n",
       "\n",
       "                     Wind_Direction  Wind_Speed(mph)  ...  Junction  No_Exit  \\\n",
       "time                                                  ...                      \n",
       "2016-02-08 00:37:08              16        10.400000  ...         0        0   \n",
       "2016-02-08 05:56:20               1         7.630812  ...         0        0   \n",
       "2016-02-08 06:15:39               1         7.630812  ...         1        0   \n",
       "2016-02-08 06:15:39               1         7.630812  ...         1        0   \n",
       "2016-02-08 06:51:45               1         7.630812  ...         0        0   \n",
       "\n",
       "                     Railway  Roundabout  Station  Stop  Traffic_Calming  \\\n",
       "time                                                                       \n",
       "2016-02-08 00:37:08        0           0        0     0                0   \n",
       "2016-02-08 05:56:20        0           0        0     0                0   \n",
       "2016-02-08 06:15:39        0           0        0     0                0   \n",
       "2016-02-08 06:15:39        0           0        0     0                0   \n",
       "2016-02-08 06:51:45        0           0        0     0                0   \n",
       "\n",
       "                     Traffic_Signal  Turning_Loop  Sunrise_Sunset  \n",
       "time                                                               \n",
       "2016-02-08 00:37:08               0             0               1  \n",
       "2016-02-08 05:56:20               0             0               1  \n",
       "2016-02-08 06:15:39               0             0               1  \n",
       "2016-02-08 06:15:39               0             0               1  \n",
       "2016-02-08 06:51:45               0             0               1  \n",
       "\n",
       "[5 rows x 26 columns]"
      ]
     },
     "execution_count": 52,
     "metadata": {},
     "output_type": "execute_result"
    }
   ],
   "source": [
    "df1['Sunrise_Sunset'] = label_encoder.fit_transform(df1['Sunrise_Sunset'])\n",
    "df1['Weather_Condition'] = label_encoder.fit_transform(df1['Weather_Condition'])\n",
    "df1['Wind_Direction'] = label_encoder.fit_transform(df1['Wind_Direction'])\n",
    "\n",
    "df1.head()"
   ]
  },
  {
   "cell_type": "code",
   "execution_count": null,
   "metadata": {},
   "outputs": [],
   "source": []
  },
  {
   "cell_type": "code",
   "execution_count": 53,
   "metadata": {
    "colab": {
     "base_uri": "https://localhost:8080/",
     "height": 138
    },
    "colab_type": "code",
    "executionInfo": {
     "elapsed": 114545,
     "status": "ok",
     "timestamp": 1574882735048,
     "user": {
      "displayName": "NAGA JANAKI DWADASI",
      "photoUrl": "https://lh3.googleusercontent.com/a-/AAuE7mCNnPs8hHiSyLFfbrAUCvgot0jtHt9mljptGxPY=s64",
      "userId": "13815192769009517919"
     },
     "user_tz": 480
    },
    "id": "sylonItbPc3o",
    "outputId": "a00662cd-b6e5-4f45-e1c3-6e61c7aa5253"
   },
   "outputs": [
    {
     "data": {
      "text/plain": [
       "Index(['Severity', 'Start_Lat', 'Start_Lng', 'Temperature(F)', 'Wind_Chill(F)',\n",
       "       'Humidity(%)', 'Pressure(in)', 'Visibility(mi)', 'Wind_Direction',\n",
       "       'Wind_Speed(mph)', 'Precipitation(in)', 'Weather_Condition', 'Amenity',\n",
       "       'Bump', 'Crossing', 'Give_Way', 'Junction', 'No_Exit', 'Railway',\n",
       "       'Roundabout', 'Station', 'Stop', 'Traffic_Calming', 'Traffic_Signal',\n",
       "       'Turning_Loop', 'Sunrise_Sunset'],\n",
       "      dtype='object')"
      ]
     },
     "execution_count": 53,
     "metadata": {},
     "output_type": "execute_result"
    }
   ],
   "source": [
    "df1.columns"
   ]
  },
  {
   "cell_type": "code",
   "execution_count": 54,
   "metadata": {
    "colab": {},
    "colab_type": "code",
    "id": "4INne5vbNZGx"
   },
   "outputs": [],
   "source": [
    "Y = df1['Severity']"
   ]
  },
  {
   "cell_type": "code",
   "execution_count": 55,
   "metadata": {
    "colab": {},
    "colab_type": "code",
    "id": "CLz6p1hKNZG1"
   },
   "outputs": [],
   "source": [
    "X = df1.drop(['Severity'], axis = 1)\n"
   ]
  },
  {
   "cell_type": "code",
   "execution_count": 56,
   "metadata": {
    "colab": {
     "base_uri": "https://localhost:8080/",
     "height": 421
    },
    "colab_type": "code",
    "executionInfo": {
     "elapsed": 115007,
     "status": "ok",
     "timestamp": 1574882735562,
     "user": {
      "displayName": "NAGA JANAKI DWADASI",
      "photoUrl": "https://lh3.googleusercontent.com/a-/AAuE7mCNnPs8hHiSyLFfbrAUCvgot0jtHt9mljptGxPY=s64",
      "userId": "13815192769009517919"
     },
     "user_tz": 480
    },
    "id": "kIlSr4m9NZG3",
    "outputId": "3c776d14-8e95-42ab-c224-68126ca823ea"
   },
   "outputs": [
    {
     "data": {
      "text/html": [
       "<div>\n",
       "<style scoped>\n",
       "    .dataframe tbody tr th:only-of-type {\n",
       "        vertical-align: middle;\n",
       "    }\n",
       "\n",
       "    .dataframe tbody tr th {\n",
       "        vertical-align: top;\n",
       "    }\n",
       "\n",
       "    .dataframe thead th {\n",
       "        text-align: right;\n",
       "    }\n",
       "</style>\n",
       "<table border=\"1\" class=\"dataframe\">\n",
       "  <thead>\n",
       "    <tr style=\"text-align: right;\">\n",
       "      <th></th>\n",
       "      <th>Start_Lat</th>\n",
       "      <th>Start_Lng</th>\n",
       "      <th>Temperature(F)</th>\n",
       "      <th>Wind_Chill(F)</th>\n",
       "      <th>Humidity(%)</th>\n",
       "      <th>Pressure(in)</th>\n",
       "      <th>Visibility(mi)</th>\n",
       "      <th>Wind_Direction</th>\n",
       "      <th>Wind_Speed(mph)</th>\n",
       "      <th>Precipitation(in)</th>\n",
       "      <th>...</th>\n",
       "      <th>Junction</th>\n",
       "      <th>No_Exit</th>\n",
       "      <th>Railway</th>\n",
       "      <th>Roundabout</th>\n",
       "      <th>Station</th>\n",
       "      <th>Stop</th>\n",
       "      <th>Traffic_Calming</th>\n",
       "      <th>Traffic_Signal</th>\n",
       "      <th>Turning_Loop</th>\n",
       "      <th>Sunrise_Sunset</th>\n",
       "    </tr>\n",
       "    <tr>\n",
       "      <th>time</th>\n",
       "      <th></th>\n",
       "      <th></th>\n",
       "      <th></th>\n",
       "      <th></th>\n",
       "      <th></th>\n",
       "      <th></th>\n",
       "      <th></th>\n",
       "      <th></th>\n",
       "      <th></th>\n",
       "      <th></th>\n",
       "      <th></th>\n",
       "      <th></th>\n",
       "      <th></th>\n",
       "      <th></th>\n",
       "      <th></th>\n",
       "      <th></th>\n",
       "      <th></th>\n",
       "      <th></th>\n",
       "      <th></th>\n",
       "      <th></th>\n",
       "      <th></th>\n",
       "    </tr>\n",
       "  </thead>\n",
       "  <tbody>\n",
       "    <tr>\n",
       "      <th>2016-02-08 00:37:08</th>\n",
       "      <td>40.10891</td>\n",
       "      <td>-83.09286</td>\n",
       "      <td>42.1</td>\n",
       "      <td>36.10000</td>\n",
       "      <td>58.0</td>\n",
       "      <td>29.76</td>\n",
       "      <td>10.0</td>\n",
       "      <td>16</td>\n",
       "      <td>10.400000</td>\n",
       "      <td>0.000000</td>\n",
       "      <td>...</td>\n",
       "      <td>0</td>\n",
       "      <td>0</td>\n",
       "      <td>0</td>\n",
       "      <td>0</td>\n",
       "      <td>0</td>\n",
       "      <td>0</td>\n",
       "      <td>0</td>\n",
       "      <td>0</td>\n",
       "      <td>0</td>\n",
       "      <td>1</td>\n",
       "    </tr>\n",
       "    <tr>\n",
       "      <th>2016-02-08 05:56:20</th>\n",
       "      <td>39.86542</td>\n",
       "      <td>-84.06280</td>\n",
       "      <td>36.9</td>\n",
       "      <td>55.10976</td>\n",
       "      <td>91.0</td>\n",
       "      <td>29.68</td>\n",
       "      <td>10.0</td>\n",
       "      <td>1</td>\n",
       "      <td>7.630812</td>\n",
       "      <td>0.020000</td>\n",
       "      <td>...</td>\n",
       "      <td>0</td>\n",
       "      <td>0</td>\n",
       "      <td>0</td>\n",
       "      <td>0</td>\n",
       "      <td>0</td>\n",
       "      <td>0</td>\n",
       "      <td>0</td>\n",
       "      <td>0</td>\n",
       "      <td>0</td>\n",
       "      <td>1</td>\n",
       "    </tr>\n",
       "    <tr>\n",
       "      <th>2016-02-08 06:15:39</th>\n",
       "      <td>39.10266</td>\n",
       "      <td>-84.52468</td>\n",
       "      <td>36.0</td>\n",
       "      <td>55.10976</td>\n",
       "      <td>97.0</td>\n",
       "      <td>29.70</td>\n",
       "      <td>10.0</td>\n",
       "      <td>1</td>\n",
       "      <td>7.630812</td>\n",
       "      <td>0.020000</td>\n",
       "      <td>...</td>\n",
       "      <td>1</td>\n",
       "      <td>0</td>\n",
       "      <td>0</td>\n",
       "      <td>0</td>\n",
       "      <td>0</td>\n",
       "      <td>0</td>\n",
       "      <td>0</td>\n",
       "      <td>0</td>\n",
       "      <td>0</td>\n",
       "      <td>1</td>\n",
       "    </tr>\n",
       "    <tr>\n",
       "      <th>2016-02-08 06:15:39</th>\n",
       "      <td>39.10148</td>\n",
       "      <td>-84.52341</td>\n",
       "      <td>36.0</td>\n",
       "      <td>55.10976</td>\n",
       "      <td>97.0</td>\n",
       "      <td>29.70</td>\n",
       "      <td>10.0</td>\n",
       "      <td>1</td>\n",
       "      <td>7.630812</td>\n",
       "      <td>0.020000</td>\n",
       "      <td>...</td>\n",
       "      <td>1</td>\n",
       "      <td>0</td>\n",
       "      <td>0</td>\n",
       "      <td>0</td>\n",
       "      <td>0</td>\n",
       "      <td>0</td>\n",
       "      <td>0</td>\n",
       "      <td>0</td>\n",
       "      <td>0</td>\n",
       "      <td>1</td>\n",
       "    </tr>\n",
       "    <tr>\n",
       "      <th>2016-02-08 06:51:45</th>\n",
       "      <td>41.06213</td>\n",
       "      <td>-81.53784</td>\n",
       "      <td>39.0</td>\n",
       "      <td>55.10976</td>\n",
       "      <td>55.0</td>\n",
       "      <td>29.65</td>\n",
       "      <td>10.0</td>\n",
       "      <td>1</td>\n",
       "      <td>7.630812</td>\n",
       "      <td>0.008478</td>\n",
       "      <td>...</td>\n",
       "      <td>0</td>\n",
       "      <td>0</td>\n",
       "      <td>0</td>\n",
       "      <td>0</td>\n",
       "      <td>0</td>\n",
       "      <td>0</td>\n",
       "      <td>0</td>\n",
       "      <td>0</td>\n",
       "      <td>0</td>\n",
       "      <td>1</td>\n",
       "    </tr>\n",
       "  </tbody>\n",
       "</table>\n",
       "<p>5 rows × 25 columns</p>\n",
       "</div>"
      ],
      "text/plain": [
       "                     Start_Lat  Start_Lng  Temperature(F)  Wind_Chill(F)  \\\n",
       "time                                                                       \n",
       "2016-02-08 00:37:08   40.10891  -83.09286            42.1       36.10000   \n",
       "2016-02-08 05:56:20   39.86542  -84.06280            36.9       55.10976   \n",
       "2016-02-08 06:15:39   39.10266  -84.52468            36.0       55.10976   \n",
       "2016-02-08 06:15:39   39.10148  -84.52341            36.0       55.10976   \n",
       "2016-02-08 06:51:45   41.06213  -81.53784            39.0       55.10976   \n",
       "\n",
       "                     Humidity(%)  Pressure(in)  Visibility(mi)  \\\n",
       "time                                                             \n",
       "2016-02-08 00:37:08         58.0         29.76            10.0   \n",
       "2016-02-08 05:56:20         91.0         29.68            10.0   \n",
       "2016-02-08 06:15:39         97.0         29.70            10.0   \n",
       "2016-02-08 06:15:39         97.0         29.70            10.0   \n",
       "2016-02-08 06:51:45         55.0         29.65            10.0   \n",
       "\n",
       "                     Wind_Direction  Wind_Speed(mph)  Precipitation(in)  ...  \\\n",
       "time                                                                     ...   \n",
       "2016-02-08 00:37:08              16        10.400000           0.000000  ...   \n",
       "2016-02-08 05:56:20               1         7.630812           0.020000  ...   \n",
       "2016-02-08 06:15:39               1         7.630812           0.020000  ...   \n",
       "2016-02-08 06:15:39               1         7.630812           0.020000  ...   \n",
       "2016-02-08 06:51:45               1         7.630812           0.008478  ...   \n",
       "\n",
       "                     Junction  No_Exit  Railway  Roundabout  Station  Stop  \\\n",
       "time                                                                         \n",
       "2016-02-08 00:37:08         0        0        0           0        0     0   \n",
       "2016-02-08 05:56:20         0        0        0           0        0     0   \n",
       "2016-02-08 06:15:39         1        0        0           0        0     0   \n",
       "2016-02-08 06:15:39         1        0        0           0        0     0   \n",
       "2016-02-08 06:51:45         0        0        0           0        0     0   \n",
       "\n",
       "                     Traffic_Calming  Traffic_Signal  Turning_Loop  \\\n",
       "time                                                                 \n",
       "2016-02-08 00:37:08                0               0             0   \n",
       "2016-02-08 05:56:20                0               0             0   \n",
       "2016-02-08 06:15:39                0               0             0   \n",
       "2016-02-08 06:15:39                0               0             0   \n",
       "2016-02-08 06:51:45                0               0             0   \n",
       "\n",
       "                     Sunrise_Sunset  \n",
       "time                                 \n",
       "2016-02-08 00:37:08               1  \n",
       "2016-02-08 05:56:20               1  \n",
       "2016-02-08 06:15:39               1  \n",
       "2016-02-08 06:15:39               1  \n",
       "2016-02-08 06:51:45               1  \n",
       "\n",
       "[5 rows x 25 columns]"
      ]
     },
     "execution_count": 56,
     "metadata": {},
     "output_type": "execute_result"
    }
   ],
   "source": [
    "X.head()"
   ]
  },
  {
   "cell_type": "code",
   "execution_count": 57,
   "metadata": {
    "colab": {
     "base_uri": "https://localhost:8080/",
     "height": 198
    },
    "colab_type": "code",
    "executionInfo": {
     "elapsed": 122139,
     "status": "ok",
     "timestamp": 1574882742710,
     "user": {
      "displayName": "NAGA JANAKI DWADASI",
      "photoUrl": "https://lh3.googleusercontent.com/a-/AAuE7mCNnPs8hHiSyLFfbrAUCvgot0jtHt9mljptGxPY=s64",
      "userId": "13815192769009517919"
     },
     "user_tz": 480
    },
    "id": "vmKGyF51NZG8",
    "outputId": "93c7243f-0ba4-45f1-8965-0cb629070579"
   },
   "outputs": [
    {
     "data": {
      "text/html": [
       "<div>\n",
       "<style scoped>\n",
       "    .dataframe tbody tr th:only-of-type {\n",
       "        vertical-align: middle;\n",
       "    }\n",
       "\n",
       "    .dataframe tbody tr th {\n",
       "        vertical-align: top;\n",
       "    }\n",
       "\n",
       "    .dataframe thead th {\n",
       "        text-align: right;\n",
       "    }\n",
       "</style>\n",
       "<table border=\"1\" class=\"dataframe\">\n",
       "  <thead>\n",
       "    <tr style=\"text-align: right;\">\n",
       "      <th></th>\n",
       "      <th>0</th>\n",
       "      <th>1</th>\n",
       "      <th>2</th>\n",
       "      <th>3</th>\n",
       "      <th>4</th>\n",
       "    </tr>\n",
       "  </thead>\n",
       "  <tbody>\n",
       "    <tr>\n",
       "      <th>0</th>\n",
       "      <td>19.131995</td>\n",
       "      <td>12.497130</td>\n",
       "      <td>12.927815</td>\n",
       "      <td>23.531968</td>\n",
       "      <td>3.346149</td>\n",
       "    </tr>\n",
       "    <tr>\n",
       "      <th>1</th>\n",
       "      <td>25.598544</td>\n",
       "      <td>25.730827</td>\n",
       "      <td>-11.705674</td>\n",
       "      <td>0.533693</td>\n",
       "      <td>-12.514850</td>\n",
       "    </tr>\n",
       "    <tr>\n",
       "      <th>2</th>\n",
       "      <td>48.907760</td>\n",
       "      <td>23.292314</td>\n",
       "      <td>-10.912946</td>\n",
       "      <td>-3.316664</td>\n",
       "      <td>-13.267210</td>\n",
       "    </tr>\n",
       "    <tr>\n",
       "      <th>3</th>\n",
       "      <td>48.907928</td>\n",
       "      <td>23.292385</td>\n",
       "      <td>-10.913789</td>\n",
       "      <td>-3.315677</td>\n",
       "      <td>-13.267347</td>\n",
       "    </tr>\n",
       "    <tr>\n",
       "      <th>4</th>\n",
       "      <td>38.294194</td>\n",
       "      <td>-2.520745</td>\n",
       "      <td>9.739741</td>\n",
       "      <td>20.249891</td>\n",
       "      <td>-17.481105</td>\n",
       "    </tr>\n",
       "  </tbody>\n",
       "</table>\n",
       "</div>"
      ],
      "text/plain": [
       "           0          1          2          3          4\n",
       "0  19.131995  12.497130  12.927815  23.531968   3.346149\n",
       "1  25.598544  25.730827 -11.705674   0.533693 -12.514850\n",
       "2  48.907760  23.292314 -10.912946  -3.316664 -13.267210\n",
       "3  48.907928  23.292385 -10.913789  -3.315677 -13.267347\n",
       "4  38.294194  -2.520745   9.739741  20.249891 -17.481105"
      ]
     },
     "execution_count": 57,
     "metadata": {},
     "output_type": "execute_result"
    }
   ],
   "source": [
    "from sklearn.decomposition import PCA\n",
    "# Make an instance of the Model\n",
    "pca = PCA(.95)\n",
    "pca.fit(X)\n",
    "train_img = pca.transform(X)\n",
    "train = pd.DataFrame(train_img)\n",
    "train.head()"
   ]
  },
  {
   "cell_type": "code",
   "execution_count": 58,
   "metadata": {
    "colab": {
     "base_uri": "https://localhost:8080/",
     "height": 34
    },
    "colab_type": "code",
    "executionInfo": {
     "elapsed": 122123,
     "status": "ok",
     "timestamp": 1574882742712,
     "user": {
      "displayName": "NAGA JANAKI DWADASI",
      "photoUrl": "https://lh3.googleusercontent.com/a-/AAuE7mCNnPs8hHiSyLFfbrAUCvgot0jtHt9mljptGxPY=s64",
      "userId": "13815192769009517919"
     },
     "user_tz": 480
    },
    "id": "rz1VDpsjNZG-",
    "outputId": "082edaa7-d588-42be-b38b-8c8f6b5f6b3e"
   },
   "outputs": [
    {
     "data": {
      "text/plain": [
       "(1516064, 5)"
      ]
     },
     "execution_count": 58,
     "metadata": {},
     "output_type": "execute_result"
    }
   ],
   "source": [
    "train.shape"
   ]
  },
  {
   "cell_type": "code",
   "execution_count": 59,
   "metadata": {
    "colab": {},
    "colab_type": "code",
    "id": "5BeYVexKNZHA"
   },
   "outputs": [],
   "source": [
    "from sklearn.model_selection import train_test_split\n",
    "X_train, X_test, y_train, y_test = train_test_split(train, Y, test_size=0.2, random_state=42)"
   ]
  },
  {
   "cell_type": "code",
   "execution_count": 60,
   "metadata": {
    "colab": {
     "base_uri": "https://localhost:8080/",
     "height": 198
    },
    "colab_type": "code",
    "executionInfo": {
     "elapsed": 123020,
     "status": "ok",
     "timestamp": 1574882743631,
     "user": {
      "displayName": "NAGA JANAKI DWADASI",
      "photoUrl": "https://lh3.googleusercontent.com/a-/AAuE7mCNnPs8hHiSyLFfbrAUCvgot0jtHt9mljptGxPY=s64",
      "userId": "13815192769009517919"
     },
     "user_tz": 480
    },
    "id": "aizuf_TyNZHD",
    "outputId": "19264d90-5e61-4321-8d0f-4cedb5344272"
   },
   "outputs": [
    {
     "data": {
      "text/html": [
       "<div>\n",
       "<style scoped>\n",
       "    .dataframe tbody tr th:only-of-type {\n",
       "        vertical-align: middle;\n",
       "    }\n",
       "\n",
       "    .dataframe tbody tr th {\n",
       "        vertical-align: top;\n",
       "    }\n",
       "\n",
       "    .dataframe thead th {\n",
       "        text-align: right;\n",
       "    }\n",
       "</style>\n",
       "<table border=\"1\" class=\"dataframe\">\n",
       "  <thead>\n",
       "    <tr style=\"text-align: right;\">\n",
       "      <th></th>\n",
       "      <th>0</th>\n",
       "      <th>1</th>\n",
       "      <th>2</th>\n",
       "      <th>3</th>\n",
       "      <th>4</th>\n",
       "    </tr>\n",
       "  </thead>\n",
       "  <tbody>\n",
       "    <tr>\n",
       "      <th>0</th>\n",
       "      <td>-0.572148</td>\n",
       "      <td>0.320867</td>\n",
       "      <td>-0.811943</td>\n",
       "      <td>0.964298</td>\n",
       "      <td>-1.085302</td>\n",
       "    </tr>\n",
       "    <tr>\n",
       "      <th>1</th>\n",
       "      <td>-0.486639</td>\n",
       "      <td>1.579659</td>\n",
       "      <td>-0.702213</td>\n",
       "      <td>0.581318</td>\n",
       "      <td>0.250483</td>\n",
       "    </tr>\n",
       "    <tr>\n",
       "      <th>2</th>\n",
       "      <td>-0.571171</td>\n",
       "      <td>0.321187</td>\n",
       "      <td>-0.819225</td>\n",
       "      <td>0.974582</td>\n",
       "      <td>-1.086519</td>\n",
       "    </tr>\n",
       "    <tr>\n",
       "      <th>3</th>\n",
       "      <td>1.159889</td>\n",
       "      <td>-0.630767</td>\n",
       "      <td>-0.954960</td>\n",
       "      <td>0.293795</td>\n",
       "      <td>0.074592</td>\n",
       "    </tr>\n",
       "    <tr>\n",
       "      <th>4</th>\n",
       "      <td>-0.821734</td>\n",
       "      <td>0.214027</td>\n",
       "      <td>1.070306</td>\n",
       "      <td>-0.617576</td>\n",
       "      <td>-1.475426</td>\n",
       "    </tr>\n",
       "  </tbody>\n",
       "</table>\n",
       "</div>"
      ],
      "text/plain": [
       "          0         1         2         3         4\n",
       "0 -0.572148  0.320867 -0.811943  0.964298 -1.085302\n",
       "1 -0.486639  1.579659 -0.702213  0.581318  0.250483\n",
       "2 -0.571171  0.321187 -0.819225  0.974582 -1.086519\n",
       "3  1.159889 -0.630767 -0.954960  0.293795  0.074592\n",
       "4 -0.821734  0.214027  1.070306 -0.617576 -1.475426"
      ]
     },
     "execution_count": 60,
     "metadata": {},
     "output_type": "execute_result"
    }
   ],
   "source": [
    "from sklearn.preprocessing import StandardScaler\n",
    "scaler = StandardScaler()\n",
    "# Fit on training set only.\n",
    "scaler.fit(X_train)\n",
    "# Apply transform to both the training set and the test set.\n",
    "transform = scaler.transform(X_train)\n",
    "#test_img = scaler.transform(test_img)\n",
    "scalar_train = pd.DataFrame(transform)\n",
    "scalar_train.head()"
   ]
  },
  {
   "cell_type": "code",
   "execution_count": 61,
   "metadata": {
    "colab": {
     "base_uri": "https://localhost:8080/",
     "height": 34
    },
    "colab_type": "code",
    "executionInfo": {
     "elapsed": 123012,
     "status": "ok",
     "timestamp": 1574882743633,
     "user": {
      "displayName": "NAGA JANAKI DWADASI",
      "photoUrl": "https://lh3.googleusercontent.com/a-/AAuE7mCNnPs8hHiSyLFfbrAUCvgot0jtHt9mljptGxPY=s64",
      "userId": "13815192769009517919"
     },
     "user_tz": 480
    },
    "id": "kIpez3wvNvBr",
    "outputId": "09065b56-5cd3-42aa-b469-62b33c6889f1"
   },
   "outputs": [
    {
     "data": {
      "text/plain": [
       "array([2, 3, 4, 1], dtype=int64)"
      ]
     },
     "execution_count": 61,
     "metadata": {},
     "output_type": "execute_result"
    }
   ],
   "source": [
    "y_train.unique()"
   ]
  },
  {
   "cell_type": "code",
   "execution_count": 62,
   "metadata": {
    "colab": {},
    "colab_type": "code",
    "id": "sYKg9Fg7NZHF"
   },
   "outputs": [],
   "source": [
    "from sklearn.linear_model import LogisticRegression\n",
    "clf = LogisticRegression(random_state=0, solver='lbfgs', multi_class='multinomial').fit(scalar_train, y_train) "
   ]
  },
  {
   "cell_type": "code",
   "execution_count": 63,
   "metadata": {
    "colab": {},
    "colab_type": "code",
    "id": "8Du3YfXRSaVQ"
   },
   "outputs": [],
   "source": [
    "from sklearn.preprocessing import StandardScaler\n",
    "scalert = StandardScaler()\n",
    "# Fit on training set only.\n",
    "scalert.fit(X_test)\n",
    "# Apply transform to both the training set and the test set.\n",
    "transformt = scalert.transform(X_test)\n",
    "#test_img = scaler.transform(test_img)\n",
    "scalar_test = pd.DataFrame(transformt)"
   ]
  },
  {
   "cell_type": "code",
   "execution_count": 64,
   "metadata": {
    "colab": {},
    "colab_type": "code",
    "id": "6mn7NmjXQrie"
   },
   "outputs": [],
   "source": [
    "y_pred = clf.predict(scalar_test)"
   ]
  },
  {
   "cell_type": "code",
   "execution_count": 65,
   "metadata": {
    "colab": {
     "base_uri": "https://localhost:8080/",
     "height": 34
    },
    "colab_type": "code",
    "executionInfo": {
     "elapsed": 213953,
     "status": "ok",
     "timestamp": 1574882834629,
     "user": {
      "displayName": "NAGA JANAKI DWADASI",
      "photoUrl": "https://lh3.googleusercontent.com/a-/AAuE7mCNnPs8hHiSyLFfbrAUCvgot0jtHt9mljptGxPY=s64",
      "userId": "13815192769009517919"
     },
     "user_tz": 480
    },
    "id": "EFXLdcjNSJuI",
    "outputId": "53873167-4e32-4469-c9ac-c716c33c6f9b"
   },
   "outputs": [
    {
     "data": {
      "text/plain": [
       "0.7999531681962583"
      ]
     },
     "execution_count": 65,
     "metadata": {},
     "output_type": "execute_result"
    }
   ],
   "source": [
    "clf.score(scalar_train, y_train)"
   ]
  },
  {
   "cell_type": "code",
   "execution_count": 66,
   "metadata": {
    "colab": {
     "base_uri": "https://localhost:8080/",
     "height": 34
    },
    "colab_type": "code",
    "executionInfo": {
     "elapsed": 213942,
     "status": "ok",
     "timestamp": 1574882834630,
     "user": {
      "displayName": "NAGA JANAKI DWADASI",
      "photoUrl": "https://lh3.googleusercontent.com/a-/AAuE7mCNnPs8hHiSyLFfbrAUCvgot0jtHt9mljptGxPY=s64",
      "userId": "13815192769009517919"
     },
     "user_tz": 480
    },
    "id": "nLRjpOXjSVp9",
    "outputId": "71ddf16a-107b-40bf-b4ea-73d284bb5b78"
   },
   "outputs": [
    {
     "data": {
      "text/plain": [
       "0.7986168139228859"
      ]
     },
     "execution_count": 66,
     "metadata": {},
     "output_type": "execute_result"
    }
   ],
   "source": [
    "from sklearn.metrics import accuracy_score\n",
    "accuracy_score(y_test, y_pred)"
   ]
  },
  {
   "cell_type": "markdown",
   "metadata": {},
   "source": [
    " <h1>DECISION TREE</h1>"
   ]
  },
  {
   "cell_type": "code",
   "execution_count": 67,
   "metadata": {},
   "outputs": [
    {
     "name": "stdout",
     "output_type": "stream",
     "text": [
      "Collecting package metadata (current_repodata.json): ...working... done\n",
      "Solving environment: ...working... done\n",
      "\n",
      "# All requested packages already installed.\n",
      "\n",
      "\n",
      "Note: you may need to restart the kernel to use updated packages.\n"
     ]
    }
   ],
   "source": [
    "conda install python-graphviz"
   ]
  },
  {
   "cell_type": "code",
   "execution_count": 73,
   "metadata": {
    "colab": {},
    "colab_type": "code",
    "id": "ozloHVqDhq8X"
   },
   "outputs": [],
   "source": [
    "import pandas as pd\n",
    "from sklearn.tree import DecisionTreeClassifier \n",
    "from sklearn.model_selection import train_test_split \n",
    "from sklearn import metrics "
   ]
  },
  {
   "cell_type": "code",
   "execution_count": 74,
   "metadata": {
    "colab": {},
    "colab_type": "code",
    "id": "JnbK9-8ihwOH"
   },
   "outputs": [],
   "source": [
    "X_train, X_test, y_train, y_test = train_test_split(X, Y , test_size=0.3, random_state=120)"
   ]
  },
  {
   "cell_type": "markdown",
   "metadata": {
    "colab": {
     "base_uri": "https://localhost:8080/",
     "height": 224
    },
    "colab_type": "code",
    "id": "W2Kj2p5o_WB4",
    "outputId": "d5ab698a-7656-47a5-f1d6-14862287ee13"
   },
   "source": [
    "from sklearn.preprocessing import StandardScaler\n",
    "scaler = StandardScaler()\n",
    "\n",
    "scaler.fit(X_train)\n",
    "\n",
    "transform = scaler.transform(X_train)\n",
    "scalar_train = pd.DataFrame(transform)\n",
    "scalar_train.head()"
   ]
  },
  {
   "cell_type": "code",
   "execution_count": 81,
   "metadata": {
    "colab": {},
    "colab_type": "code",
    "id": "yUpcf_XA_jbZ"
   },
   "outputs": [],
   "source": [
    "scalert = StandardScaler()\n",
    "# Fit on training set only.\n",
    "scalert.fit(X_test)\n",
    "# Apply transform to both the training set and the test set.\n",
    "transformt = scalert.transform(X_test)\n",
    "#test_img = scaler.transform(test_img)\n",
    "scalar_test = pd.DataFrame(transformt)"
   ]
  },
  {
   "cell_type": "code",
   "execution_count": 82,
   "metadata": {
    "colab": {},
    "colab_type": "code",
    "id": "rxD6bHDJhycV"
   },
   "outputs": [],
   "source": [
    "clf = DecisionTreeClassifier(random_state = 120, criterion=\"entropy\", max_depth=4)\n"
   ]
  },
  {
   "cell_type": "code",
   "execution_count": 83,
   "metadata": {
    "colab": {},
    "colab_type": "code",
    "id": "YR174JBbh0of"
   },
   "outputs": [
    {
     "ename": "ValueError",
     "evalue": "Number of labels=1061244 does not match number of samples=1212851",
     "output_type": "error",
     "traceback": [
      "\u001b[1;31m---------------------------------------------------------------------------\u001b[0m",
      "\u001b[1;31mValueError\u001b[0m                                Traceback (most recent call last)",
      "\u001b[1;32m<ipython-input-83-61b753beab0d>\u001b[0m in \u001b[0;36m<module>\u001b[1;34m\u001b[0m\n\u001b[1;32m----> 1\u001b[1;33m \u001b[0mclf\u001b[0m \u001b[1;33m=\u001b[0m \u001b[0mclf\u001b[0m\u001b[1;33m.\u001b[0m\u001b[0mfit\u001b[0m\u001b[1;33m(\u001b[0m\u001b[0mscalar_train\u001b[0m\u001b[1;33m,\u001b[0m\u001b[0my_train\u001b[0m\u001b[1;33m)\u001b[0m\u001b[1;33m\u001b[0m\u001b[1;33m\u001b[0m\u001b[0m\n\u001b[0m",
      "\u001b[1;32m~\\anaconda3\\lib\\site-packages\\sklearn\\tree\\_classes.py\u001b[0m in \u001b[0;36mfit\u001b[1;34m(self, X, y, sample_weight, check_input, X_idx_sorted)\u001b[0m\n\u001b[0;32m    896\u001b[0m         \"\"\"\n\u001b[0;32m    897\u001b[0m \u001b[1;33m\u001b[0m\u001b[0m\n\u001b[1;32m--> 898\u001b[1;33m         super().fit(\n\u001b[0m\u001b[0;32m    899\u001b[0m             \u001b[0mX\u001b[0m\u001b[1;33m,\u001b[0m \u001b[0my\u001b[0m\u001b[1;33m,\u001b[0m\u001b[1;33m\u001b[0m\u001b[1;33m\u001b[0m\u001b[0m\n\u001b[0;32m    900\u001b[0m             \u001b[0msample_weight\u001b[0m\u001b[1;33m=\u001b[0m\u001b[0msample_weight\u001b[0m\u001b[1;33m,\u001b[0m\u001b[1;33m\u001b[0m\u001b[1;33m\u001b[0m\u001b[0m\n",
      "\u001b[1;32m~\\anaconda3\\lib\\site-packages\\sklearn\\tree\\_classes.py\u001b[0m in \u001b[0;36mfit\u001b[1;34m(self, X, y, sample_weight, check_input, X_idx_sorted)\u001b[0m\n\u001b[0;32m    279\u001b[0m \u001b[1;33m\u001b[0m\u001b[0m\n\u001b[0;32m    280\u001b[0m         \u001b[1;32mif\u001b[0m \u001b[0mlen\u001b[0m\u001b[1;33m(\u001b[0m\u001b[0my\u001b[0m\u001b[1;33m)\u001b[0m \u001b[1;33m!=\u001b[0m \u001b[0mn_samples\u001b[0m\u001b[1;33m:\u001b[0m\u001b[1;33m\u001b[0m\u001b[1;33m\u001b[0m\u001b[0m\n\u001b[1;32m--> 281\u001b[1;33m             raise ValueError(\"Number of labels=%d does not match \"\n\u001b[0m\u001b[0;32m    282\u001b[0m                              \"number of samples=%d\" % (len(y), n_samples))\n\u001b[0;32m    283\u001b[0m         \u001b[1;32mif\u001b[0m \u001b[1;32mnot\u001b[0m \u001b[1;36m0\u001b[0m \u001b[1;33m<=\u001b[0m \u001b[0mself\u001b[0m\u001b[1;33m.\u001b[0m\u001b[0mmin_weight_fraction_leaf\u001b[0m \u001b[1;33m<=\u001b[0m \u001b[1;36m0.5\u001b[0m\u001b[1;33m:\u001b[0m\u001b[1;33m\u001b[0m\u001b[1;33m\u001b[0m\u001b[0m\n",
      "\u001b[1;31mValueError\u001b[0m: Number of labels=1061244 does not match number of samples=1212851"
     ]
    }
   ],
   "source": [
    "clf = clf.fit(scalar_train,y_train)"
   ]
  },
  {
   "cell_type": "code",
   "execution_count": 78,
   "metadata": {
    "colab": {},
    "colab_type": "code",
    "id": "RcL66UAih26V"
   },
   "outputs": [
    {
     "ename": "ValueError",
     "evalue": "X has 25 features, but DecisionTreeClassifier is expecting 5 features as input.",
     "output_type": "error",
     "traceback": [
      "\u001b[1;31m---------------------------------------------------------------------------\u001b[0m",
      "\u001b[1;31mValueError\u001b[0m                                Traceback (most recent call last)",
      "\u001b[1;32m<ipython-input-78-e17e74290a1e>\u001b[0m in \u001b[0;36m<module>\u001b[1;34m\u001b[0m\n\u001b[1;32m----> 1\u001b[1;33m \u001b[0my_pred\u001b[0m \u001b[1;33m=\u001b[0m \u001b[0mclf\u001b[0m\u001b[1;33m.\u001b[0m\u001b[0mpredict\u001b[0m\u001b[1;33m(\u001b[0m\u001b[0mscalar_test\u001b[0m\u001b[1;33m)\u001b[0m\u001b[1;33m\u001b[0m\u001b[1;33m\u001b[0m\u001b[0m\n\u001b[0m",
      "\u001b[1;32m~\\anaconda3\\lib\\site-packages\\sklearn\\tree\\_classes.py\u001b[0m in \u001b[0;36mpredict\u001b[1;34m(self, X, check_input)\u001b[0m\n\u001b[0;32m    435\u001b[0m         \"\"\"\n\u001b[0;32m    436\u001b[0m         \u001b[0mcheck_is_fitted\u001b[0m\u001b[1;33m(\u001b[0m\u001b[0mself\u001b[0m\u001b[1;33m)\u001b[0m\u001b[1;33m\u001b[0m\u001b[1;33m\u001b[0m\u001b[0m\n\u001b[1;32m--> 437\u001b[1;33m         \u001b[0mX\u001b[0m \u001b[1;33m=\u001b[0m \u001b[0mself\u001b[0m\u001b[1;33m.\u001b[0m\u001b[0m_validate_X_predict\u001b[0m\u001b[1;33m(\u001b[0m\u001b[0mX\u001b[0m\u001b[1;33m,\u001b[0m \u001b[0mcheck_input\u001b[0m\u001b[1;33m)\u001b[0m\u001b[1;33m\u001b[0m\u001b[1;33m\u001b[0m\u001b[0m\n\u001b[0m\u001b[0;32m    438\u001b[0m         \u001b[0mproba\u001b[0m \u001b[1;33m=\u001b[0m \u001b[0mself\u001b[0m\u001b[1;33m.\u001b[0m\u001b[0mtree_\u001b[0m\u001b[1;33m.\u001b[0m\u001b[0mpredict\u001b[0m\u001b[1;33m(\u001b[0m\u001b[0mX\u001b[0m\u001b[1;33m)\u001b[0m\u001b[1;33m\u001b[0m\u001b[1;33m\u001b[0m\u001b[0m\n\u001b[0;32m    439\u001b[0m         \u001b[0mn_samples\u001b[0m \u001b[1;33m=\u001b[0m \u001b[0mX\u001b[0m\u001b[1;33m.\u001b[0m\u001b[0mshape\u001b[0m\u001b[1;33m[\u001b[0m\u001b[1;36m0\u001b[0m\u001b[1;33m]\u001b[0m\u001b[1;33m\u001b[0m\u001b[1;33m\u001b[0m\u001b[0m\n",
      "\u001b[1;32m~\\anaconda3\\lib\\site-packages\\sklearn\\tree\\_classes.py\u001b[0m in \u001b[0;36m_validate_X_predict\u001b[1;34m(self, X, check_input)\u001b[0m\n\u001b[0;32m    400\u001b[0m         \u001b[1;34m\"\"\"Validate the training data on predict (probabilities).\"\"\"\u001b[0m\u001b[1;33m\u001b[0m\u001b[1;33m\u001b[0m\u001b[0m\n\u001b[0;32m    401\u001b[0m         \u001b[1;32mif\u001b[0m \u001b[0mcheck_input\u001b[0m\u001b[1;33m:\u001b[0m\u001b[1;33m\u001b[0m\u001b[1;33m\u001b[0m\u001b[0m\n\u001b[1;32m--> 402\u001b[1;33m             X = self._validate_data(X, dtype=DTYPE, accept_sparse=\"csr\",\n\u001b[0m\u001b[0;32m    403\u001b[0m                                     reset=False)\n\u001b[0;32m    404\u001b[0m             if issparse(X) and (X.indices.dtype != np.intc or\n",
      "\u001b[1;32m~\\anaconda3\\lib\\site-packages\\sklearn\\base.py\u001b[0m in \u001b[0;36m_validate_data\u001b[1;34m(self, X, y, reset, validate_separately, **check_params)\u001b[0m\n\u001b[0;32m    435\u001b[0m \u001b[1;33m\u001b[0m\u001b[0m\n\u001b[0;32m    436\u001b[0m         \u001b[1;32mif\u001b[0m \u001b[0mcheck_params\u001b[0m\u001b[1;33m.\u001b[0m\u001b[0mget\u001b[0m\u001b[1;33m(\u001b[0m\u001b[1;34m'ensure_2d'\u001b[0m\u001b[1;33m,\u001b[0m \u001b[1;32mTrue\u001b[0m\u001b[1;33m)\u001b[0m\u001b[1;33m:\u001b[0m\u001b[1;33m\u001b[0m\u001b[1;33m\u001b[0m\u001b[0m\n\u001b[1;32m--> 437\u001b[1;33m             \u001b[0mself\u001b[0m\u001b[1;33m.\u001b[0m\u001b[0m_check_n_features\u001b[0m\u001b[1;33m(\u001b[0m\u001b[0mX\u001b[0m\u001b[1;33m,\u001b[0m \u001b[0mreset\u001b[0m\u001b[1;33m=\u001b[0m\u001b[0mreset\u001b[0m\u001b[1;33m)\u001b[0m\u001b[1;33m\u001b[0m\u001b[1;33m\u001b[0m\u001b[0m\n\u001b[0m\u001b[0;32m    438\u001b[0m \u001b[1;33m\u001b[0m\u001b[0m\n\u001b[0;32m    439\u001b[0m         \u001b[1;32mreturn\u001b[0m \u001b[0mout\u001b[0m\u001b[1;33m\u001b[0m\u001b[1;33m\u001b[0m\u001b[0m\n",
      "\u001b[1;32m~\\anaconda3\\lib\\site-packages\\sklearn\\base.py\u001b[0m in \u001b[0;36m_check_n_features\u001b[1;34m(self, X, reset)\u001b[0m\n\u001b[0;32m    363\u001b[0m \u001b[1;33m\u001b[0m\u001b[0m\n\u001b[0;32m    364\u001b[0m         \u001b[1;32mif\u001b[0m \u001b[0mn_features\u001b[0m \u001b[1;33m!=\u001b[0m \u001b[0mself\u001b[0m\u001b[1;33m.\u001b[0m\u001b[0mn_features_in_\u001b[0m\u001b[1;33m:\u001b[0m\u001b[1;33m\u001b[0m\u001b[1;33m\u001b[0m\u001b[0m\n\u001b[1;32m--> 365\u001b[1;33m             raise ValueError(\n\u001b[0m\u001b[0;32m    366\u001b[0m                 \u001b[1;34mf\"X has {n_features} features, but {self.__class__.__name__} \"\u001b[0m\u001b[1;33m\u001b[0m\u001b[1;33m\u001b[0m\u001b[0m\n\u001b[0;32m    367\u001b[0m                 f\"is expecting {self.n_features_in_} features as input.\")\n",
      "\u001b[1;31mValueError\u001b[0m: X has 25 features, but DecisionTreeClassifier is expecting 5 features as input."
     ]
    }
   ],
   "source": [
    "y_pred = clf.predict(scalar_test)"
   ]
  },
  {
   "cell_type": "code",
   "execution_count": 80,
   "metadata": {
    "colab": {
     "base_uri": "https://localhost:8080/",
     "height": 34
    },
    "colab_type": "code",
    "id": "3aTRDmjvh6NF",
    "outputId": "34d1de37-0070-408f-f94c-7e3c6f9e8a71"
   },
   "outputs": [
    {
     "ename": "ValueError",
     "evalue": "Found input variables with inconsistent numbers of samples: [454820, 303213]",
     "output_type": "error",
     "traceback": [
      "\u001b[1;31m---------------------------------------------------------------------------\u001b[0m",
      "\u001b[1;31mValueError\u001b[0m                                Traceback (most recent call last)",
      "\u001b[1;32m<ipython-input-80-a5b7bda5d50e>\u001b[0m in \u001b[0;36m<module>\u001b[1;34m\u001b[0m\n\u001b[1;32m----> 1\u001b[1;33m \u001b[0mprint\u001b[0m\u001b[1;33m(\u001b[0m\u001b[1;34m\"Accuracy:\"\u001b[0m\u001b[1;33m,\u001b[0m\u001b[0mmetrics\u001b[0m\u001b[1;33m.\u001b[0m\u001b[0maccuracy_score\u001b[0m\u001b[1;33m(\u001b[0m\u001b[0my_test\u001b[0m\u001b[1;33m,\u001b[0m \u001b[0my_pred\u001b[0m\u001b[1;33m)\u001b[0m\u001b[1;33m)\u001b[0m\u001b[1;33m\u001b[0m\u001b[1;33m\u001b[0m\u001b[0m\n\u001b[0m",
      "\u001b[1;32m~\\anaconda3\\lib\\site-packages\\sklearn\\utils\\validation.py\u001b[0m in \u001b[0;36minner_f\u001b[1;34m(*args, **kwargs)\u001b[0m\n\u001b[0;32m     61\u001b[0m             \u001b[0mextra_args\u001b[0m \u001b[1;33m=\u001b[0m \u001b[0mlen\u001b[0m\u001b[1;33m(\u001b[0m\u001b[0margs\u001b[0m\u001b[1;33m)\u001b[0m \u001b[1;33m-\u001b[0m \u001b[0mlen\u001b[0m\u001b[1;33m(\u001b[0m\u001b[0mall_args\u001b[0m\u001b[1;33m)\u001b[0m\u001b[1;33m\u001b[0m\u001b[1;33m\u001b[0m\u001b[0m\n\u001b[0;32m     62\u001b[0m             \u001b[1;32mif\u001b[0m \u001b[0mextra_args\u001b[0m \u001b[1;33m<=\u001b[0m \u001b[1;36m0\u001b[0m\u001b[1;33m:\u001b[0m\u001b[1;33m\u001b[0m\u001b[1;33m\u001b[0m\u001b[0m\n\u001b[1;32m---> 63\u001b[1;33m                 \u001b[1;32mreturn\u001b[0m \u001b[0mf\u001b[0m\u001b[1;33m(\u001b[0m\u001b[1;33m*\u001b[0m\u001b[0margs\u001b[0m\u001b[1;33m,\u001b[0m \u001b[1;33m**\u001b[0m\u001b[0mkwargs\u001b[0m\u001b[1;33m)\u001b[0m\u001b[1;33m\u001b[0m\u001b[1;33m\u001b[0m\u001b[0m\n\u001b[0m\u001b[0;32m     64\u001b[0m \u001b[1;33m\u001b[0m\u001b[0m\n\u001b[0;32m     65\u001b[0m             \u001b[1;31m# extra_args > 0\u001b[0m\u001b[1;33m\u001b[0m\u001b[1;33m\u001b[0m\u001b[1;33m\u001b[0m\u001b[0m\n",
      "\u001b[1;32m~\\anaconda3\\lib\\site-packages\\sklearn\\metrics\\_classification.py\u001b[0m in \u001b[0;36maccuracy_score\u001b[1;34m(y_true, y_pred, normalize, sample_weight)\u001b[0m\n\u001b[0;32m    200\u001b[0m \u001b[1;33m\u001b[0m\u001b[0m\n\u001b[0;32m    201\u001b[0m     \u001b[1;31m# Compute accuracy for each possible representation\u001b[0m\u001b[1;33m\u001b[0m\u001b[1;33m\u001b[0m\u001b[1;33m\u001b[0m\u001b[0m\n\u001b[1;32m--> 202\u001b[1;33m     \u001b[0my_type\u001b[0m\u001b[1;33m,\u001b[0m \u001b[0my_true\u001b[0m\u001b[1;33m,\u001b[0m \u001b[0my_pred\u001b[0m \u001b[1;33m=\u001b[0m \u001b[0m_check_targets\u001b[0m\u001b[1;33m(\u001b[0m\u001b[0my_true\u001b[0m\u001b[1;33m,\u001b[0m \u001b[0my_pred\u001b[0m\u001b[1;33m)\u001b[0m\u001b[1;33m\u001b[0m\u001b[1;33m\u001b[0m\u001b[0m\n\u001b[0m\u001b[0;32m    203\u001b[0m     \u001b[0mcheck_consistent_length\u001b[0m\u001b[1;33m(\u001b[0m\u001b[0my_true\u001b[0m\u001b[1;33m,\u001b[0m \u001b[0my_pred\u001b[0m\u001b[1;33m,\u001b[0m \u001b[0msample_weight\u001b[0m\u001b[1;33m)\u001b[0m\u001b[1;33m\u001b[0m\u001b[1;33m\u001b[0m\u001b[0m\n\u001b[0;32m    204\u001b[0m     \u001b[1;32mif\u001b[0m \u001b[0my_type\u001b[0m\u001b[1;33m.\u001b[0m\u001b[0mstartswith\u001b[0m\u001b[1;33m(\u001b[0m\u001b[1;34m'multilabel'\u001b[0m\u001b[1;33m)\u001b[0m\u001b[1;33m:\u001b[0m\u001b[1;33m\u001b[0m\u001b[1;33m\u001b[0m\u001b[0m\n",
      "\u001b[1;32m~\\anaconda3\\lib\\site-packages\\sklearn\\metrics\\_classification.py\u001b[0m in \u001b[0;36m_check_targets\u001b[1;34m(y_true, y_pred)\u001b[0m\n\u001b[0;32m     81\u001b[0m     \u001b[0my_pred\u001b[0m \u001b[1;33m:\u001b[0m \u001b[0marray\u001b[0m \u001b[1;32mor\u001b[0m \u001b[0mindicator\u001b[0m \u001b[0mmatrix\u001b[0m\u001b[1;33m\u001b[0m\u001b[1;33m\u001b[0m\u001b[0m\n\u001b[0;32m     82\u001b[0m     \"\"\"\n\u001b[1;32m---> 83\u001b[1;33m     \u001b[0mcheck_consistent_length\u001b[0m\u001b[1;33m(\u001b[0m\u001b[0my_true\u001b[0m\u001b[1;33m,\u001b[0m \u001b[0my_pred\u001b[0m\u001b[1;33m)\u001b[0m\u001b[1;33m\u001b[0m\u001b[1;33m\u001b[0m\u001b[0m\n\u001b[0m\u001b[0;32m     84\u001b[0m     \u001b[0mtype_true\u001b[0m \u001b[1;33m=\u001b[0m \u001b[0mtype_of_target\u001b[0m\u001b[1;33m(\u001b[0m\u001b[0my_true\u001b[0m\u001b[1;33m)\u001b[0m\u001b[1;33m\u001b[0m\u001b[1;33m\u001b[0m\u001b[0m\n\u001b[0;32m     85\u001b[0m     \u001b[0mtype_pred\u001b[0m \u001b[1;33m=\u001b[0m \u001b[0mtype_of_target\u001b[0m\u001b[1;33m(\u001b[0m\u001b[0my_pred\u001b[0m\u001b[1;33m)\u001b[0m\u001b[1;33m\u001b[0m\u001b[1;33m\u001b[0m\u001b[0m\n",
      "\u001b[1;32m~\\anaconda3\\lib\\site-packages\\sklearn\\utils\\validation.py\u001b[0m in \u001b[0;36mcheck_consistent_length\u001b[1;34m(*arrays)\u001b[0m\n\u001b[0;32m    260\u001b[0m     \u001b[0muniques\u001b[0m \u001b[1;33m=\u001b[0m \u001b[0mnp\u001b[0m\u001b[1;33m.\u001b[0m\u001b[0munique\u001b[0m\u001b[1;33m(\u001b[0m\u001b[0mlengths\u001b[0m\u001b[1;33m)\u001b[0m\u001b[1;33m\u001b[0m\u001b[1;33m\u001b[0m\u001b[0m\n\u001b[0;32m    261\u001b[0m     \u001b[1;32mif\u001b[0m \u001b[0mlen\u001b[0m\u001b[1;33m(\u001b[0m\u001b[0muniques\u001b[0m\u001b[1;33m)\u001b[0m \u001b[1;33m>\u001b[0m \u001b[1;36m1\u001b[0m\u001b[1;33m:\u001b[0m\u001b[1;33m\u001b[0m\u001b[1;33m\u001b[0m\u001b[0m\n\u001b[1;32m--> 262\u001b[1;33m         raise ValueError(\"Found input variables with inconsistent numbers of\"\n\u001b[0m\u001b[0;32m    263\u001b[0m                          \" samples: %r\" % [int(l) for l in lengths])\n\u001b[0;32m    264\u001b[0m \u001b[1;33m\u001b[0m\u001b[0m\n",
      "\u001b[1;31mValueError\u001b[0m: Found input variables with inconsistent numbers of samples: [454820, 303213]"
     ]
    }
   ],
   "source": [
    "print(\"Accuracy:\",metrics.accuracy_score(y_test, y_pred))"
   ]
  },
  {
   "cell_type": "markdown",
   "metadata": {},
   "source": [
    "# RANDOM FOREST"
   ]
  },
  {
   "cell_type": "code",
   "execution_count": 79,
   "metadata": {
    "colab": {
     "base_uri": "https://localhost:8080/",
     "height": 677
    },
    "colab_type": "code",
    "id": "RvEt2IGzh8aS",
    "outputId": "183c4996-ba68-4a2b-9de2-543b8adf1b5b"
   },
   "outputs": [
    {
     "ename": "AttributeError",
     "evalue": "'DecisionTreeClassifier' object has no attribute 'tree_'",
     "output_type": "error",
     "traceback": [
      "\u001b[1;31m---------------------------------------------------------------------------\u001b[0m",
      "\u001b[1;31mAttributeError\u001b[0m                            Traceback (most recent call last)",
      "\u001b[1;32m<ipython-input-79-258190f13e0e>\u001b[0m in \u001b[0;36m<module>\u001b[1;34m\u001b[0m\n\u001b[0;32m      1\u001b[0m \u001b[1;32mfrom\u001b[0m \u001b[0msklearn\u001b[0m\u001b[1;33m.\u001b[0m\u001b[0mtree\u001b[0m \u001b[1;32mimport\u001b[0m \u001b[0mexport_graphviz\u001b[0m\u001b[1;33m\u001b[0m\u001b[1;33m\u001b[0m\u001b[0m\n\u001b[0;32m      2\u001b[0m \u001b[1;32mimport\u001b[0m \u001b[0mgraphviz\u001b[0m\u001b[1;33m\u001b[0m\u001b[1;33m\u001b[0m\u001b[0m\n\u001b[1;32m----> 3\u001b[1;33m \u001b[0mexport_graphviz\u001b[0m\u001b[1;33m(\u001b[0m\u001b[0mclf\u001b[0m\u001b[1;33m,\u001b[0m \u001b[0mout_file\u001b[0m\u001b[1;33m=\u001b[0m\u001b[1;34m\"mytree_entropy.dot\"\u001b[0m\u001b[1;33m)\u001b[0m\u001b[1;33m\u001b[0m\u001b[1;33m\u001b[0m\u001b[0m\n\u001b[0m\u001b[0;32m      4\u001b[0m \u001b[1;32mwith\u001b[0m \u001b[0mopen\u001b[0m\u001b[1;33m(\u001b[0m\u001b[1;34m\"mytree_entropy.dot\"\u001b[0m\u001b[1;33m)\u001b[0m \u001b[1;32mas\u001b[0m \u001b[0mf\u001b[0m\u001b[1;33m:\u001b[0m\u001b[1;33m\u001b[0m\u001b[1;33m\u001b[0m\u001b[0m\n\u001b[0;32m      5\u001b[0m     \u001b[0mdot_graph\u001b[0m \u001b[1;33m=\u001b[0m \u001b[0mf\u001b[0m\u001b[1;33m.\u001b[0m\u001b[0mread\u001b[0m\u001b[1;33m(\u001b[0m\u001b[1;33m)\u001b[0m\u001b[1;33m\u001b[0m\u001b[1;33m\u001b[0m\u001b[0m\n",
      "\u001b[1;32m~\\anaconda3\\lib\\site-packages\\sklearn\\utils\\validation.py\u001b[0m in \u001b[0;36minner_f\u001b[1;34m(*args, **kwargs)\u001b[0m\n\u001b[0;32m     61\u001b[0m             \u001b[0mextra_args\u001b[0m \u001b[1;33m=\u001b[0m \u001b[0mlen\u001b[0m\u001b[1;33m(\u001b[0m\u001b[0margs\u001b[0m\u001b[1;33m)\u001b[0m \u001b[1;33m-\u001b[0m \u001b[0mlen\u001b[0m\u001b[1;33m(\u001b[0m\u001b[0mall_args\u001b[0m\u001b[1;33m)\u001b[0m\u001b[1;33m\u001b[0m\u001b[1;33m\u001b[0m\u001b[0m\n\u001b[0;32m     62\u001b[0m             \u001b[1;32mif\u001b[0m \u001b[0mextra_args\u001b[0m \u001b[1;33m<=\u001b[0m \u001b[1;36m0\u001b[0m\u001b[1;33m:\u001b[0m\u001b[1;33m\u001b[0m\u001b[1;33m\u001b[0m\u001b[0m\n\u001b[1;32m---> 63\u001b[1;33m                 \u001b[1;32mreturn\u001b[0m \u001b[0mf\u001b[0m\u001b[1;33m(\u001b[0m\u001b[1;33m*\u001b[0m\u001b[0margs\u001b[0m\u001b[1;33m,\u001b[0m \u001b[1;33m**\u001b[0m\u001b[0mkwargs\u001b[0m\u001b[1;33m)\u001b[0m\u001b[1;33m\u001b[0m\u001b[1;33m\u001b[0m\u001b[0m\n\u001b[0m\u001b[0;32m     64\u001b[0m \u001b[1;33m\u001b[0m\u001b[0m\n\u001b[0;32m     65\u001b[0m             \u001b[1;31m# extra_args > 0\u001b[0m\u001b[1;33m\u001b[0m\u001b[1;33m\u001b[0m\u001b[1;33m\u001b[0m\u001b[0m\n",
      "\u001b[1;32m~\\anaconda3\\lib\\site-packages\\sklearn\\tree\\_export.py\u001b[0m in \u001b[0;36mexport_graphviz\u001b[1;34m(decision_tree, out_file, max_depth, feature_names, class_names, label, filled, leaves_parallel, impurity, node_ids, proportion, rotate, rounded, special_characters, precision)\u001b[0m\n\u001b[0;32m    786\u001b[0m             \u001b[0mrounded\u001b[0m\u001b[1;33m=\u001b[0m\u001b[0mrounded\u001b[0m\u001b[1;33m,\u001b[0m \u001b[0mspecial_characters\u001b[0m\u001b[1;33m=\u001b[0m\u001b[0mspecial_characters\u001b[0m\u001b[1;33m,\u001b[0m\u001b[1;33m\u001b[0m\u001b[1;33m\u001b[0m\u001b[0m\n\u001b[0;32m    787\u001b[0m             precision=precision)\n\u001b[1;32m--> 788\u001b[1;33m         \u001b[0mexporter\u001b[0m\u001b[1;33m.\u001b[0m\u001b[0mexport\u001b[0m\u001b[1;33m(\u001b[0m\u001b[0mdecision_tree\u001b[0m\u001b[1;33m)\u001b[0m\u001b[1;33m\u001b[0m\u001b[1;33m\u001b[0m\u001b[0m\n\u001b[0m\u001b[0;32m    789\u001b[0m \u001b[1;33m\u001b[0m\u001b[0m\n\u001b[0;32m    790\u001b[0m         \u001b[1;32mif\u001b[0m \u001b[0mreturn_string\u001b[0m\u001b[1;33m:\u001b[0m\u001b[1;33m\u001b[0m\u001b[1;33m\u001b[0m\u001b[0m\n",
      "\u001b[1;32m~\\anaconda3\\lib\\site-packages\\sklearn\\tree\\_export.py\u001b[0m in \u001b[0;36mexport\u001b[1;34m(self, decision_tree)\u001b[0m\n\u001b[0;32m    422\u001b[0m             \u001b[0mself\u001b[0m\u001b[1;33m.\u001b[0m\u001b[0mrecurse\u001b[0m\u001b[1;33m(\u001b[0m\u001b[0mdecision_tree\u001b[0m\u001b[1;33m,\u001b[0m \u001b[1;36m0\u001b[0m\u001b[1;33m,\u001b[0m \u001b[0mcriterion\u001b[0m\u001b[1;33m=\u001b[0m\u001b[1;34m\"impurity\"\u001b[0m\u001b[1;33m)\u001b[0m\u001b[1;33m\u001b[0m\u001b[1;33m\u001b[0m\u001b[0m\n\u001b[0;32m    423\u001b[0m         \u001b[1;32melse\u001b[0m\u001b[1;33m:\u001b[0m\u001b[1;33m\u001b[0m\u001b[1;33m\u001b[0m\u001b[0m\n\u001b[1;32m--> 424\u001b[1;33m             self.recurse(decision_tree.tree_, 0,\n\u001b[0m\u001b[0;32m    425\u001b[0m                          criterion=decision_tree.criterion)\n\u001b[0;32m    426\u001b[0m \u001b[1;33m\u001b[0m\u001b[0m\n",
      "\u001b[1;31mAttributeError\u001b[0m: 'DecisionTreeClassifier' object has no attribute 'tree_'"
     ]
    }
   ],
   "source": [
    "from sklearn.tree import export_graphviz\n",
    "import graphviz\n",
    "export_graphviz(clf, out_file=\"mytree_entropy.dot\")\n",
    "with open(\"mytree_entropy.dot\") as f:\n",
    "    dot_graph = f.read()\n",
    "graphviz.Source(dot_graph)"
   ]
  },
  {
   "cell_type": "code",
   "execution_count": null,
   "metadata": {
    "colab": {},
    "colab_type": "code",
    "id": "SrZ2cjnkcbj2"
   },
   "outputs": [],
   "source": [
    "X_train, X_test, y_train, y_test = train_test_split(X, Y, test_size=0.3)"
   ]
  },
  {
   "cell_type": "code",
   "execution_count": null,
   "metadata": {
    "colab": {
     "base_uri": "https://localhost:8080/",
     "height": 224
    },
    "colab_type": "code",
    "id": "Qp7BEH3RdzKd",
    "outputId": "47c7268a-9408-4466-d391-1dec5b4e5500"
   },
   "outputs": [],
   "source": [
    "from sklearn.preprocessing import StandardScaler\n",
    "scaler = StandardScaler()\n",
    "# Fit on training set only.\n",
    "scaler.fit(X_train)\n",
    "# Apply transform to both the training set and the test set.\n",
    "transform = scaler.transform(X_train)\n",
    "scalar_train = pd.DataFrame(transform)\n",
    "scalar_train.head()"
   ]
  },
  {
   "cell_type": "code",
   "execution_count": null,
   "metadata": {
    "colab": {},
    "colab_type": "code",
    "id": "r_tkLprVd3Ox"
   },
   "outputs": [],
   "source": [
    "scalert = StandardScaler()\n",
    "# Fit on training set only.\n",
    "scalert.fit(X_test)\n",
    "# Apply transform to both the training set and the test set.\n",
    "transformt = scalert.transform(X_test)\n",
    "#test_img = scaler.transform(test_img)\n",
    "scalar_test = pd.DataFrame(transformt)"
   ]
  },
  {
   "cell_type": "code",
   "execution_count": null,
   "metadata": {
    "colab": {},
    "colab_type": "code",
    "id": "9W1w_7ICc-yW"
   },
   "outputs": [],
   "source": [
    "from sklearn.ensemble import RandomForestClassifier"
   ]
  },
  {
   "cell_type": "code",
   "execution_count": null,
   "metadata": {
    "colab": {},
    "colab_type": "code",
    "id": "Im4cA9aEdCPR"
   },
   "outputs": [],
   "source": [
    "clf=RandomForestClassifier(n_estimators=200)"
   ]
  },
  {
   "cell_type": "code",
   "execution_count": null,
   "metadata": {
    "colab": {
     "base_uri": "https://localhost:8080/",
     "height": 136
    },
    "colab_type": "code",
    "id": "v5EYe6KsdFID",
    "outputId": "9b889cff-ab88-4981-fc41-08079647c963"
   },
   "outputs": [],
   "source": [
    "clf.fit(scalar_train,y_train)"
   ]
  },
  {
   "cell_type": "code",
   "execution_count": null,
   "metadata": {
    "colab": {},
    "colab_type": "code",
    "id": "M7jOUJsfdINx"
   },
   "outputs": [],
   "source": [
    "y_pred=clf.predict(scalar_test)"
   ]
  },
  {
   "cell_type": "code",
   "execution_count": null,
   "metadata": {
    "colab": {},
    "colab_type": "code",
    "id": "MmNYir6MdKhi"
   },
   "outputs": [],
   "source": [
    "from sklearn import metrics"
   ]
  },
  {
   "cell_type": "code",
   "execution_count": null,
   "metadata": {
    "colab": {
     "base_uri": "https://localhost:8080/",
     "height": 34
    },
    "colab_type": "code",
    "id": "QYKnUyz6dNUC",
    "outputId": "8d97392d-cc78-43ed-bb84-43e0604fb90c"
   },
   "outputs": [],
   "source": [
    "print(\"Accuracy:\",metrics.accuracy_score(y_test, y_pred))"
   ]
  },
  {
   "cell_type": "markdown",
   "metadata": {},
   "source": [
    "# KNN"
   ]
  },
  {
   "cell_type": "markdown",
   "metadata": {
    "colab_type": "text",
    "id": "HZspCHTVvRpK"
   },
   "source": [
    "### Importing frameworks and reading the data file"
   ]
  },
  {
   "cell_type": "code",
   "execution_count": null,
   "metadata": {
    "colab": {},
    "colab_type": "code",
    "id": "smHJXOQ9Xo3v"
   },
   "outputs": [],
   "source": [
    "# Importing the required frameworks\n",
    "import numpy as np\n",
    "import pandas as pd\n",
    "import matplotlib.pyplot as plt\n",
    "import seaborn as sns\n",
    "import datetime\n",
    "%matplotlib inline\n",
    "from mpl_toolkits.mplot3d import Axes3D\n",
    "from sklearn.preprocessing import StandardScaler"
   ]
  },
  {
   "cell_type": "code",
   "execution_count": null,
   "metadata": {
    "colab": {},
    "colab_type": "code",
    "id": "cWb9XjzJX5N5"
   },
   "outputs": [],
   "source": [
    "# Reading the data file into a variable\n",
    "df=pd.read_csv('US_Accidents_Dec20_updated.csv')"
   ]
  },
  {
   "cell_type": "code",
   "execution_count": null,
   "metadata": {
    "colab": {
     "base_uri": "https://localhost:8080/",
     "height": 530
    },
    "colab_type": "code",
    "executionInfo": {
     "elapsed": 29599,
     "status": "ok",
     "timestamp": 1575349366362,
     "user": {
      "displayName": "Rama Tejaswini Thotapalli",
      "photoUrl": "https://lh3.googleusercontent.com/a-/AAuE7mBpMaGjBFE11eJu69cUWilJbjeSGwUVJcZggpfi7g=s64",
      "userId": "09709695417944250478"
     },
     "user_tz": 480
    },
    "id": "rpiHS0W7Y083",
    "outputId": "5a5d41e4-f326-4e38-d93c-cef4c421549a"
   },
   "outputs": [],
   "source": [
    "# Printing the top 5 rows of the dataset\n",
    "df.head()"
   ]
  },
  {
   "cell_type": "code",
   "execution_count": null,
   "metadata": {
    "colab": {
     "base_uri": "https://localhost:8080/",
     "height": 561
    },
    "colab_type": "code",
    "executionInfo": {
     "elapsed": 1337,
     "status": "ok",
     "timestamp": 1575845398553,
     "user": {
      "displayName": "Rama Tejaswini Thotapalli",
      "photoUrl": "https://lh3.googleusercontent.com/a-/AAuE7mBpMaGjBFE11eJu69cUWilJbjeSGwUVJcZggpfi7g=s64",
      "userId": "09709695417944250478"
     },
     "user_tz": 480
    },
    "id": "WtXmwkqjZugS",
    "outputId": "691d7e78-1e55-4a59-971b-cd6e3ab65eab"
   },
   "outputs": [],
   "source": [
    "# Changing the time variable format\n",
    "df['time'] = pd.to_datetime(df.Start_Time, format='%Y-%m-%d %H:%M:%S')\n",
    "df = df.set_index('time')\n",
    "df.head()"
   ]
  },
  {
   "cell_type": "markdown",
   "metadata": {
    "colab_type": "text",
    "id": "PHbPaV6wvY77"
   },
   "source": [
    "# Preprocessing"
   ]
  },
  {
   "cell_type": "code",
   "execution_count": null,
   "metadata": {
    "colab": {
     "base_uri": "https://localhost:8080/",
     "height": 34
    },
    "colab_type": "code",
    "executionInfo": {
     "elapsed": 426,
     "status": "ok",
     "timestamp": 1575845401637,
     "user": {
      "displayName": "Rama Tejaswini Thotapalli",
      "photoUrl": "https://lh3.googleusercontent.com/a-/AAuE7mBpMaGjBFE11eJu69cUWilJbjeSGwUVJcZggpfi7g=s64",
      "userId": "09709695417944250478"
     },
     "user_tz": 480
    },
    "id": "K7dXA7_wQ_aZ",
    "outputId": "47691bf5-185a-4e9b-afb8-5739a87ff2c8"
   },
   "outputs": [],
   "source": [
    "# Shape of the dataset\n",
    "df1 = df\n",
    "df1.shape"
   ]
  },
  {
   "cell_type": "code",
   "execution_count": null,
   "metadata": {
    "colab": {
     "base_uri": "https://localhost:8080/",
     "height": 867
    },
    "colab_type": "code",
    "executionInfo": {
     "elapsed": 2093,
     "status": "ok",
     "timestamp": 1575845405719,
     "user": {
      "displayName": "Rama Tejaswini Thotapalli",
      "photoUrl": "https://lh3.googleusercontent.com/a-/AAuE7mBpMaGjBFE11eJu69cUWilJbjeSGwUVJcZggpfi7g=s64",
      "userId": "09709695417944250478"
     },
     "user_tz": 480
    },
    "id": "pILyby0sdO1i",
    "outputId": "80b1b49e-5a67-4499-9f73-da8f158ec4d9"
   },
   "outputs": [],
   "source": [
    "# Number of null values in the data\n",
    "df1.isnull().sum()"
   ]
  },
  {
   "cell_type": "code",
   "execution_count": null,
   "metadata": {
    "colab": {
     "base_uri": "https://localhost:8080/",
     "height": 119
    },
    "colab_type": "code",
    "executionInfo": {
     "elapsed": 273,
     "status": "ok",
     "timestamp": 1575845409106,
     "user": {
      "displayName": "Rama Tejaswini Thotapalli",
      "photoUrl": "https://lh3.googleusercontent.com/a-/AAuE7mBpMaGjBFE11eJu69cUWilJbjeSGwUVJcZggpfi7g=s64",
      "userId": "09709695417944250478"
     },
     "user_tz": 480
    },
    "id": "B0hzrLRY_QkB",
    "outputId": "4752651d-6692-4d78-ac7b-10de00ee631d"
   },
   "outputs": [],
   "source": [
    "# printing the number of rows of severity\n",
    "print(df1['Severity'].value_counts())"
   ]
  },
  {
   "cell_type": "code",
   "execution_count": null,
   "metadata": {
    "colab": {},
    "colab_type": "code",
    "id": "Lk83i5QcaWIQ"
   },
   "outputs": [],
   "source": [
    "# Drop unnecessary columns with more than 70% null values\n",
    "df1 = df1.drop(['Distance(mi)','Country', 'Description', 'City', 'County', 'Street', 'Side', 'Zipcode', 'State', 'Airport_Code', 'Civil_Twilight', 'Nautical_Twilight', 'Astronomical_Twilight'], axis=1)"
   ]
  },
  {
   "cell_type": "code",
   "execution_count": null,
   "metadata": {
    "colab": {
     "base_uri": "https://localhost:8080/",
     "height": 425
    },
    "colab_type": "code",
    "executionInfo": {
     "elapsed": 682,
     "status": "ok",
     "timestamp": 1575845416085,
     "user": {
      "displayName": "Rama Tejaswini Thotapalli",
      "photoUrl": "https://lh3.googleusercontent.com/a-/AAuE7mBpMaGjBFE11eJu69cUWilJbjeSGwUVJcZggpfi7g=s64",
      "userId": "09709695417944250478"
     },
     "user_tz": 480
    },
    "id": "0gZbzXWiawYj",
    "outputId": "0f09d7aa-c3cc-49d0-f11f-ef2030894ede"
   },
   "outputs": [],
   "source": [
    "df1.head()"
   ]
  },
  {
   "cell_type": "code",
   "execution_count": null,
   "metadata": {
    "colab": {},
    "colab_type": "code",
    "id": "NiYb8_ofaSCu"
   },
   "outputs": [],
   "source": [
    "# Drop some more columns\n",
    "cols = [\"End_Lat\", \"End_Lng\", \"Number\", \"Wind_Chill(F)\", \"Precipitation(in)\", \"Start_Time\", \"End_Time\", \"Timezone\", \"Weather_Timestamp\"]\n",
    "df1 = df1.drop(cols, axis=1)"
   ]
  },
  {
   "cell_type": "code",
   "execution_count": null,
   "metadata": {
    "colab": {
     "base_uri": "https://localhost:8080/",
     "height": 34
    },
    "colab_type": "code",
    "executionInfo": {
     "elapsed": 1211,
     "status": "ok",
     "timestamp": 1575845422866,
     "user": {
      "displayName": "Rama Tejaswini Thotapalli",
      "photoUrl": "https://lh3.googleusercontent.com/a-/AAuE7mBpMaGjBFE11eJu69cUWilJbjeSGwUVJcZggpfi7g=s64",
      "userId": "09709695417944250478"
     },
     "user_tz": 480
    },
    "id": "MmmSY0TsZb69",
    "outputId": "0f02c2fd-48f9-4262-8c8a-c4ebc16a978c"
   },
   "outputs": [],
   "source": [
    "# Removing the rows with null values\n",
    "df1 = df1.dropna(axis = 0)\n",
    "df1.shape"
   ]
  },
  {
   "cell_type": "code",
   "execution_count": null,
   "metadata": {
    "colab": {
     "base_uri": "https://localhost:8080/",
     "height": 476
    },
    "colab_type": "code",
    "executionInfo": {
     "elapsed": 750,
     "status": "ok",
     "timestamp": 1575845426095,
     "user": {
      "displayName": "Rama Tejaswini Thotapalli",
      "photoUrl": "https://lh3.googleusercontent.com/a-/AAuE7mBpMaGjBFE11eJu69cUWilJbjeSGwUVJcZggpfi7g=s64",
      "userId": "09709695417944250478"
     },
     "user_tz": 480
    },
    "id": "rt4Jp35NaPr_",
    "outputId": "4357ad06-ddaa-4068-d82a-08f81de39991"
   },
   "outputs": [],
   "source": [
    "# Checking the null values in the dataset\n",
    "df1.isnull().sum()"
   ]
  },
  {
   "cell_type": "code",
   "execution_count": null,
   "metadata": {
    "colab": {
     "base_uri": "https://localhost:8080/",
     "height": 136
    },
    "colab_type": "code",
    "executionInfo": {
     "elapsed": 275,
     "status": "ok",
     "timestamp": 1575845429568,
     "user": {
      "displayName": "Rama Tejaswini Thotapalli",
      "photoUrl": "https://lh3.googleusercontent.com/a-/AAuE7mBpMaGjBFE11eJu69cUWilJbjeSGwUVJcZggpfi7g=s64",
      "userId": "09709695417944250478"
     },
     "user_tz": 480
    },
    "id": "yD8olrW3ohcm",
    "outputId": "51082b30-a40a-48f0-a325-58c11f625d32"
   },
   "outputs": [],
   "source": [
    "df1.columns"
   ]
  },
  {
   "cell_type": "code",
   "execution_count": null,
   "metadata": {
    "colab": {
     "base_uri": "https://localhost:8080/",
     "height": 476
    },
    "colab_type": "code",
    "executionInfo": {
     "elapsed": 673,
     "status": "ok",
     "timestamp": 1575845433161,
     "user": {
      "displayName": "Rama Tejaswini Thotapalli",
      "photoUrl": "https://lh3.googleusercontent.com/a-/AAuE7mBpMaGjBFE11eJu69cUWilJbjeSGwUVJcZggpfi7g=s64",
      "userId": "09709695417944250478"
     },
     "user_tz": 480
    },
    "id": "MwVVMjyWCTX2",
    "outputId": "314300d5-4fee-4f5a-e141-50c5fd19c718"
   },
   "outputs": [],
   "source": [
    "df1.isnull().sum()"
   ]
  },
  {
   "cell_type": "code",
   "execution_count": null,
   "metadata": {
    "colab": {
     "base_uri": "https://localhost:8080/",
     "height": 136
    },
    "colab_type": "code",
    "executionInfo": {
     "elapsed": 336,
     "status": "ok",
     "timestamp": 1575845436159,
     "user": {
      "displayName": "Rama Tejaswini Thotapalli",
      "photoUrl": "https://lh3.googleusercontent.com/a-/AAuE7mBpMaGjBFE11eJu69cUWilJbjeSGwUVJcZggpfi7g=s64",
      "userId": "09709695417944250478"
     },
     "user_tz": 480
    },
    "id": "msWQDvyERVhg",
    "outputId": "29c5ca27-8297-4d17-d75b-3153130f0f5b"
   },
   "outputs": [],
   "source": [
    "df1.columns"
   ]
  },
  {
   "cell_type": "code",
   "execution_count": null,
   "metadata": {
    "colab": {
     "base_uri": "https://localhost:8080/",
     "height": 425
    },
    "colab_type": "code",
    "executionInfo": {
     "elapsed": 328,
     "status": "ok",
     "timestamp": 1575845439144,
     "user": {
      "displayName": "Rama Tejaswini Thotapalli",
      "photoUrl": "https://lh3.googleusercontent.com/a-/AAuE7mBpMaGjBFE11eJu69cUWilJbjeSGwUVJcZggpfi7g=s64",
      "userId": "09709695417944250478"
     },
     "user_tz": 480
    },
    "id": "PKvuXUpFJZ-J",
    "outputId": "7bcfd292-0ec1-42c2-a013-faf91c3739c7"
   },
   "outputs": [],
   "source": [
    "df1.head()"
   ]
  },
  {
   "cell_type": "code",
   "execution_count": null,
   "metadata": {
    "colab": {
     "base_uri": "https://localhost:8080/",
     "height": 34
    },
    "colab_type": "code",
    "executionInfo": {
     "elapsed": 1211,
     "status": "ok",
     "timestamp": 1575845443179,
     "user": {
      "displayName": "Rama Tejaswini Thotapalli",
      "photoUrl": "https://lh3.googleusercontent.com/a-/AAuE7mBpMaGjBFE11eJu69cUWilJbjeSGwUVJcZggpfi7g=s64",
      "userId": "09709695417944250478"
     },
     "user_tz": 480
    },
    "id": "sKeAhTyrCV3j",
    "outputId": "f8464ec4-bf06-4372-974c-317dd8fb585c"
   },
   "outputs": [],
   "source": [
    "# Encoding the labels with binary valies like true and false\n",
    "from sklearn import preprocessing\n",
    "label_encoder = preprocessing.LabelEncoder()\n",
    "df1['Amenity'] = label_encoder.fit_transform(df1['Amenity'])\n",
    "df1['Bump'] = label_encoder.fit_transform(df1['Bump'])\n",
    "df1['Crossing'] = label_encoder.fit_transform(df1['Crossing'])\n",
    "df1['Give_Way'] = label_encoder.fit_transform(df1['Give_Way'])\n",
    "df1['Junction'] = label_encoder.fit_transform(df1['Junction'])\n",
    "df1['No_Exit'] = label_encoder.fit_transform(df1['No_Exit'])\n",
    "df1['Railway'] = label_encoder.fit_transform(df1['Railway'])\n",
    "df1['Roundabout'] = label_encoder.fit_transform(df1['Roundabout'])\n",
    "df1['Station'] = label_encoder.fit_transform(df1['Station'])\n",
    "df1['Stop'] = label_encoder.fit_transform(df1['Stop'])\n",
    "df1['Traffic_Calming'] = label_encoder.fit_transform(df1['Traffic_Calming'])\n",
    "df1['Traffic_Signal'] = label_encoder.fit_transform(df1['Traffic_Signal'])\n",
    "df1['Turning_Loop'] = label_encoder.fit_transform(df1['Turning_Loop'])\n",
    "df1.shape\n"
   ]
  },
  {
   "cell_type": "code",
   "execution_count": null,
   "metadata": {
    "colab": {
     "base_uri": "https://localhost:8080/",
     "height": 34
    },
    "colab_type": "code",
    "executionInfo": {
     "elapsed": 750,
     "status": "ok",
     "timestamp": 1575845447661,
     "user": {
      "displayName": "Rama Tejaswini Thotapalli",
      "photoUrl": "https://lh3.googleusercontent.com/a-/AAuE7mBpMaGjBFE11eJu69cUWilJbjeSGwUVJcZggpfi7g=s64",
      "userId": "09709695417944250478"
     },
     "user_tz": 480
    },
    "id": "FnYvjibob52b",
    "outputId": "e8275318-77bb-495e-ae18-a2957c39bb40"
   },
   "outputs": [],
   "source": [
    "# One hot encoding of columns containing many  classes of strings\n",
    "one_hot_sunrise = pd.get_dummies(df1['Sunrise_Sunset'])\n",
    "df1 = df1.drop('Sunrise_Sunset',axis = 1)\n",
    "one_hot_sunrise.shape\n",
    "df1.shape\n"
   ]
  },
  {
   "cell_type": "code",
   "execution_count": null,
   "metadata": {
    "colab": {
     "base_uri": "https://localhost:8080/",
     "height": 34
    },
    "colab_type": "code",
    "executionInfo": {
     "elapsed": 256,
     "status": "ok",
     "timestamp": 1575845450685,
     "user": {
      "displayName": "Rama Tejaswini Thotapalli",
      "photoUrl": "https://lh3.googleusercontent.com/a-/AAuE7mBpMaGjBFE11eJu69cUWilJbjeSGwUVJcZggpfi7g=s64",
      "userId": "09709695417944250478"
     },
     "user_tz": 480
    },
    "id": "t_pE6yp7ihTO",
    "outputId": "37f7cc21-fafe-4dd5-e625-1185e985744b"
   },
   "outputs": [],
   "source": [
    "one_hot_sunrise.shape"
   ]
  },
  {
   "cell_type": "code",
   "execution_count": null,
   "metadata": {
    "colab": {
     "base_uri": "https://localhost:8080/",
     "height": 34
    },
    "colab_type": "code",
    "executionInfo": {
     "elapsed": 333,
     "status": "ok",
     "timestamp": 1575845453301,
     "user": {
      "displayName": "Rama Tejaswini Thotapalli",
      "photoUrl": "https://lh3.googleusercontent.com/a-/AAuE7mBpMaGjBFE11eJu69cUWilJbjeSGwUVJcZggpfi7g=s64",
      "userId": "09709695417944250478"
     },
     "user_tz": 480
    },
    "id": "y2POcbdGg3KI",
    "outputId": "12a85186-a380-41d8-ddf4-3458a151dbc9"
   },
   "outputs": [],
   "source": [
    "df1 = pd.concat([df1,one_hot_sunrise], axis =1)\n",
    "df1.shape"
   ]
  },
  {
   "cell_type": "code",
   "execution_count": null,
   "metadata": {
    "colab": {
     "base_uri": "https://localhost:8080/",
     "height": 493
    },
    "colab_type": "code",
    "executionInfo": {
     "elapsed": 1084,
     "status": "ok",
     "timestamp": 1575845456899,
     "user": {
      "displayName": "Rama Tejaswini Thotapalli",
      "photoUrl": "https://lh3.googleusercontent.com/a-/AAuE7mBpMaGjBFE11eJu69cUWilJbjeSGwUVJcZggpfi7g=s64",
      "userId": "09709695417944250478"
     },
     "user_tz": 480
    },
    "id": "9MBm55W-hgzT",
    "outputId": "9588f013-61fc-4c5e-93c9-ad0d979fd684"
   },
   "outputs": [],
   "source": [
    "df1.isnull().sum()"
   ]
  },
  {
   "cell_type": "code",
   "execution_count": null,
   "metadata": {
    "colab": {},
    "colab_type": "code",
    "id": "F3pyqpnSfa-z"
   },
   "outputs": [],
   "source": [
    "one_hot_direction = pd.get_dummies(df1['Wind_Direction'])\n",
    "df1 = df1.drop('Wind_Direction',axis = 1)\n"
   ]
  },
  {
   "cell_type": "code",
   "execution_count": null,
   "metadata": {
    "colab": {},
    "colab_type": "code",
    "id": "VmBnMJtUgD1h"
   },
   "outputs": [],
   "source": [
    "df1 = pd.concat([df1,one_hot_direction], axis =1)"
   ]
  },
  {
   "cell_type": "code",
   "execution_count": null,
   "metadata": {
    "colab": {
     "base_uri": "https://localhost:8080/",
     "height": 34
    },
    "colab_type": "code",
    "executionInfo": {
     "elapsed": 299,
     "status": "ok",
     "timestamp": 1575845465226,
     "user": {
      "displayName": "Rama Tejaswini Thotapalli",
      "photoUrl": "https://lh3.googleusercontent.com/a-/AAuE7mBpMaGjBFE11eJu69cUWilJbjeSGwUVJcZggpfi7g=s64",
      "userId": "09709695417944250478"
     },
     "user_tz": 480
    },
    "id": "C2Rz5UcQgZ1J",
    "outputId": "48d957e0-0f7b-4509-fe98-c23dd438e16c"
   },
   "outputs": [],
   "source": [
    "df1.shape"
   ]
  },
  {
   "cell_type": "code",
   "execution_count": null,
   "metadata": {
    "colab": {
     "base_uri": "https://localhost:8080/",
     "height": 34
    },
    "colab_type": "code",
    "executionInfo": {
     "elapsed": 1555,
     "status": "ok",
     "timestamp": 1575845468778,
     "user": {
      "displayName": "Rama Tejaswini Thotapalli",
      "photoUrl": "https://lh3.googleusercontent.com/a-/AAuE7mBpMaGjBFE11eJu69cUWilJbjeSGwUVJcZggpfi7g=s64",
      "userId": "09709695417944250478"
     },
     "user_tz": 480
    },
    "id": "x4NIGsV1RVhl",
    "outputId": "861bc928-02db-4ddf-9da7-8dfa92133321"
   },
   "outputs": [],
   "source": [
    "# One hot encoding of weather conditions\n",
    "one_hot_condition = pd.get_dummies(df1['Weather_Condition'])\n",
    "df1 = df1.drop('Weather_Condition',axis = 1)\n",
    "df1 = pd.concat([df1,one_hot_condition], axis =1)\n",
    "df1.shape"
   ]
  },
  {
   "cell_type": "code",
   "execution_count": null,
   "metadata": {
    "colab": {},
    "colab_type": "code",
    "id": "GUn5ham7RVhn"
   },
   "outputs": [],
   "source": [
    "df1.drop(['ID'], axis = 1, inplace = True)"
   ]
  },
  {
   "cell_type": "code",
   "execution_count": null,
   "metadata": {
    "colab": {
     "base_uri": "https://localhost:8080/",
     "height": 505
    },
    "colab_type": "code",
    "executionInfo": {
     "elapsed": 417,
     "status": "ok",
     "timestamp": 1575845474647,
     "user": {
      "displayName": "Rama Tejaswini Thotapalli",
      "photoUrl": "https://lh3.googleusercontent.com/a-/AAuE7mBpMaGjBFE11eJu69cUWilJbjeSGwUVJcZggpfi7g=s64",
      "userId": "09709695417944250478"
     },
     "user_tz": 480
    },
    "id": "3y1mimM_RVhq",
    "outputId": "9998f474-ab4a-4ba7-b61c-4363d0b801b6"
   },
   "outputs": [],
   "source": [
    "df1.head()"
   ]
  },
  {
   "cell_type": "code",
   "execution_count": null,
   "metadata": {
    "colab": {
     "base_uri": "https://localhost:8080/",
     "height": 102
    },
    "colab_type": "code",
    "executionInfo": {
     "elapsed": 254,
     "status": "ok",
     "timestamp": 1575845478308,
     "user": {
      "displayName": "Rama Tejaswini Thotapalli",
      "photoUrl": "https://lh3.googleusercontent.com/a-/AAuE7mBpMaGjBFE11eJu69cUWilJbjeSGwUVJcZggpfi7g=s64",
      "userId": "09709695417944250478"
     },
     "user_tz": 480
    },
    "id": "IkX9Wk6hCXVI",
    "outputId": "0f978e6b-4ab5-405b-a344-4ed9a94faaa4"
   },
   "outputs": [],
   "source": [
    "# Under sampling of data\n",
    "df1['Severity'].replace(0, 1,inplace=True)\n",
    "print(df1['Severity'].value_counts())"
   ]
  },
  {
   "cell_type": "code",
   "execution_count": null,
   "metadata": {
    "colab": {
     "base_uri": "https://localhost:8080/",
     "height": 505
    },
    "colab_type": "code",
    "executionInfo": {
     "elapsed": 2456,
     "status": "ok",
     "timestamp": 1575845518896,
     "user": {
      "displayName": "Rama Tejaswini Thotapalli",
      "photoUrl": "https://lh3.googleusercontent.com/a-/AAuE7mBpMaGjBFE11eJu69cUWilJbjeSGwUVJcZggpfi7g=s64",
      "userId": "09709695417944250478"
     },
     "user_tz": 480
    },
    "id": "7QiEeqX-PoFM",
    "outputId": "f28144b2-b639-475b-9201-16e408559e05"
   },
   "outputs": [],
   "source": [
    "# Lets shuffle the data before creating the subsamples\n",
    "\n",
    "df1 = df1.sample(frac=1)\n",
    "\n",
    "# amount of severity classes 831 rows.\n",
    "sev1 = df1.loc[df1['Severity'] == 1]\n",
    "sev2 = df1.loc[df1['Severity'] == 2][:662]\n",
    "sev3 = df1.loc[df1['Severity'] == 3][:662]\n",
    "sev4 = df1.loc[df1['Severity'] == 4][:662]\n",
    "\n",
    "normal_distributed_df = pd.concat([sev1, sev2, sev3, sev4])\n",
    "\n",
    "# Shuffle dataframe rows\n",
    "new_df = normal_distributed_df.sample(frac=1, random_state=42)\n",
    "\n",
    "new_df.head()"
   ]
  },
  {
   "cell_type": "code",
   "execution_count": null,
   "metadata": {
    "colab": {
     "base_uri": "https://localhost:8080/",
     "height": 102
    },
    "colab_type": "code",
    "executionInfo": {
     "elapsed": 373,
     "status": "ok",
     "timestamp": 1575845523674,
     "user": {
      "displayName": "Rama Tejaswini Thotapalli",
      "photoUrl": "https://lh3.googleusercontent.com/a-/AAuE7mBpMaGjBFE11eJu69cUWilJbjeSGwUVJcZggpfi7g=s64",
      "userId": "09709695417944250478"
     },
     "user_tz": 480
    },
    "id": "wf_PkYoLPsz7",
    "outputId": "3eadcaa1-437c-46bd-adcf-13554af8fecd"
   },
   "outputs": [],
   "source": [
    "print(new_df['Severity'].value_counts())"
   ]
  },
  {
   "cell_type": "code",
   "execution_count": null,
   "metadata": {
    "colab": {
     "base_uri": "https://localhost:8080/",
     "height": 398
    },
    "colab_type": "code",
    "executionInfo": {
     "elapsed": 396,
     "status": "ok",
     "timestamp": 1575845526534,
     "user": {
      "displayName": "Rama Tejaswini Thotapalli",
      "photoUrl": "https://lh3.googleusercontent.com/a-/AAuE7mBpMaGjBFE11eJu69cUWilJbjeSGwUVJcZggpfi7g=s64",
      "userId": "09709695417944250478"
     },
     "user_tz": 480
    },
    "id": "02-yhdv5Pzec",
    "outputId": "8ee57662-c93b-4f56-98c5-23626d68481e"
   },
   "outputs": [],
   "source": [
    "# printing the bar f=graph of under sampling of data\n",
    "print('Distribution of the Classes in the subsample dataset')\n",
    "print(new_df['Severity'].value_counts()/len(new_df))\n",
    "\n",
    "\n",
    "colors = ['b', 'g', 'r', 'c']\n",
    "sns.countplot('Severity', data=new_df, palette=colors)\n",
    "plt.title('Equally Distributed Classes', fontsize=14)\n",
    "plt.show()"
   ]
  },
  {
   "cell_type": "markdown",
   "metadata": {
    "colab_type": "text",
    "id": "COlcY6ozvibD"
   },
   "source": [
    "# Dividing the data into train and test sets"
   ]
  },
  {
   "cell_type": "code",
   "execution_count": null,
   "metadata": {
    "colab": {},
    "colab_type": "code",
    "id": "j6qU4qK_GYOP"
   },
   "outputs": [],
   "source": [
    "# Dividing X and y values of dataset\n",
    "X = df1.drop('Severity', axis=1)\n",
    "y = df1['Severity']"
   ]
  },
  {
   "cell_type": "code",
   "execution_count": null,
   "metadata": {
    "colab": {},
    "colab_type": "code",
    "id": "hHz6k7_tEnq3"
   },
   "outputs": [],
   "source": [
    "# Our data is already scaled we should split our training and test sets\n",
    "from sklearn.model_selection import train_test_split\n",
    "\n",
    "# This is explicitly used for undersampling.\n",
    "X_train, X_test, y_train, y_test = train_test_split(X, y, test_size=0.2, random_state=42)"
   ]
  },
  {
   "cell_type": "code",
   "execution_count": null,
   "metadata": {
    "colab": {},
    "colab_type": "code",
    "id": "oWw90tpoE4zP"
   },
   "outputs": [],
   "source": [
    "# Turn the values into an array for feeding the classification algorithms.\n",
    "X_train = X_train.values\n",
    "X_test = X_test.values\n",
    "y_train = y_train.values\n",
    "y_test = y_test.values"
   ]
  },
  {
   "cell_type": "markdown",
   "metadata": {
    "colab_type": "text",
    "id": "YkjRydQqvpmP"
   },
   "source": [
    "# Modelling"
   ]
  },
  {
   "cell_type": "code",
   "execution_count": null,
   "metadata": {
    "colab": {},
    "colab_type": "code",
    "id": "nfFHAJAZE76N"
   },
   "outputs": [],
   "source": [
    "# Let's implement simple classifiers\n",
    "from sklearn.linear_model import LogisticRegression\n",
    "from sklearn.neighbors import KNeighborsClassifier\n",
    "from sklearn.tree import DecisionTreeClassifier\n",
    "from sklearn.metrics import confusion_matrix\n",
    "from sklearn.pipeline import make_pipeline\n",
    "from sklearn.metrics import precision_score, recall_score, f1_score, roc_auc_score, accuracy_score, classification_report\n",
    "from collections import Counter\n",
    "from sklearn.model_selection import KFold, StratifiedKFold\n",
    "import warnings\n",
    "warnings.filterwarnings(\"ignore\")\n"
   ]
  },
  {
   "cell_type": "code",
   "execution_count": null,
   "metadata": {
    "colab": {},
    "colab_type": "code",
    "id": "jNGKQywkNdYL"
   },
   "outputs": [],
   "source": [
    "classifiers = {\n",
    "    \"KNearest\": KNeighborsClassifier(),\n",
    "    \n",
    "}"
   ]
  },
  {
   "cell_type": "code",
   "execution_count": null,
   "metadata": {
    "colab": {},
    "colab_type": "code",
    "id": "HEheT0hq-Rdy"
   },
   "outputs": [],
   "source": [
    "from sklearn.model_selection import cross_val_score\n",
    "from sklearn.metrics import accuracy_score\n",
    "grid_knears = KNeighborsClassifier()\n",
    "grid_knears.fit(X_train, y_train)\n",
    "y_pred = grid_knears.predict(X_test)\n",
    "training_score = cross_val_score(grid_knears, X_train, y_train, cv=5)\n",
    "test_score = accuracy_score(y_test, y_pred)"
   ]
  },
  {
   "cell_type": "code",
   "execution_count": null,
   "metadata": {
    "colab": {
     "base_uri": "https://localhost:8080/",
     "height": 51
    },
    "colab_type": "code",
    "executionInfo": {
     "elapsed": 510,
     "status": "ok",
     "timestamp": 1575242710612,
     "user": {
      "displayName": "Rama Tejaswini Thotapalli",
      "photoUrl": "https://lh3.googleusercontent.com/a-/AAuE7mBpMaGjBFE11eJu69cUWilJbjeSGwUVJcZggpfi7g=s64",
      "userId": "09709695417944250478"
     },
     "user_tz": 480
    },
    "id": "F5_CohLvyCdS",
    "outputId": "7ef65b4e-510b-41a2-a55f-3747b8784ca5"
   },
   "outputs": [],
   "source": [
    "print(\"Classifiers:  Has a training score of\", round(training_score.mean(), 2) * 100, \"% Training accuracy score\")\n",
    "print(\"Classifiers: Has a test score of\", test_score*100,\"% Testing accuracy score\")"
   ]
  },
  {
   "cell_type": "code",
   "execution_count": null,
   "metadata": {
    "colab": {
     "base_uri": "https://localhost:8080/",
     "height": 153
    },
    "colab_type": "code",
    "id": "voep-309E_ba",
    "outputId": "16c54c4a-9322-4b3e-9be2-95c4a0b3cc69"
   },
   "outputs": [],
   "source": [
    "# Wow our scores are getting even high scores even when applying cross validation.\n",
    "from sklearn.model_selection import cross_val_score\n",
    "from sklearn.metrics import accuracy_score\n",
    "f, axes = plt.subplots(ncols=3, figsize=(20,3))\n",
    "i =0\n",
    "for key, classifier in classifiers.items():\n",
    "    classifier.fit(X_train, y_train)\n",
    "    y_pred = classifier.predict(X_test)\n",
    "    training_score = cross_val_score(classifier, X_train, y_train, cv=5)\n",
    "    test_score = accuracy_score(y_test, y_pred)\n",
    "    print('Confusion Matrix: ',classifier.__class__.__name__,\"\\n\", confusion_matrix(y_test, y_pred))\n",
    "    sns.heatmap(confusion_matrix(y_test,y_pred),annot=True,fmt=\"d\", ax=axes[i])\n",
    "    axes[i].set_title(classifier.__class__.__name__)\n",
    "    i= i+1\n",
    "    print(\"Classifiers: \", classifier.__class__.__name__, \"Has a training score of\", round(training_score.mean(), 2) * 100, \"% Training accuracy score\")\n",
    "    print(\"Classifiers: \", classifier.__class__.__name__, \"Has a test score of\", test_score*100,\"% Testing accuracy score\")"
   ]
  },
  {
   "cell_type": "markdown",
   "metadata": {
    "colab_type": "text",
    "id": "0gih5cZTv-CY"
   },
   "source": []
  },
  {
   "cell_type": "code",
   "execution_count": null,
   "metadata": {
    "colab": {},
    "colab_type": "code",
    "id": "jFS43akCZLwt"
   },
   "outputs": [],
   "source": [
    "# Use GridSearchCV to find the best parameters.\n",
    "from sklearn.model_selection import GridSearchCV\n",
    "\n",
    "knears_params = {\"n_neighbors\": list(range(2,5,1)), 'algorithm': ['auto', 'ball_tree', 'kd_tree', 'brute']}\n",
    "\n",
    "grid_knears = GridSearchCV(KNeighborsClassifier(), knears_params)\n",
    "grid_knears.fit(X_train, y_train)\n",
    "# KNears best estimator\n",
    "knears_neighbors = grid_knears.best_estimator_"
   ]
  },
  {
   "cell_type": "code",
   "execution_count": 1,
   "metadata": {
    "colab": {},
    "colab_type": "code",
    "id": "IMf_Hjj2FLCK"
   },
   "outputs": [
    {
     "ename": "NameError",
     "evalue": "name 'cross_val_score' is not defined",
     "output_type": "error",
     "traceback": [
      "\u001b[1;31m---------------------------------------------------------------------------\u001b[0m",
      "\u001b[1;31mNameError\u001b[0m                                 Traceback (most recent call last)",
      "\u001b[1;32m<ipython-input-1-d70b0a7b0c16>\u001b[0m in \u001b[0;36m<module>\u001b[1;34m\u001b[0m\n\u001b[0;32m      1\u001b[0m \u001b[1;31m# Overfitting Case\u001b[0m\u001b[1;33m\u001b[0m\u001b[1;33m\u001b[0m\u001b[1;33m\u001b[0m\u001b[0m\n\u001b[0;32m      2\u001b[0m \u001b[1;33m\u001b[0m\u001b[0m\n\u001b[1;32m----> 3\u001b[1;33m \u001b[0mknears_score\u001b[0m \u001b[1;33m=\u001b[0m \u001b[0mcross_val_score\u001b[0m\u001b[1;33m(\u001b[0m\u001b[0mknears_neighbors\u001b[0m\u001b[1;33m,\u001b[0m \u001b[0mX_train\u001b[0m\u001b[1;33m,\u001b[0m \u001b[0my_train\u001b[0m\u001b[1;33m,\u001b[0m \u001b[0mcv\u001b[0m\u001b[1;33m=\u001b[0m\u001b[1;36m5\u001b[0m\u001b[1;33m)\u001b[0m\u001b[1;33m\u001b[0m\u001b[1;33m\u001b[0m\u001b[0m\n\u001b[0m\u001b[0;32m      4\u001b[0m \u001b[0mprint\u001b[0m\u001b[1;33m(\u001b[0m\u001b[1;34m'Knears Neighbors Cross Validation Score'\u001b[0m\u001b[1;33m,\u001b[0m \u001b[0mround\u001b[0m\u001b[1;33m(\u001b[0m\u001b[0mknears_score\u001b[0m\u001b[1;33m.\u001b[0m\u001b[0mmean\u001b[0m\u001b[1;33m(\u001b[0m\u001b[1;33m)\u001b[0m \u001b[1;33m*\u001b[0m \u001b[1;36m100\u001b[0m\u001b[1;33m,\u001b[0m \u001b[1;36m2\u001b[0m\u001b[1;33m)\u001b[0m\u001b[1;33m.\u001b[0m\u001b[0mastype\u001b[0m\u001b[1;33m(\u001b[0m\u001b[0mstr\u001b[0m\u001b[1;33m)\u001b[0m \u001b[1;33m+\u001b[0m \u001b[1;34m'%'\u001b[0m\u001b[1;33m)\u001b[0m\u001b[1;33m\u001b[0m\u001b[1;33m\u001b[0m\u001b[0m\n",
      "\u001b[1;31mNameError\u001b[0m: name 'cross_val_score' is not defined"
     ]
    }
   ],
   "source": [
    "# Overfitting Case\n",
    "\n",
    "knears_score = cross_val_score(knears_neighbors, X_train, y_train, cv=5)\n",
    "print('Knears Neighbors Cross Validation Score', round(knears_score.mean() * 100, 2).astype(str) + '%')\n"
   ]
  },
  {
   "cell_type": "code",
   "execution_count": null,
   "metadata": {
    "colab": {},
    "colab_type": "code",
    "id": "JiP_qmjhLv_S"
   },
   "outputs": [],
   "source": [
    "# ROC curve of the classifier of k nearest neighbour\n",
    "from sklearn.metrics import roc_auc_score\n",
    "print('KNears Neighbors: ', roc_auc_score(y_train, knears_pred))\n"
   ]
  },
  {
   "cell_type": "code",
   "execution_count": null,
   "metadata": {
    "colab": {},
    "colab_type": "code",
    "id": "w8ftiN80UX3Z"
   },
   "outputs": [],
   "source": [
    "# Standard scalar of the data\n",
    "from sklearn.preprocessing import StandardScaler\n",
    "scaler = StandardScaler()\n",
    "Fit on training set only.\n",
    "scaler.fit(X)\n",
    "Apply transform to both the training set and the test set.\n",
    "transform = scaler.transform(X)\n",
    "test_img = scaler.transform(test_img)\n",
    "scalarX = pd.DataFrame(transform)\n",
    "\n",
    "scalarX.head()"
   ]
  },
  {
   "cell_type": "code",
   "execution_count": null,
   "metadata": {
    "colab": {},
    "colab_type": "code",
    "id": "LYTRGKehUo3J"
   },
   "outputs": [],
   "source": [
    "# PCA for the dataset\n",
    "from sklearn.decomposition import PCA\n",
    "Make an instance of the Model\n",
    "pca = PCA(.95)\n",
    "pca.fit(scalarX)\n",
    "train_img = pca.transform(scalarX)\n",
    "train = pd.DataFrame(train_img)\n",
    "train.head()"
   ]
  },
  {
   "cell_type": "code",
   "execution_count": null,
   "metadata": {
    "colab": {
     "base_uri": "https://localhost:8080/",
     "height": 1000
    },
    "colab_type": "code",
    "executionInfo": {
     "elapsed": 115047,
     "status": "ok",
     "timestamp": 1575230628033,
     "user": {
      "displayName": "Rama Tejaswini Thotapalli",
      "photoUrl": "https://lh3.googleusercontent.com/a-/AAuE7mBpMaGjBFE11eJu69cUWilJbjeSGwUVJcZggpfi7g=s64",
      "userId": "09709695417944250478"
     },
     "user_tz": 480
    },
    "id": "f6RndwQh_2iU",
    "outputId": "8f4ec2ce-b9fa-408b-88ca-6d625ca7ddf0"
   },
   "outputs": [
    {
     "name": "stdout",
     "output_type": "stream",
     "text": [
      "Train: [ 571  572  576 ... 3321 3322 3323] Test: [  0   1   2   3   4   5   6   7   8   9  10  11  12  13  14  15  16  17\n",
      "  18  19  20  21  22  23  24  25  26  27  28  29  30  31  32  33  34  35\n",
      "  36  37  38  39  40  41  42  43  44  45  46  47  48  49  50  51  52  53\n",
      "  54  55  56  57  58  59  60  61  62  63  64  65  66  67  68  69  70  71\n",
      "  72  73  74  75  76  77  78  79  80  81  82  83  84  85  86  87  88  89\n",
      "  90  91  92  93  94  95  96  97  98  99 100 101 102 103 104 105 106 107\n",
      " 108 109 110 111 112 113 114 115 116 117 118 119 120 121 122 123 124 125\n",
      " 126 127 128 129 130 131 132 133 134 135 136 137 138 139 140 141 142 143\n",
      " 144 145 146 147 148 149 150 151 152 153 154 155 156 157 158 159 160 161\n",
      " 162 163 164 165 166 167 168 169 170 171 172 173 174 175 176 177 178 179\n",
      " 180 181 182 183 184 185 186 187 188 189 190 191 192 193 194 195 196 197\n",
      " 198 199 200 201 202 203 204 205 206 207 208 209 210 211 212 213 214 215\n",
      " 216 217 218 219 220 221 222 223 224 225 226 227 228 229 230 231 232 233\n",
      " 234 235 236 237 238 239 240 241 242 243 244 245 246 247 248 249 250 251\n",
      " 252 253 254 255 256 257 258 259 260 261 262 263 264 265 266 267 268 269\n",
      " 270 271 272 273 274 275 276 277 278 279 280 281 282 283 284 285 286 287\n",
      " 288 289 290 291 292 293 294 295 296 297 298 299 300 301 302 303 304 305\n",
      " 306 307 308 309 310 311 312 313 314 315 316 317 318 319 320 321 322 323\n",
      " 324 325 326 327 328 329 330 331 332 333 334 335 336 337 338 339 340 341\n",
      " 342 343 344 345 346 347 348 349 350 351 352 353 354 355 356 357 358 359\n",
      " 360 361 362 363 364 365 366 367 368 369 370 371 372 373 374 375 376 377\n",
      " 378 379 380 381 382 383 384 385 386 387 388 389 390 391 392 393 394 395\n",
      " 396 397 398 399 400 401 402 403 404 405 406 407 408 409 410 411 412 413\n",
      " 414 415 416 417 418 419 420 421 422 423 424 425 426 427 428 429 430 431\n",
      " 432 433 434 435 436 437 438 439 440 441 442 443 444 445 446 447 448 449\n",
      " 450 451 452 453 454 455 456 457 458 459 460 461 462 463 464 465 466 467\n",
      " 468 469 470 471 472 473 474 475 476 477 478 479 480 481 482 483 484 485\n",
      " 486 487 488 489 490 491 492 493 494 495 496 497 498 499 500 501 502 503\n",
      " 504 505 506 507 508 509 510 511 512 513 514 515 516 517 518 519 520 521\n",
      " 522 523 524 525 526 527 528 529 530 531 532 533 534 535 536 537 538 539\n",
      " 540 541 542 543 544 545 546 547 548 549 550 551 552 553 554 555 556 557\n",
      " 558 559 560 561 562 563 564 565 566 567 568 569 570 573 574 575 577 578\n",
      " 579 580 581 583 584 586 588 590 591 592 593 594 597 598 601 602 603 604\n",
      " 605 606 607 608 609 611 612 613 615 616 617 618 619 620 621 622 623 624\n",
      " 625 626 627 628 629 630 631 632 633 636 637 639 641 642 644 647 649 650\n",
      " 651 652 653 656 657 663 665 666 667 670 671 673 676 677 681 682 683 685\n",
      " 687 689 694 695 696 702 706 707 708 719 723 729 736 740 749 758 762 771\n",
      " 772 776]\n",
      "Train: [   0    1    2 ... 3321 3322 3323] Test: [ 571  572  576  582  585  587  589  595  596  599  600  610  614  634\n",
      "  635  638  640  643  645  646  648  654  655  658  659  660  661  662\n",
      "  664  668  669  672  674  675  678  679  680  684  686  688  690  691\n",
      "  692  693  697  698  699  700  701  703  704  705  709  710  711  712\n",
      "  713  714  715  716  717  718  720  721  722  724  725  726  727  728\n",
      "  730  731  732  733  734  735  737  738  739  741  742  743  744  745\n",
      "  746  747  748  750  751  752  753  754  755  756  757  759  760  761\n",
      "  763  764  765  766  767  768  769  770  773  774  775  777  778  779\n",
      "  780  781  782  783  784  785  786  787  788  789  790  791  792  793\n",
      "  794  795  796  797  798  799  800  801  802  803  804  805  806  807\n",
      "  808  809  810  811  812  813  814  815  816  817  818  819  820  821\n",
      "  822  823  824  825  826  827  828  829  830  831  832  833  834  835\n",
      "  836  837  838  839  840  841  842  843  844  845  846  847  848  849\n",
      "  850  851  852  853  854  855  856  857  858  859  860  861  862  863\n",
      "  864  865  866  867  868  869  870  871  872  873  874  875  876  877\n",
      "  878  879  880  881  882  883  884  885  886  887  888  889  890  891\n",
      "  892  893  894  895  896  897  898  899  900  901  902  903  904  905\n",
      "  906  907  908  909  910  911  912  913  914  915  916  917  918  919\n",
      "  920  921  922  923  924  925  926  927  928  929  930  931  932  933\n",
      "  934  935  936  937  938  939  940  941  942  943  944  945  946  947\n",
      "  948  949  950  951  952  953  954  955  956  957  958  959  960  961\n",
      "  962  963  964  965  966  967  968  969  970  971  972  973  974  975\n",
      "  976  977  978  979  980  981  982  983  984  985  986  987  988  989\n",
      "  990  991  992  993  994  995  996  997  998  999 1000 1001 1002 1003\n",
      " 1004 1005 1006 1007 1008 1009 1010 1011 1012 1013 1014 1015 1016 1017\n",
      " 1018 1019 1020 1021 1022 1023 1024 1025 1026 1027 1028 1029 1030 1031\n",
      " 1032 1033 1034 1035 1036 1037 1038 1039 1040 1041 1042 1043 1044 1045\n",
      " 1046 1047 1048 1049 1050 1051 1052 1053 1054 1055 1056 1057 1058 1059\n",
      " 1060 1061 1062 1063 1064 1065 1066 1067 1068 1069 1070 1071 1072 1073\n",
      " 1074 1075 1076 1077 1078 1079 1080 1081 1082 1083 1084 1085 1086 1087\n",
      " 1088 1089 1090 1091 1092 1093 1094 1095 1096 1097 1098 1099 1100 1101\n",
      " 1102 1103 1104 1105 1106 1107 1108 1109 1110 1111 1112 1113 1114 1115\n",
      " 1116 1117 1118 1119 1120 1121 1122 1123 1124 1125 1126 1127 1128 1129\n",
      " 1130 1131 1132 1133 1134 1135 1136 1137 1138 1139 1140 1141 1142 1143\n",
      " 1144 1145 1146 1147 1148 1149 1150 1151 1152 1153 1154 1155 1156 1157\n",
      " 1158 1159 1160 1161 1162 1163 1164 1165 1166 1167 1168 1169 1170 1171\n",
      " 1172 1173 1174 1175 1176 1177 1178 1179 1180 1181 1182 1183 1184 1185\n",
      " 1186 1187 1188 1189 1190 1191 1192 1193 1194 1195 1196 1197 1198 1199\n",
      " 1200 1201 1202 1203 1204 1205 1206 1207 1208 1209 1210 1211 1212 1213\n",
      " 1214 1215 1216 1217 1218 1219 1220 1221 1222 1223 1224 1225 1226 1227\n",
      " 1228 1229 1230 1231 1232 1233 1234 1235 1236 1237 1238 1239 1240 1241\n",
      " 1242 1243 1244 1245 1246 1247 1248 1249 1250 1251 1252 1253 1254 1255\n",
      " 1256 1257 1258 1259 1260 1261 1262 1264 1265 1266 1267 1268 1269 1270\n",
      " 1271 1273 1274 1276 1277 1278 1279 1280 1281 1282 1283 1285 1286 1287\n",
      " 1290 1291 1292 1293 1294 1295 1296 1297 1298 1299 1300 1301 1302 1303\n",
      " 1305 1306 1308 1309 1310 1316 1318 1321 1325 1329 1332 1338 1342 1343\n",
      " 1347 1357 1358 1362 1374 1375 1380 1381 1390 1391 1406 1408 1418 1422\n",
      " 1425 1426 1432 1438 1442 1444]\n",
      "Train: [   0    1    2 ... 3321 3322 3323] Test: [1263 1272 1275 1284 1288 1289 1304 1307 1311 1312 1313 1314 1315 1317\n",
      " 1319 1320 1322 1323 1324 1326 1327 1328 1330 1331 1333 1334 1335 1336\n",
      " 1337 1339 1340 1341 1344 1345 1346 1348 1349 1350 1351 1352 1353 1354\n",
      " 1355 1356 1359 1360 1361 1363 1364 1365 1366 1367 1368 1369 1370 1371\n",
      " 1372 1373 1376 1377 1378 1379 1382 1383 1384 1385 1386 1387 1388 1389\n",
      " 1392 1393 1394 1395 1396 1397 1398 1399 1400 1401 1402 1403 1404 1405\n",
      " 1407 1409 1410 1411 1412 1413 1414 1415 1416 1417 1419 1420 1421 1423\n",
      " 1424 1427 1428 1429 1430 1431 1433 1434 1435 1436 1437 1439 1440 1441\n",
      " 1443 1445 1446 1447 1448 1449 1450 1451 1452 1453 1454 1455 1456 1457\n",
      " 1458 1459 1460 1461 1462 1463 1464 1465 1466 1467 1468 1469 1470 1471\n",
      " 1472 1473 1474 1475 1476 1477 1478 1479 1480 1481 1482 1483 1484 1485\n",
      " 1486 1487 1488 1489 1490 1491 1492 1493 1494 1495 1496 1497 1498 1499\n",
      " 1500 1501 1502 1503 1504 1505 1506 1507 1508 1509 1510 1511 1512 1513\n",
      " 1514 1515 1516 1517 1518 1519 1520 1521 1522 1523 1524 1525 1526 1527\n",
      " 1528 1529 1530 1531 1532 1533 1534 1535 1536 1537 1538 1539 1540 1541\n",
      " 1542 1543 1544 1545 1546 1547 1548 1549 1550 1551 1552 1553 1554 1555\n",
      " 1556 1557 1558 1559 1560 1561 1562 1563 1564 1565 1566 1567 1568 1569\n",
      " 1570 1571 1572 1573 1574 1575 1576 1577 1578 1579 1580 1581 1582 1583\n",
      " 1584 1585 1586 1587 1588 1589 1590 1591 1592 1593 1594 1595 1596 1597\n",
      " 1598 1599 1600 1601 1602 1603 1604 1605 1606 1607 1608 1609 1610 1611\n",
      " 1612 1613 1614 1615 1616 1617 1618 1619 1620 1621 1622 1623 1624 1625\n",
      " 1626 1627 1628 1629 1630 1631 1632 1633 1634 1635 1636 1637 1638 1639\n",
      " 1640 1641 1642 1643 1644 1645 1646 1647 1648 1649 1650 1651 1652 1653\n",
      " 1654 1655 1656 1657 1658 1659 1660 1661 1662 1663 1664 1665 1666 1667\n",
      " 1668 1669 1670 1671 1672 1673 1674 1675 1676 1677 1678 1679 1680 1681\n",
      " 1682 1683 1684 1685 1686 1687 1688 1689 1690 1691 1692 1693 1694 1695\n",
      " 1696 1697 1698 1699 1700 1701 1702 1703 1704 1705 1706 1707 1708 1709\n",
      " 1710 1711 1712 1713 1714 1715 1716 1717 1718 1719 1720 1721 1722 1723\n",
      " 1724 1725 1726 1727 1728 1729 1730 1731 1732 1733 1734 1735 1736 1737\n",
      " 1738 1739 1740 1741 1742 1743 1744 1745 1746 1747 1748 1749 1750 1751\n",
      " 1752 1753 1754 1755 1756 1757 1758 1759 1760 1761 1762 1763 1764 1765\n",
      " 1766 1767 1768 1769 1770 1771 1772 1773 1774 1775 1776 1777 1778 1779\n",
      " 1780 1781 1782 1783 1784 1785 1786 1787 1788 1789 1790 1791 1792 1793\n",
      " 1794 1795 1796 1797 1798 1799 1800 1801 1802 1803 1804 1805 1806 1807\n",
      " 1808 1809 1810 1811 1812 1813 1814 1815 1816 1817 1818 1819 1820 1821\n",
      " 1822 1823 1824 1825 1826 1827 1828 1829 1830 1831 1832 1833 1834 1835\n",
      " 1836 1837 1838 1839 1840 1841 1842 1843 1844 1845 1846 1847 1848 1849\n",
      " 1850 1851 1852 1853 1854 1855 1856 1857 1858 1859 1860 1861 1862 1863\n",
      " 1864 1865 1866 1867 1868 1869 1870 1871 1872 1873 1874 1875 1876 1877\n",
      " 1878 1879 1880 1881 1882 1883 1884 1885 1886 1887 1888 1889 1890 1891\n",
      " 1892 1893 1894 1895 1896 1897 1898 1899 1900 1901 1902 1903 1904 1905\n",
      " 1906 1907 1908 1909 1910 1911 1912 1913 1914 1915 1916 1917 1918 1919\n",
      " 1920 1921 1922 1923 1924 1925 1926 1927 1928 1929 1930 1931 1932 1933\n",
      " 1934 1935 1936 1937 1938 1939 1940 1941 1942 1943 1944 1945 1946 1947\n",
      " 1948 1949 1950 1951 1952 1953 1954 1955 1956 1957 1958 1959 1960 1961\n",
      " 1962 1963 1964 1966 1968 1970 1971 1973 1974 1978 1980 1981 1983 1986\n",
      " 1989 1990 1998 1999 2001 2005 2007 2009 2012 2014 2016 2017 2018 2019\n",
      " 2022 2023 2024 2027 2030 2031]\n",
      "Train: [   0    1    2 ... 3321 3322 3323] Test: [1965 1967 1969 1972 1975 1976 1977 1979 1982 1984 1985 1987 1988 1991\n",
      " 1992 1993 1994 1995 1996 1997 2000 2002 2003 2004 2006 2008 2010 2011\n",
      " 2013 2015 2020 2021 2025 2026 2028 2029 2032 2033 2034 2035 2036 2037\n",
      " 2038 2039 2040 2041 2042 2043 2044 2045 2046 2047 2048 2049 2050 2051\n",
      " 2052 2053 2054 2055 2056 2057 2058 2059 2060 2061 2062 2063 2064 2065\n",
      " 2066 2067 2068 2069 2070 2071 2072 2073 2074 2075 2076 2077 2078 2079\n",
      " 2080 2081 2082 2083 2084 2085 2086 2087 2088 2089 2090 2091 2092 2093\n",
      " 2094 2095 2096 2097 2098 2099 2100 2101 2102 2103 2104 2105 2106 2107\n",
      " 2108 2109 2110 2111 2112 2113 2114 2115 2116 2117 2118 2119 2120 2121\n",
      " 2122 2123 2124 2125 2126 2127 2128 2129 2130 2131 2132 2133 2134 2135\n",
      " 2136 2137 2138 2139 2140 2141 2142 2143 2144 2145 2146 2147 2148 2149\n",
      " 2150 2151 2152 2153 2154 2155 2156 2157 2158 2159 2160 2161 2162 2163\n",
      " 2164 2165 2166 2167 2168 2169 2170 2171 2172 2173 2174 2175 2176 2177\n",
      " 2178 2179 2180 2181 2182 2183 2184 2185 2186 2187 2188 2189 2190 2191\n",
      " 2192 2193 2194 2195 2196 2197 2198 2199 2200 2201 2202 2203 2204 2205\n",
      " 2206 2207 2208 2209 2210 2211 2212 2213 2214 2215 2216 2217 2218 2219\n",
      " 2220 2221 2222 2223 2224 2225 2226 2227 2228 2229 2230 2231 2232 2233\n",
      " 2234 2235 2236 2237 2238 2239 2240 2241 2242 2243 2244 2245 2246 2247\n",
      " 2248 2249 2250 2251 2252 2253 2254 2255 2256 2257 2258 2259 2260 2261\n",
      " 2262 2263 2264 2265 2266 2267 2268 2269 2270 2271 2272 2273 2274 2275\n",
      " 2276 2277 2278 2279 2280 2281 2282 2283 2284 2285 2286 2287 2288 2289\n",
      " 2290 2291 2292 2293 2294 2295 2296 2297 2298 2299 2300 2301 2302 2303\n",
      " 2304 2305 2306 2307 2308 2309 2310 2311 2312 2313 2314 2315 2316 2317\n",
      " 2318 2319 2320 2321 2322 2323 2324 2325 2326 2327 2328 2329 2330 2331\n",
      " 2332 2333 2334 2335 2336 2337 2338 2339 2340 2341 2342 2343 2344 2345\n",
      " 2346 2347 2348 2349 2350 2351 2352 2353 2354 2355 2356 2357 2358 2359\n",
      " 2360 2361 2362 2363 2364 2365 2366 2367 2368 2369 2370 2371 2372 2373\n",
      " 2374 2375 2376 2377 2378 2379 2380 2381 2382 2383 2384 2385 2386 2387\n",
      " 2388 2389 2390 2391 2392 2393 2394 2395 2396 2397 2398 2399 2400 2401\n",
      " 2402 2403 2404 2405 2406 2407 2408 2409 2410 2411 2412 2413 2414 2415\n",
      " 2416 2417 2418 2419 2420 2421 2422 2423 2424 2425 2426 2427 2428 2429\n",
      " 2430 2431 2432 2433 2434 2435 2436 2437 2438 2439 2440 2441 2442 2443\n",
      " 2444 2445 2446 2447 2448 2449 2450 2451 2452 2453 2454 2455 2456 2457\n",
      " 2458 2459 2460 2461 2462 2463 2464 2465 2466 2467 2468 2469 2470 2471\n",
      " 2472 2473 2474 2475 2476 2477 2478 2479 2480 2481 2482 2483 2484 2485\n",
      " 2486 2487 2488 2489 2490 2491 2492 2493 2494 2495 2496 2497 2498 2499\n",
      " 2500 2501 2502 2503 2504 2505 2506 2507 2508 2509 2510 2511 2512 2513\n",
      " 2514 2515 2516 2517 2518 2519 2520 2521 2522 2523 2524 2525 2526 2527\n",
      " 2528 2529 2530 2531 2532 2533 2534 2535 2536 2537 2538 2539 2540 2541\n",
      " 2542 2543 2544 2545 2546 2547 2548 2549 2550 2551 2552 2553 2554 2555\n",
      " 2556 2557 2558 2559 2560 2561 2562 2563 2564 2565 2566 2567 2568 2569\n",
      " 2570 2571 2572 2573 2574 2575 2576 2577 2578 2579 2580 2581 2582 2583\n",
      " 2584 2585 2586 2587 2588 2589 2590 2591 2592 2593 2594 2595 2596 2597\n",
      " 2598 2599 2600 2601 2603 2604 2605 2606 2607 2608 2613 2615 2616 2617\n",
      " 2619 2620 2621 2625 2627 2628 2629 2630 2634 2635 2636 2638 2639 2640\n",
      " 2641 2643 2644 2645 2647 2648 2650 2654 2657 2658 2659 2661 2662 2664\n",
      " 2669 2670 2672 2673 2675 2676 2677 2681 2684 2685 2686 2687 2689 2690\n",
      " 2695 2700 2704 2707 2711 2713]\n",
      "Train: [   0    1    2 ... 2707 2711 2713] Test: [2602 2609 2610 2611 2612 2614 2618 2622 2623 2624 2626 2631 2632 2633\n",
      " 2637 2642 2646 2649 2651 2652 2653 2655 2656 2660 2663 2665 2666 2667\n",
      " 2668 2671 2674 2678 2679 2680 2682 2683 2688 2691 2692 2693 2694 2696\n",
      " 2697 2698 2699 2701 2702 2703 2705 2706 2708 2709 2710 2712 2714 2715\n",
      " 2716 2717 2718 2719 2720 2721 2722 2723 2724 2725 2726 2727 2728 2729\n",
      " 2730 2731 2732 2733 2734 2735 2736 2737 2738 2739 2740 2741 2742 2743\n",
      " 2744 2745 2746 2747 2748 2749 2750 2751 2752 2753 2754 2755 2756 2757\n",
      " 2758 2759 2760 2761 2762 2763 2764 2765 2766 2767 2768 2769 2770 2771\n",
      " 2772 2773 2774 2775 2776 2777 2778 2779 2780 2781 2782 2783 2784 2785\n",
      " 2786 2787 2788 2789 2790 2791 2792 2793 2794 2795 2796 2797 2798 2799\n",
      " 2800 2801 2802 2803 2804 2805 2806 2807 2808 2809 2810 2811 2812 2813\n",
      " 2814 2815 2816 2817 2818 2819 2820 2821 2822 2823 2824 2825 2826 2827\n",
      " 2828 2829 2830 2831 2832 2833 2834 2835 2836 2837 2838 2839 2840 2841\n",
      " 2842 2843 2844 2845 2846 2847 2848 2849 2850 2851 2852 2853 2854 2855\n",
      " 2856 2857 2858 2859 2860 2861 2862 2863 2864 2865 2866 2867 2868 2869\n",
      " 2870 2871 2872 2873 2874 2875 2876 2877 2878 2879 2880 2881 2882 2883\n",
      " 2884 2885 2886 2887 2888 2889 2890 2891 2892 2893 2894 2895 2896 2897\n",
      " 2898 2899 2900 2901 2902 2903 2904 2905 2906 2907 2908 2909 2910 2911\n",
      " 2912 2913 2914 2915 2916 2917 2918 2919 2920 2921 2922 2923 2924 2925\n",
      " 2926 2927 2928 2929 2930 2931 2932 2933 2934 2935 2936 2937 2938 2939\n",
      " 2940 2941 2942 2943 2944 2945 2946 2947 2948 2949 2950 2951 2952 2953\n",
      " 2954 2955 2956 2957 2958 2959 2960 2961 2962 2963 2964 2965 2966 2967\n",
      " 2968 2969 2970 2971 2972 2973 2974 2975 2976 2977 2978 2979 2980 2981\n",
      " 2982 2983 2984 2985 2986 2987 2988 2989 2990 2991 2992 2993 2994 2995\n",
      " 2996 2997 2998 2999 3000 3001 3002 3003 3004 3005 3006 3007 3008 3009\n",
      " 3010 3011 3012 3013 3014 3015 3016 3017 3018 3019 3020 3021 3022 3023\n",
      " 3024 3025 3026 3027 3028 3029 3030 3031 3032 3033 3034 3035 3036 3037\n",
      " 3038 3039 3040 3041 3042 3043 3044 3045 3046 3047 3048 3049 3050 3051\n",
      " 3052 3053 3054 3055 3056 3057 3058 3059 3060 3061 3062 3063 3064 3065\n",
      " 3066 3067 3068 3069 3070 3071 3072 3073 3074 3075 3076 3077 3078 3079\n",
      " 3080 3081 3082 3083 3084 3085 3086 3087 3088 3089 3090 3091 3092 3093\n",
      " 3094 3095 3096 3097 3098 3099 3100 3101 3102 3103 3104 3105 3106 3107\n",
      " 3108 3109 3110 3111 3112 3113 3114 3115 3116 3117 3118 3119 3120 3121\n",
      " 3122 3123 3124 3125 3126 3127 3128 3129 3130 3131 3132 3133 3134 3135\n",
      " 3136 3137 3138 3139 3140 3141 3142 3143 3144 3145 3146 3147 3148 3149\n",
      " 3150 3151 3152 3153 3154 3155 3156 3157 3158 3159 3160 3161 3162 3163\n",
      " 3164 3165 3166 3167 3168 3169 3170 3171 3172 3173 3174 3175 3176 3177\n",
      " 3178 3179 3180 3181 3182 3183 3184 3185 3186 3187 3188 3189 3190 3191\n",
      " 3192 3193 3194 3195 3196 3197 3198 3199 3200 3201 3202 3203 3204 3205\n",
      " 3206 3207 3208 3209 3210 3211 3212 3213 3214 3215 3216 3217 3218 3219\n",
      " 3220 3221 3222 3223 3224 3225 3226 3227 3228 3229 3230 3231 3232 3233\n",
      " 3234 3235 3236 3237 3238 3239 3240 3241 3242 3243 3244 3245 3246 3247\n",
      " 3248 3249 3250 3251 3252 3253 3254 3255 3256 3257 3258 3259 3260 3261\n",
      " 3262 3263 3264 3265 3266 3267 3268 3269 3270 3271 3272 3273 3274 3275\n",
      " 3276 3277 3278 3279 3280 3281 3282 3283 3284 3285 3286 3287 3288 3289\n",
      " 3290 3291 3292 3293 3294 3295 3296 3297 3298 3299 3300 3301 3302 3303\n",
      " 3304 3305 3306 3307 3308 3309 3310 3311 3312 3313 3314 3315 3316 3317\n",
      " 3318 3319 3320 3321 3322 3323]\n",
      "----------------------------------------------------------------------------------------------------\n",
      "Label Distributions: \n",
      "\n",
      "[0.25 0.25 0.25 0.25]\n",
      "[0.25 0.25 0.25 0.25]\n"
     ]
    }
   ],
   "source": [
    "# Stratified k fold splitting\n",
    "from sklearn.model_selection import train_test_split\n",
    "from sklearn.model_selection import StratifiedShuffleSplit\n",
    "from sklearn.model_selection import KFold, StratifiedKFold\n",
    "\n",
    "sss = StratifiedKFold(n_splits=5, random_state=None, shuffle=False)\n",
    "\n",
    "for train_index, test_index in sss.split(X, y):\n",
    "    print(\"Train:\", train_index, \"Test:\", test_index)\n",
    "    original_Xtrain, original_Xtest = X.iloc[train_index], X.iloc[test_index]\n",
    "    original_ytrain, original_ytest = y.iloc[train_index], y.iloc[test_index]\n",
    "\n",
    "# We already have X_train and y_train for undersample data thats why I am using original to distinguish and to not overwrite these variables.\n",
    "# original_Xtrain, original_Xtest, original_ytrain, original_ytest = train_test_split(X, y, test_size=0.2, random_state=42)\n",
    "\n",
    "# Check the Distribution of the labels\n",
    "\n",
    "\n",
    "# Turn into an array\n",
    "original_Xtrain = original_Xtrain.values\n",
    "original_Xtest = original_Xtest.values\n",
    "original_ytrain = original_ytrain.values\n",
    "original_ytest = original_ytest.values\n",
    "\n",
    "# See if both the train and test label distribution are similarly distributed\n",
    "train_unique_label, train_counts_label = np.unique(original_ytrain, return_counts=True)\n",
    "test_unique_label, test_counts_label = np.unique(original_ytest, return_counts=True)\n",
    "print('-' * 100)\n",
    "\n",
    "print('Label Distributions: \\n')\n",
    "print(train_counts_label/ len(original_ytrain))\n",
    "print(test_counts_label/ len(original_ytest))"
   ]
  },
  {
   "cell_type": "code",
   "execution_count": null,
   "metadata": {
    "colab": {
     "base_uri": "https://localhost:8080/",
     "height": 68
    },
    "colab_type": "code",
    "executionInfo": {
     "elapsed": 220971,
     "status": "ok",
     "timestamp": 1575349829876,
     "user": {
      "displayName": "Rama Tejaswini Thotapalli",
      "photoUrl": "https://lh3.googleusercontent.com/a-/AAuE7mBpMaGjBFE11eJu69cUWilJbjeSGwUVJcZggpfi7g=s64",
      "userId": "09709695417944250478"
     },
     "user_tz": 480
    },
    "id": "vtwm3IK0RViA",
    "outputId": "4db78f5a-9de0-4179-f39d-e705e5df8e1c"
   },
   "outputs": [
    {
     "data": {
      "text/plain": [
       "KNeighborsClassifier(algorithm='auto', leaf_size=30, metric='minkowski',\n",
       "                     metric_params=None, n_jobs=None, n_neighbors=10, p=2,\n",
       "                     weights='uniform')"
      ]
     },
     "execution_count": 51,
     "metadata": {
      "tags": []
     },
     "output_type": "execute_result"
    }
   ],
   "source": [
    "# K nearest neighbour classifier\n",
    "from sklearn.neighbors import KNeighborsClassifier\n",
    "neigh = KNeighborsClassifier(n_neighbors=10)\n",
    "neigh.fit(X_train, y_train)"
   ]
  },
  {
   "cell_type": "markdown",
   "metadata": {
    "colab_type": "text",
    "id": "SYhIHQ2Yvwbv"
   },
   "source": [
    "# Evaluations"
   ]
  },
  {
   "cell_type": "code",
   "execution_count": null,
   "metadata": {
    "colab": {
     "base_uri": "https://localhost:8080/",
     "height": 34
    },
    "colab_type": "code",
    "executionInfo": {
     "elapsed": 465396,
     "status": "ok",
     "timestamp": 1575350410069,
     "user": {
      "displayName": "Rama Tejaswini Thotapalli",
      "photoUrl": "https://lh3.googleusercontent.com/a-/AAuE7mBpMaGjBFE11eJu69cUWilJbjeSGwUVJcZggpfi7g=s64",
      "userId": "09709695417944250478"
     },
     "user_tz": 480
    },
    "id": "AB5hpJH7RViC",
    "outputId": "1b6fa1ac-9e72-4405-f6c2-706ca85dd28b"
   },
   "outputs": [
    {
     "name": "stdout",
     "output_type": "stream",
     "text": [
      "0.6573425984181197\n"
     ]
    }
   ],
   "source": [
    "# Accuracy metrics\n",
    "from sklearn.metrics import accuracy_score\n",
    "y_pred = neigh.predict(X_test)\n",
    "accuracy= accuracy_score(y_test, y_pred)\n",
    "print(accuracy)\n"
   ]
  },
  {
   "cell_type": "code",
   "execution_count": null,
   "metadata": {
    "colab": {
     "base_uri": "https://localhost:8080/",
     "height": 85
    },
    "colab_type": "code",
    "executionInfo": {
     "elapsed": 658,
     "status": "ok",
     "timestamp": 1575350475950,
     "user": {
      "displayName": "Rama Tejaswini Thotapalli",
      "photoUrl": "https://lh3.googleusercontent.com/a-/AAuE7mBpMaGjBFE11eJu69cUWilJbjeSGwUVJcZggpfi7g=s64",
      "userId": "09709695417944250478"
     },
     "user_tz": 480
    },
    "id": "z4UPTlL_LM0o",
    "outputId": "67a9b1b9-60d7-4cbd-a0bf-c7869b7ac8bd"
   },
   "outputs": [
    {
     "data": {
      "text/plain": [
       "array([[     0,    107,     19,      1],\n",
       "       [     0, 202884,  28616,    365],\n",
       "       [     0,  82052,  30819,    261],\n",
       "       [     0,   8029,   2547,    332]])"
      ]
     },
     "execution_count": 54,
     "metadata": {
      "tags": []
     },
     "output_type": "execute_result"
    }
   ],
   "source": [
    "# Confusion matrix\n",
    "from sklearn.metrics import confusion_matrix\n",
    "\n",
    "confusion_matrix(y_test, y_pred)\n"
   ]
  },
  {
   "cell_type": "code",
   "execution_count": null,
   "metadata": {
    "colab": {
     "base_uri": "https://localhost:8080/",
     "height": 173
    },
    "colab_type": "code",
    "executionInfo": {
     "elapsed": 490,
     "status": "ok",
     "timestamp": 1575351669117,
     "user": {
      "displayName": "Rama Tejaswini Thotapalli",
      "photoUrl": "https://lh3.googleusercontent.com/a-/AAuE7mBpMaGjBFE11eJu69cUWilJbjeSGwUVJcZggpfi7g=s64",
      "userId": "09709695417944250478"
     },
     "user_tz": 480
    },
    "id": "tmGU-gkwN6fd",
    "outputId": "d6c599f4-cab6-4ab5-b8c0-d10607b0ece8"
   },
   "outputs": [
    {
     "data": {
      "text/html": [
       "<div>\n",
       "<style scoped>\n",
       "    .dataframe tbody tr th:only-of-type {\n",
       "        vertical-align: middle;\n",
       "    }\n",
       "\n",
       "    .dataframe tbody tr th {\n",
       "        vertical-align: top;\n",
       "    }\n",
       "\n",
       "    .dataframe thead th {\n",
       "        text-align: right;\n",
       "    }\n",
       "</style>\n",
       "<table border=\"1\" class=\"dataframe\">\n",
       "  <thead>\n",
       "    <tr style=\"text-align: right;\">\n",
       "      <th></th>\n",
       "      <th>0</th>\n",
       "      <th>1</th>\n",
       "      <th>2</th>\n",
       "      <th>3</th>\n",
       "    </tr>\n",
       "  </thead>\n",
       "  <tbody>\n",
       "    <tr>\n",
       "      <th>0</th>\n",
       "      <td>0</td>\n",
       "      <td>107</td>\n",
       "      <td>19</td>\n",
       "      <td>1</td>\n",
       "    </tr>\n",
       "    <tr>\n",
       "      <th>1</th>\n",
       "      <td>0</td>\n",
       "      <td>202884</td>\n",
       "      <td>28616</td>\n",
       "      <td>365</td>\n",
       "    </tr>\n",
       "    <tr>\n",
       "      <th>2</th>\n",
       "      <td>0</td>\n",
       "      <td>82052</td>\n",
       "      <td>30819</td>\n",
       "      <td>261</td>\n",
       "    </tr>\n",
       "    <tr>\n",
       "      <th>3</th>\n",
       "      <td>0</td>\n",
       "      <td>8029</td>\n",
       "      <td>2547</td>\n",
       "      <td>332</td>\n",
       "    </tr>\n",
       "  </tbody>\n",
       "</table>\n",
       "</div>"
      ],
      "text/plain": [
       "   0       1      2    3\n",
       "0  0     107     19    1\n",
       "1  0  202884  28616  365\n",
       "2  0   82052  30819  261\n",
       "3  0    8029   2547  332"
      ]
     },
     "execution_count": 68,
     "metadata": {
      "tags": []
     },
     "output_type": "execute_result"
    }
   ],
   "source": [
    "# Plot of Confusion matrix\n",
    "import seaborn as sns\n",
    "\n",
    "df_cm = pd.DataFrame(\n",
    "        confusion_matrix(y_test, y_pred)\n",
    ")\n",
    "df_cm\n"
   ]
  },
  {
   "cell_type": "code",
   "execution_count": null,
   "metadata": {
    "colab": {
     "base_uri": "https://localhost:8080/",
     "height": 312
    },
    "colab_type": "code",
    "executionInfo": {
     "elapsed": 440,
     "status": "ok",
     "timestamp": 1575351579126,
     "user": {
      "displayName": "Rama Tejaswini Thotapalli",
      "photoUrl": "https://lh3.googleusercontent.com/a-/AAuE7mBpMaGjBFE11eJu69cUWilJbjeSGwUVJcZggpfi7g=s64",
      "userId": "09709695417944250478"
     },
     "user_tz": 480
    },
    "id": "wrn_RWXdRRM-",
    "outputId": "49da9717-ef5b-4d4a-c81f-d7f55b35cc1d"
   },
   "outputs": [
    {
     "data": {
      "image/png": "[encoded data removed]",
      "text/plain": [
       "<Figure size 432x288 with 2 Axes>"
      ]
     },
     "metadata": {
      "tags": []
     },
     "output_type": "display_data"
    },
    {
     "data": {
      "text/plain": [
       "<Figure size 288x288 with 0 Axes>"
      ]
     },
     "metadata": {
      "tags": []
     },
     "output_type": "display_data"
    }
   ],
   "source": [
    "ax= plt.subplot()\n",
    "plt.figure(figsize = (4,4))\n",
    "sns.heatmap(df_cm, annot=True, ax = ax,fmt='d'); #annot=True to annotate cells\n",
    "ax.set_xlabel('Predicted labels');ax.set_ylabel('True labels'); \n",
    "ax.set_title('Confusion Matrix'); \n",
    "#ax.xaxis.set_ticklabels(target_names); ax.yaxis.set_ticklabels(target_names);"
   ]
  },
  {
   "cell_type": "code",
   "execution_count": null,
   "metadata": {
    "colab": {
     "base_uri": "https://localhost:8080/",
     "height": 88
    },
    "colab_type": "code",
    "executionInfo": {
     "elapsed": 107460,
     "status": "ok",
     "timestamp": 1575241684600,
     "user": {
      "displayName": "Rama Tejaswini Thotapalli",
      "photoUrl": "https://lh3.googleusercontent.com/a-/AAuE7mBpMaGjBFE11eJu69cUWilJbjeSGwUVJcZggpfi7g=s64",
      "userId": "09709695417944250478"
     },
     "user_tz": 480
    },
    "id": "iibC9wEUTFbC",
    "outputId": "b7ec97bc-8b85-4e19-c607-d685ac543454"
   },
   "outputs": [
    {
     "name": "stderr",
     "output_type": "stream",
     "text": [
      "/usr/local/lib/python3.6/dist-packages/sklearn/linear_model/logistic.py:947: ConvergenceWarning: lbfgs failed to converge. Increase the number of iterations.\n",
      "  \"of iterations.\", ConvergenceWarning)\n"
     ]
    },
    {
     "data": {
      "text/plain": [
       "0.6503373301763049"
      ]
     },
     "execution_count": 45,
     "metadata": {
      "tags": []
     },
     "output_type": "execute_result"
    }
   ],
   "source": [
    "# Logistic regression\n",
    "from sklearn.linear_model import LogisticRegression\n",
    "clf = LogisticRegression(random_state=0, solver='lbfgs', multi_class='multinomial').fit(X_train, y_train)\n",
    "clf.predict(X_test)\n",
    "clf.score(X_train, y_train)"
   ]
  },
  {
   "cell_type": "code",
   "execution_count": null,
   "metadata": {
    "colab": {},
    "colab_type": "code",
    "id": "UPe-UwOJCaAR"
   },
   "outputs": [],
   "source": [
    "# Support vector machines\n",
    "from sklearn.svm import SVC\n",
    "clf3 = SVC(gamma='auto')\n",
    "clf3.fit(X_train, y_train)\n",
    "clf3.score(X_train, y_train)\n",
    "y_pred_svm = clf3.predict(X_test)\n",
    "accuracy_svm = accuracy_score(y_test, y_pred_svm)\n",
    "print(accuracy_svm)"
   ]
  },
  {
   "cell_type": "code",
   "execution_count": null,
   "metadata": {
    "colab": {
     "base_uri": "https://localhost:8080/",
     "height": 34
    },
    "colab_type": "code",
    "executionInfo": {
     "elapsed": 195546,
     "status": "ok",
     "timestamp": 1575353574799,
     "user": {
      "displayName": "Rama Tejaswini Thotapalli",
      "photoUrl": "https://lh3.googleusercontent.com/a-/AAuE7mBpMaGjBFE11eJu69cUWilJbjeSGwUVJcZggpfi7g=s64",
      "userId": "09709695417944250478"
     },
     "user_tz": 480
    },
    "id": "zZk2IbfJ_sJz",
    "outputId": "d8fd14fd-8c9b-4864-e21a-d28583766781"
   },
   "outputs": [
    {
     "name": "stdout",
     "output_type": "stream",
     "text": [
      "Accuracy: 0.6512476406615135\n"
     ]
    }
   ],
   "source": [
    "# Adaboost classifier\n",
    "from sklearn.ensemble import AdaBoostClassifier\n",
    "abc = AdaBoostClassifier(n_estimators=50,\n",
    "                         learning_rate=0.08)\n",
    "# Train Adaboost Classifer\n",
    "model = abc.fit(X_train, y_train)\n",
    "\n",
    "#Predict the response for test dataset\n",
    "y_pred = model.predict(X_test)\n",
    "print(\"Accuracy:\",accuracy_score(y_test, y_pred))"
   ]
  },
  {
   "cell_type": "markdown",
   "metadata": {
    "colab_type": "text",
    "id": "wxl5IlqnwAV7"
   },
   "source": [
    " <h1>FINAL ACCURACY</h1>"
   ]
  },
  {
   "cell_type": "code",
   "execution_count": 11,
   "metadata": {
    "colab": {
     "base_uri": "https://localhost:8080/",
     "height": 265
    },
    "colab_type": "code",
    "id": "y72QimHdukw0",
    "outputId": "3d58b622-256d-4689-cde4-314779667aea"
   },
   "outputs": [
    {
     "data": {
      "image/png": "[encoded data removed]",
      "text/plain": [
       "<Figure size 432x288 with 1 Axes>"
      ]
     },
     "metadata": {
      "needs_background": "light"
     },
     "output_type": "display_data"
    }
   ],
   "source": [
    "#test\n",
    "from matplotlib.ticker import FuncFormatter\n",
    "import matplotlib.pyplot as plt\n",
    "import numpy as np\n",
    "\n",
    "x = np.arange(4)\n",
    "accuracy = [80.14, 84.86,75, 79]\n",
    "\n",
    "\n",
    "def millions(x, pos):\n",
    "    'The two args are the value and tick position'\n",
    "    return (x )\n",
    "\n",
    "\n",
    "formatter = FuncFormatter(millions)\n",
    "\n",
    "fig, ax = plt.subplots()\n",
    "ax.yaxis.set_major_formatter(formatter)\n",
    "plt.bar(x, accuracy)\n",
    "plt.xticks(x, ('DTree', 'RF','KNN', 'LR'))\n",
    "plt.show()"
   ]
  },
  {
   "cell_type": "code",
   "execution_count": null,
   "metadata": {
    "colab": {},
    "colab_type": "code",
    "id": "2yFH9pgsz0VQ"
   },
   "outputs": [],
   "source": []
  }
 ],
 "metadata": {
  "accelerator": "TPU",
  "colab": {
   "collapsed_sections": [],
   "name": "Preprocessing.ipynb",
   "provenance": []
  },
  "kernelspec": {
   "display_name": "Python 3",
   "language": "python",
   "name": "python3"
  },
  "language_info": {
   "codemirror_mode": {
    "name": "ipython",
    "version": 3
   },
   "file_extension": ".py",
   "mimetype": "text/x-python",
   "name": "python",
   "nbconvert_exporter": "python",
   "pygments_lexer": "ipython3",
   "version": "3.8.8"
  },
  "toc-autonumbering": false,
  "toc-showcode": false,
  "toc-showmarkdowntxt": true
 },
 "nbformat": 4,
 "nbformat_minor": 4
}
